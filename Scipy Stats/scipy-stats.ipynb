{
 "cells": [
  {
   "cell_type": "markdown",
   "id": "37d94f98-5418-4a3d-bf74-c894f01746e2",
   "metadata": {},
   "source": [
    "\n",
    "## Scipy-Stats Jupyter Assessment Part 2"
   ]
  },
  {
   "cell_type": "markdown",
   "id": "073d7fa9-55df-40ed-8678-27c6fa977362",
   "metadata": {},
   "source": [
    "### Project tasks outlined : \n",
    "\n",
    "1. An overview of the Scipy-Stats Python library \n",
    "\n",
    "2. Overview of a one-way ANOVA \n",
    "\n",
    "3. Analysis of diets dataset. Download the dataset \n",
    "\n",
    "4. Import the diet data set with the function read.csv()\n",
    "\n",
    "5. Define a new column weight loss = the difference between the initial and final weights\n",
    "\n",
    "6. Display weight loss per diet type (column diet.type) by means of a boxplot.\n",
    "\n",
    "7. Perform a one-way ANOVA, respectively by means of the scipy-stats package in python\n",
    "\n",
    "8. Display and analyze the results: perform a post hoc test\n",
    "---------------------------------------------------------------------------------------------------------------"
   ]
  },
  {
   "cell_type": "markdown",
   "id": "49b41dec-ba24-49c5-a9f8-615ba4fc0117",
   "metadata": {},
   "source": [
    "### Overview of Scipy-stats Python Library <sup>[1][2]</sup>\n",
    "\n",
    "\n",
    "Scipy-stats is the statistical functions subpackage containing algorithms of the SciPy library.It is an open sources environment which mean it is constantly been updated. It is used in conjunction with other python packages such as Pandas and Numpy.\n",
    "\n",
    "The following are just some of its features :\n",
    "\n",
    "1. ##### **Probabilistic distributions-** \n",
    "          This describes all the possible values and likelihoods that a random variable can take within a given range. Continous and discrete random variables have mostly the same basic methods between them\n",
    "2. ##### **Statistical operations -**\n",
    "        Summary and Frequency statistics Gives details of the random variable data e,g mean , median and mode or the frequency of this data - how many times a variable data appears.\n",
    "3. ##### **Statistical Tests-**\n",
    "        e.g T-tests - showing how significant the differences between data groups , measured in means\n",
    "4. ##### **Correlation Functions -**\n",
    "        statistical correlation between random variables. E.g One- Way ANOVA\n",
    "5. ##### **Kernel density estimation -**\n",
    "        This is an efficient tool for estimation of the probability density function using histograms as a tool for visualization. The gaussian_kde estimator can be used to estimate both univariate and multivariate data.\n",
    "6. ##### **Quasi- Monte Carlo functionality -**\n",
    "        Firstly Monte Carlo integration functionality is a class of algorithms that rely on pseudo-random numbers whereas Quasi Monte Carlo integration uses sub random sequences of numbers which has the advantage of a faster rate of convergence. These are popular in the world of mathematical and computational finance\n",
    "\n",
    "\n",
    "-----------------------------------------------------------------------------------\n"
   ]
  },
  {
   "cell_type": "markdown",
   "id": "2c2e4eb5-87ae-493b-b252-7a23e66f7f27",
   "metadata": {},
   "source": [
    "### Overview of a One-Way Anova - Correlation Function of Scipy- Stats in Python : <sup>[3]</sup>"
   ]
  },
  {
   "cell_type": "markdown",
   "id": "f5be7017-6b7f-45fd-8d61-aa15184aa48f",
   "metadata": {},
   "source": [
    "<center><img src=\"https://pingouin-stats.org/_images/flowchart_one_way_ANOVA.svg\" width=\"1000\"/><Center>\n",
    "    \n",
    "    <center> Ref : https://pingouin-stats.org/guidelines.html <center>"
   ]
  },
  {
   "cell_type": "markdown",
   "id": "c20fe4bd-0bfd-435f-8d6c-99ab4ae895d6",
   "metadata": {},
   "source": [
    "### **Aim**: Using scipy-stats to perform a one- way ANOVA on a dataset example\n",
    "\n",
    "    \n",
    "ANOVA stands for Analysis of Variance analysis. It uses F-tests to statistically test the equality of means. Named after Sir Ronald Fisher of the iris dataset fame. It tests the null hypothesis : "
   ]
  },
  {
   "cell_type": "markdown",
   "id": "345cde9a-c847-43ce-80d7-83e10fde6741",
   "metadata": {},
   "source": [
    "\n",
    "<center><img src=\"https://statistics.laerd.com/statistical-guides/img/one-way-anova-null-hypothesis.png\" alt=\"drawing\" width=\"500\"/><Center>\n",
    "    \n",
    "    <center> Ref : https://statistics.laerd.com/statistical-guides/img/one-way-anova-null-hypothesis.png <center>\n"
   ]
  },
  {
   "cell_type": "markdown",
   "id": "28927d36-dd57-4d2f-89ad-cb732272a67d",
   "metadata": {},
   "source": [
    "\n",
    "Where \n",
    "     µ = group mean \n",
    "     k = number of groups.\n",
    "     \n",
    "     \n",
    "This null hypothesis equation demonstrates that the means are the same , however if after performing a one way anova test and the result is not the case , then we can reject the null hypothesis and the alternative is that the means are statiscally different. \n",
    "\n",
    "Also it is important to also realise that after the result to reject the hypothesis we will still not know which diet is the most successful one and therefore we must look at Post hoc tests . According to the schematic diagram above , following a one way anova , the post hoc test to use is the TUKEY-HSD - pairwise_tukey(). \n",
    "\n",
    "**Diet Dataset**\n",
    "\n",
    "We are going to examine a dataset that looks at 3 different diets and their effects on a group of 78 people. We want to see if there is a direct relationship between each of the diets and the calculated weight loss ( if any) of the 78 people.  \n",
    "\n",
    "The variables looked at are Gender , Age , Height , Preweight , Diet and weight after 6 weeks , the weight loss calculated was also added to the csv file before importing it. The independent variable is diet\n",
    "\n",
    "Dataset Reference : <sup>[4]</sup>\n",
    "\n",
    "https://www.sheffield.ac.uk/mash/statistics/datasets\n",
    "\n",
    "This data set contains information on 78 people using one of three diets:\n",
    "\n",
    "| Variable Name   \t| Variable                        \t| Data Type \t|\n",
    "|-----------------\t|---------------------------------\t|-----------\t|\n",
    "| People          \t| Particular Number               \t|           \t|\n",
    "| Gender          \t| 1= Male, 0 = Female             \t| Binary    \t|\n",
    "| Age             \t| Age ( years)                    \t| Scale     \t|\n",
    "| Height          \t| Height(cm)                      \t| Scale     \t|\n",
    "| Preweight       \t| Weight before the diet (kg)     \t| Scale     \t|\n",
    "| Diet            \t| Diet                            \t| Binary    \t|\n",
    "| Weight 6 weeks \t| Weight after 6 weeks (kg)      \t| Scale     \t|"
   ]
  },
  {
   "cell_type": "markdown",
   "id": "1b5ecfda-80ce-44ab-86fb-e7554838df0e",
   "metadata": {},
   "source": [
    "### Importing Libraries"
   ]
  },
  {
   "cell_type": "code",
   "execution_count": null,
   "id": "33edae33-5d3c-47dc-9779-025f987c6abf",
   "metadata": {},
   "outputs": [],
   "source": [
    "# Data frames.\n",
    "import pandas as pd\n",
    "\n",
    "# Plotting.\n",
    "import seaborn as sns\n",
    "\n",
    "# Stats.\n",
    "import scipy.stats as ss\n",
    "\n",
    "# Numerical arrays.\n",
    "import numpy as np\n",
    "\n",
    "# Collections.\n",
    "import collections as co\n",
    "\n",
    "# Specials.\n",
    "import scipy.special as spec\n",
    " \n",
    "import pylab\n",
    "import matplotlib.pyplot as plt\n",
    "# For plotting \n",
    "import plotly as py\n",
    "import plotly.graph_objects as go\n",
    "from plotly.offline import iplot\n",
    "import plotly.express as px\n",
    "\n",
    "import statsmodels.api as sm\n",
    "from statsmodels.formula.api import ols"
   ]
  },
  {
   "cell_type": "markdown",
   "id": "08ed7579-f886-41df-ae00-dcd738bf39c3",
   "metadata": {},
   "source": [
    "### Importing the Database"
   ]
  },
  {
   "cell_type": "code",
   "execution_count": null,
   "id": "67a6d900-a5da-4f14-acb9-3bf5e4990078",
   "metadata": {},
   "outputs": [],
   "source": [
    "df = pd.read_csv(r'C:\\Users\\User\\Desktop\\repo\\Machine-learning-and-Statistics\\Scipy Stats\\Diet_R.csv')\n",
    "df"
   ]
  },
  {
   "cell_type": "code",
   "execution_count": null,
   "id": "5f2bf046-a0f8-4400-9b6c-d9f784548d35",
   "metadata": {},
   "outputs": [],
   "source": [
    "#observation size\n",
    "df.shape[0]   # number of observations"
   ]
  },
  {
   "cell_type": "markdown",
   "id": "419826e6-7911-49a1-835e-bdb8a0c1badf",
   "metadata": {},
   "source": [
    "## Correlation Matrix  <sup>[5]</sup>"
   ]
  },
  {
   "cell_type": "code",
   "execution_count": null,
   "id": "3d4e7d36-b8b0-448b-9ac4-617c245126e4",
   "metadata": {},
   "outputs": [],
   "source": [
    "df.corr().round (3)"
   ]
  },
  {
   "cell_type": "code",
   "execution_count": null,
   "id": "9d0fa0eb-d606-4e12-9bd2-15df23eed1dd",
   "metadata": {},
   "outputs": [],
   "source": [
    "corr= df.corr()\n",
    "corr.style.background_gradient(cmap='coolwarm')"
   ]
  },
  {
   "cell_type": "code",
   "execution_count": null,
   "id": "a3c06d0b-eca3-4cd3-a1e9-6b110ff24ce0",
   "metadata": {},
   "outputs": [],
   "source": [
    "df.groupby (\"Diet\")[\"Weight loss\"].describe()"
   ]
  },
  {
   "cell_type": "markdown",
   "id": "01b1561c-3d38-473c-a401-90dc1b0072b2",
   "metadata": {},
   "source": [
    "By grouping the diet and weight loss together and running the descibe() on it , we can see that diet 3 is the better diet to do as the mean weight is greater. The standard deviations are similar which can mean that the weight loss between each group is evenly spread out as well. "
   ]
  },
  {
   "cell_type": "markdown",
   "id": "f61df8bf-4ea7-4be8-81c4-a980711594f8",
   "metadata": {},
   "source": [
    "### Formulate the hyptheses of the One-Way ANOVA of 'Diet' variable with the 'Weight loss\" variable\n",
    "\n",
    "H₀ (Null hypothesis) — that there is no difference among the 3 diet group weight loss means.\n",
    "H₁ (Alternate hypothesis) — that at least one diet group weight loss mean differs significantly from the overall mean of the dependent variable."
   ]
  },
  {
   "cell_type": "markdown",
   "id": "e80995f0-ec25-40e5-9563-4ab694bea36c",
   "metadata": {},
   "source": [
    "### The importance of Assumptions in Statistically analysis :<sup>[3]</sup>\n",
    "\n",
    "\n",
    "In order to perform a one-way ANOVA , we need to make sure that the data is sufficient. By this we mean that it needs to meet 6 assumptions, this would requirement would ensure that the end result of the correlation test would be valid. \n",
    "It is possible that some of these assumption might not be met by the choosen data , however there are solutions to overcome this. The data from the diet dataset are examined under each of the assumptions below : "
   ]
  },
  {
   "cell_type": "markdown",
   "id": "f40c25f8-e497-4370-ab24-35349642e166",
   "metadata": {},
   "source": [
    "### Assumption 1: Dependent variable\n",
    "*************************************\n",
    "\n",
    "A dependent variable should be measure at a continous interval level. \n",
    "\n",
    "Diet dataset dependent variable = Weight loss but also looking that gender as well .\n",
    "\n",
    "Gender details : \n",
    "\n",
    "\n",
    "0 = Female\n",
    "1= Male\n"
   ]
  },
  {
   "cell_type": "code",
   "execution_count": null,
   "id": "2fe06cc7-6700-44ad-b206-5fadfe6c319a",
   "metadata": {},
   "outputs": [],
   "source": [
    "# The dependent variable.  Gender = Male\n",
    "dependent= df['Weight loss']\n",
    "dependent"
   ]
  },
  {
   "cell_type": "code",
   "execution_count": null,
   "id": "01f53d9a-bca0-4be1-8118-0d593fc5696d",
   "metadata": {},
   "outputs": [],
   "source": [
    "# The dependent variable.  Gender = Male\n",
    "dependentM= df['Weight loss'][df.gender=='1']\n",
    "dependentM"
   ]
  },
  {
   "cell_type": "code",
   "execution_count": null,
   "id": "27273134-f72b-497a-9879-676f1ad7f9e1",
   "metadata": {},
   "outputs": [],
   "source": []
  },
  {
   "cell_type": "code",
   "execution_count": null,
   "id": "0bb39bb8-8367-4d97-8dc9-7cc65a89a070",
   "metadata": {},
   "outputs": [],
   "source": [
    "# The dependent variable.  Gender = Female\n",
    "dependentF= df['Weight loss'][df.gender=='0']\n",
    "dependentF"
   ]
  },
  {
   "cell_type": "code",
   "execution_count": null,
   "id": "7fc6a14b-bfba-4abc-a510-e10e97abd68f",
   "metadata": {},
   "outputs": [],
   "source": [
    "dependent.describe()"
   ]
  },
  {
   "cell_type": "markdown",
   "id": "2327fe73-76b4-4587-97c1-978cd2c4fe02",
   "metadata": {},
   "source": [
    "### Assumption 2: Independent variable\n",
    "*************************************\n",
    "This should consist of 2 or more categorical independent groups  : Diet ( 1/2/3) "
   ]
  },
  {
   "cell_type": "code",
   "execution_count": null,
   "id": "d2ea94bd-01f3-44dd-aa2f-03fdb51ece13",
   "metadata": {},
   "outputs": [],
   "source": [
    "# Independent variable\n",
    "independent = df['Diet']\n",
    "independent"
   ]
  },
  {
   "cell_type": "code",
   "execution_count": null,
   "id": "4525683b-223f-4814-9a37-e57c830911a5",
   "metadata": {},
   "outputs": [],
   "source": [
    "# Independent variable. Gender = Male\n",
    "independentM = df['Diet'][df.gender=='1']\n",
    "independentM"
   ]
  },
  {
   "cell_type": "code",
   "execution_count": null,
   "id": "92836fb1-b3ca-473a-851b-1d49f7b54984",
   "metadata": {},
   "outputs": [],
   "source": [
    "# Independent variable. Gender = Female\n",
    "independentF = df['Diet'][df.gender=='0']\n",
    "independentF"
   ]
  },
  {
   "cell_type": "markdown",
   "id": "f46520e6-b10d-48fe-be42-7c5cf698b272",
   "metadata": {},
   "source": [
    "### Assumption 3: Independence of Observations\n",
    "\n",
    "\n",
    "*************************************************\n",
    "\n",
    "There is no relationship between the observations in each group or between the groups themselves. So for example , each participant in the diet test , should only be on one of the diets. This assumption is true. This should be taken into account at the start or at the design phase before testing. \n"
   ]
  },
  {
   "cell_type": "markdown",
   "id": "65ff7880-8fe4-4d7e-9769-e320e609fe0b",
   "metadata": {},
   "source": [
    "### Assumption 4: Outliers <sup>[6][7]</sup>\n",
    "*************************************************"
   ]
  },
  {
   "attachments": {
    "8171567f-3539-4920-b62a-546271cc8dd2.png": {
     "image/png": "[encoded data removed]"
    }
   },
   "cell_type": "markdown",
   "id": "8eb82734-68c1-4288-957b-e9f035bd44c9",
   "metadata": {},
   "source": [
    "We draw a box plot to show distributions by breaking down the data in to quartiles. The boxplot shows the quartiles of the dataset while the whiskers extend to show the rest of the distribution, then symbols are displayed for outliers that fall outside the whiskers.Outliers are the unusual values in a dataset and can have a negative effect on the ANOVA statistical analysis- leading to distortion of results or unsure findings\n",
    "Boxplots is a good method if you have multiple distributions\n",
    "\n",
    "![image.png](attachment:8171567f-3539-4920-b62a-546271cc8dd2.png)! \n",
    "\n",
    "What does a boxplot tell us apart from the presence or not of outliers ?\n",
    "\n",
    "- if a distribution is symmetrical  , the length of the box and whiskers on both sides of the median should be approx equal \n",
    "if not the data distribution is skewed\n",
    "\n"
   ]
  },
  {
   "cell_type": "markdown",
   "id": "373d5277-fcfb-4ef5-89ee-26f70c7c7097",
   "metadata": {},
   "source": [
    "Using the plotly express package in python , we created a boxplot with go.Box from the plotly.graph objects.Its just another way of illustrating the variables\n"
   ]
  },
  {
   "cell_type": "code",
   "execution_count": null,
   "id": "64cd7303-19a6-4990-b60b-5d0055b713ed",
   "metadata": {},
   "outputs": [],
   "source": [
    "fig = go.Figure()\n",
    "\n",
    "fig.add_trace(go.Box(y=df.Age.values, name = \"Age\"))\n",
    "fig.add_trace(go.Box(y=df.Height.values, name = \"Height\"))\n",
    "fig.add_trace(go.Box(y=df[\"pre.weight\"].values, name = \"Start weight\"))\n",
    "fig.add_trace(go.Box(y=df[\"Weight loss\"].values, name = \"Finish weight\"))\n",
    "\n",
    "fig.show()"
   ]
  },
  {
   "cell_type": "code",
   "execution_count": null,
   "id": "10d98a09-0a09-49cd-915f-d0ffed7cd098",
   "metadata": {},
   "outputs": [],
   "source": [
    "_ = df.boxplot('Weight loss', by='Diet')"
   ]
  },
  {
   "cell_type": "markdown",
   "id": "01c0a5e3-8b97-48b4-8de4-e01a9f02df48",
   "metadata": {},
   "source": [
    "So looking at the box plot of out diet dataset variables , we see that diet 1 and 2 have the same median but diet 2 has more variability . Diet 3 median value is greater than 1 and 2 and has more variability in weight loss. There is also the appearance of 2 outliers for diet 1."
   ]
  },
  {
   "cell_type": "markdown",
   "id": "e1570a1d-a994-4811-805a-e15d5442d5ab",
   "metadata": {},
   "source": [
    "### Assumption 5: Normality <sup>[8]</sup>\n",
    "*******************************************"
   ]
  },
  {
   "cell_type": "markdown",
   "id": "73b3260c-56cf-42ea-85ca-844684f1f3e5",
   "metadata": {},
   "source": [
    "\n",
    "Anova assumes that each samples was drawn from a normally distributed population. To check this assumption we look at 2 approaches : \n",
    "\n",
    "1. Visually using histograms or Q-Q plots\n",
    "\n",
    "\n",
    "\n",
    "\n",
    "\n",
    "2. Formal statisticals test : Shapiro-Wilk \n",
    "\n",
    "This is the most powerful test when testing for a normal distribution. Developed specifically for the normal distribution. \n",
    "Normal distribution is assumed if the P-value >0.05  \n"
   ]
  },
  {
   "cell_type": "code",
   "execution_count": null,
   "id": "24cc237f-4ffb-40dd-98d0-d8a37b0e6871",
   "metadata": {},
   "outputs": [],
   "source": [
    "# KDEs of the three categories.\n",
    "sns.displot(x=dependent, hue=independent, kind=\"kde\")"
   ]
  },
  {
   "cell_type": "code",
   "execution_count": null,
   "id": "0c2cf6b2-a508-402f-a435-6211e0e79347",
   "metadata": {},
   "outputs": [],
   "source": [
    "# KDEs of the three categories.\n",
    "sns.displot(x=dependentM, hue=independentM, kind=\"kde\")"
   ]
  },
  {
   "cell_type": "code",
   "execution_count": null,
   "id": "574fcd78-3c54-4c8d-b732-b4c0e4fc1438",
   "metadata": {},
   "outputs": [],
   "source": [
    "# KDEs of the three categories.\n",
    "sns.displot(x=dependentF, hue=independentF, kind=\"kde\")"
   ]
  },
  {
   "cell_type": "code",
   "execution_count": null,
   "id": "7e4e738f-3403-4766-97e7-a2af22a40fe9",
   "metadata": {},
   "outputs": [],
   "source": [
    "# Extract the Male weight losses for diet 1.\n",
    "Weightloss_1 = dependentM[independentM == 1]\n",
    "Weightloss_1"
   ]
  },
  {
   "cell_type": "code",
   "execution_count": null,
   "id": "2c6d8ba3-ea34-4256-8914-b245d702b860",
   "metadata": {},
   "outputs": [],
   "source": [
    "# Extract the Female weight losses for diet 1.\n",
    "Weightloss_1 = dependentF[independentF == 1]\n",
    "Weightloss_1"
   ]
  },
  {
   "cell_type": "code",
   "execution_count": null,
   "id": "46d996e2-3558-474c-9051-7a8fb15a89a5",
   "metadata": {},
   "outputs": [],
   "source": [
    "# Extract the male weight losses for diet 2.\n",
    "Weightloss_2 = dependentM[independentM == 2]\n",
    "Weightloss_2"
   ]
  },
  {
   "cell_type": "code",
   "execution_count": null,
   "id": "077db434-b3bf-41aa-bc6d-7c3f27a8387b",
   "metadata": {},
   "outputs": [],
   "source": [
    "# Extract the Female weight losses for diet 2.\n",
    "Weightloss_2 = dependentF[independentF == 2]\n",
    "Weightloss_2"
   ]
  },
  {
   "cell_type": "code",
   "execution_count": null,
   "id": "15a1b770-8507-4da0-929c-cd40a80e2e92",
   "metadata": {},
   "outputs": [],
   "source": [
    "# Extract the weight losses for diet 3.\n",
    "Weightloss_3 = dependentM[independentM == 3]\n",
    "Weightloss_3"
   ]
  },
  {
   "cell_type": "code",
   "execution_count": null,
   "id": "8c49e453-3dc6-44e3-9f6a-01609c810d2c",
   "metadata": {},
   "outputs": [],
   "source": [
    "# Extract the Female weight losses for diet 3.\n",
    "Weightloss_3 = dependentF[independentF == 3]\n",
    "Weightloss_3"
   ]
  },
  {
   "cell_type": "code",
   "execution_count": null,
   "id": "4fb78d71-c6e5-4513-b69e-75e5aa028cfa",
   "metadata": {},
   "outputs": [],
   "source": [
    "### Using the Shapiro- Wilk test for normality : <sup>[9]</sup>\n",
    "\n",
    "Scipy-stats = ss.shapiro \n",
    "\n",
    "The hypothese is that the data is normality distributed \n",
    "\n",
    "Results : p value > .05  Accept the null hypothesis \n",
    "        P value is < 0.05  reject the hypothesis. "
   ]
  },
  {
   "cell_type": "code",
   "execution_count": null,
   "id": "2e54c5c4-b902-4316-b19f-3e1a2eba48a3",
   "metadata": {},
   "outputs": [],
   "source": [
    "# Run the Shapiro-Wilk test. \n",
    "ss.shapiro(dependent[independent == 1])"
   ]
  },
  {
   "cell_type": "code",
   "execution_count": null,
   "id": "d3784ea6-df37-44d5-b382-349cfd256b0a",
   "metadata": {},
   "outputs": [],
   "source": [
    "# Run the Shapiro-Wilk test.  \n",
    "ss.shapiro(dependent[independent == 2])"
   ]
  },
  {
   "cell_type": "code",
   "execution_count": null,
   "id": "0f75d07e-f69f-4fca-89f3-2cbb90f60d89",
   "metadata": {},
   "outputs": [],
   "source": [
    "# Run the Shapiro-Wilk test.  \n",
    "ss.shapiro(dependent[independent == 3])"
   ]
  },
  {
   "cell_type": "code",
   "execution_count": null,
   "id": "39b7a643-3f65-4f93-a968-7596506cc278",
   "metadata": {},
   "outputs": [],
   "source": [
    "# Run the Shapiro-Wilk test.  DIET 1 GENDER : MALE\n",
    "ss.shapiro(dependentM[independentM == 1])"
   ]
  },
  {
   "cell_type": "code",
   "execution_count": null,
   "id": "9ccb5385-2737-4fd1-92e0-064f4a80e54e",
   "metadata": {},
   "outputs": [],
   "source": [
    "# Run the Shapiro-Wilk test.  DIET 1 GENDER : FEMALE\n",
    "ss.shapiro(dependentF[independentF == 1])"
   ]
  },
  {
   "cell_type": "code",
   "execution_count": null,
   "id": "c0e957c7-2288-41da-bc54-5e017a55d50c",
   "metadata": {},
   "outputs": [],
   "source": [
    "# Run the Shapiro-Wilk test.  DIET 2 GENDER : MALE\n",
    "ss.shapiro(dependentM[independentM == 2])"
   ]
  },
  {
   "cell_type": "code",
   "execution_count": null,
   "id": "15d6b9bf-f303-4346-b1f4-3cc9f5846677",
   "metadata": {},
   "outputs": [],
   "source": [
    "# Run the Shapiro-Wilk test.  DIET 2 GENDER : FEMALE\n",
    "ss.shapiro(dependentF[independentF == 2])"
   ]
  },
  {
   "cell_type": "code",
   "execution_count": null,
   "id": "aaffd4b6-f6b9-456b-9942-ae6cca86a823",
   "metadata": {},
   "outputs": [],
   "source": [
    "# Run the Shapiro-Wilk test.  DIET 3 GENDER : MALE\n",
    "ss.shapiro(dependentM[independentM == 3])"
   ]
  },
  {
   "cell_type": "code",
   "execution_count": null,
   "id": "039fbf97-9ffb-460b-8637-12a7becb3a5e",
   "metadata": {},
   "outputs": [],
   "source": [
    "# Run the Shapiro-Wilk test.  DIET 3 GENDER : FEMALE\n",
    "ss.shapiro(dependentF[independentF == 3])"
   ]
  },
  {
   "cell_type": "markdown",
   "id": "8d95718b-48a2-4cf6-892e-17108443eaf7",
   "metadata": {},
   "source": [
    "#Overview of Shapiro-Wilks results : \n",
    "\n",
    "\n",
    "| Shapiro-wilk Normality test<br> \t| P value \t| Null Hypothesis<br><br>Reject/Accept \t|\n",
    "|:-------------------------------:\t|:-------:\t|:------------------------------------:\t|\n",
    "| Diet 1: General                 \t| 0.077   \t| Accept                               \t|\n",
    "| Diet 2: General                 \t| 0.961   \t| Accept                               \t|\n",
    "| Diet 3: General                 \t| 0.372   \t| Accept                               \t|\n",
    "| Diet 1 Male                     \t| 0.517   \t| Accept                               \t|\n",
    "| Diet 2 Male                     \t| 0.647   \t| Accept                               \t|\n",
    "| Diet 3 Male                     \t| 0.517   \t| Accept                               \t|\n",
    "| Diet 1 Female                   \t| 0.023   \t| Reject                               \t|\n",
    "| Diet 2 Female                   \t| 0.966   \t| Accept                               \t|\n",
    "| Diet 3 Female                   \t| 0.017   \t| Reject                               \t|"
   ]
  },
  {
   "cell_type": "markdown",
   "id": "71db2ed8-d16c-4f58-8ef5-d3556a0b0464",
   "metadata": {},
   "source": [
    "### Conclusion: \n",
    "\n",
    "The shapiro-Wilks test for normality shows that there is a normality of results in general distributed , however when looking at the individual diets for the females, we see weight loss results for diet 1 and 3 are rejected however looking at the plots , there is some degree of normality observed. We can overlook this , as the size of the population is not small and all other assumptions are met. "
   ]
  },
  {
   "cell_type": "markdown",
   "id": "022f6acf-fe8a-4a45-bf19-d102befc640b",
   "metadata": {},
   "source": [
    "### Assumption 6: Homogeneity of Variances <sup>[10]</sup>\n",
    "**************************************************"
   ]
  },
  {
   "cell_type": "markdown",
   "id": "18c27fbc-9085-4986-89fb-77bf867c74a0",
   "metadata": {},
   "source": [
    "\n",
    "This is the assumption that all comparison groups have the same variance. If they dont , as long as the group sizes are equal , anova can go ahead a utilize F statistics without the fear of violation of this assumption. If the group sizes are not equal and homogeneity is violated then the F statistic is deemed biased. Large sample variances are associated with small groups sizes , causing the significance level to be underestimated and the null hypothesis to be rejected in error.However if large sample variances are associated with large group sizes , then this leads to overestimated significance level and may in turn lead to reducing the power of the test. \n",
    "There are several tests that can be used to test this assumption : Levene;s test . It assesses if the groups have equal variances by using F-test. A p value less than 0.05 indicates a violation of the assumption "
   ]
  },
  {
   "cell_type": "code",
   "execution_count": null,
   "id": "c835b977-0bbc-453b-a1bd-e665698c4fef",
   "metadata": {},
   "outputs": [],
   "source": [
    "# Test for equal variances.\n",
    "ss.levene(\n",
    "    dependent[independent == 1],\n",
    "    dependent[independent == 2],\n",
    "    dependent[independent == 3]\n",
    ")"
   ]
  },
  {
   "cell_type": "markdown",
   "id": "a27305aa-d68d-40b9-8fd8-913477c7c5ab",
   "metadata": {},
   "source": [
    "The result is greater than 0.05 , therefore equal variances can be assumed and the anova results are valid"
   ]
  },
  {
   "cell_type": "markdown",
   "id": "4f62d54c-984b-43db-a3ab-4f46221bace1",
   "metadata": {},
   "source": [
    "### One-way ANOVA <sup>[11]</sup>\n",
    "\n",
    "*****************************************************************************************************"
   ]
  },
  {
   "cell_type": "markdown",
   "id": "6cfdc5dd-4ba7-4021-b4d8-bd8957465001",
   "metadata": {},
   "source": [
    "After examining all the assumptions and concluding that all requirements of each were met by the data  , we can go ahead and perform a one-way ANOVA . We will do this looking at the following : \n",
    "\n",
    "Dependent = Weight loss\n",
    "Independent = Diet type\n",
    "\n",
    "1. Dependent versus the independent variable for each of the diets without taking gender into account \n",
    "2. Dependent versus the independent variable for each of the diets taking gender into account \n",
    "\n",
    "Interpretation of results :  \n",
    "\n",
    "The following rules to determine if the Independent variable has any influence on the dependent variable:\n",
    "if p < 0.05, this means that the Independent variable has significant influence on the dependent variable : reject the null hypothesis that the mean weight loss for all diets are not the same \n",
    "\n",
    "if p > 0.05, this means that the Independent variable has no significant influence on the dependent variable : accept the null hypothesis that the mean weight loss for all diets are same \n"
   ]
  },
  {
   "cell_type": "code",
   "execution_count": null,
   "id": "faa6465c-70be-464b-a7b4-a6f7217db495",
   "metadata": {},
   "outputs": [],
   "source": [
    "# One- Way ANOVA.: Non gender specific . Weight loss vs Diet type\n",
    "ss.f_oneway(\n",
    "    dependent[independent == 1],\n",
    "    dependent[independent == 2],\n",
    "    dependent[independent == 3]\n",
    ")"
   ]
  },
  {
   "cell_type": "code",
   "execution_count": null,
   "id": "87e377b1-4c72-475c-bf63-d740984d0dde",
   "metadata": {},
   "outputs": [],
   "source": [
    "# One- Way ANOVA.: gender specific : Female. Weight loss vs Diet type\n",
    "ss.f_oneway(\n",
    "    dependentF[independentF == 1],\n",
    "    dependentF[independentF == 2],\n",
    "    dependentF[independentF == 3]\n",
    ")"
   ]
  },
  {
   "cell_type": "code",
   "execution_count": null,
   "id": "69940345-9b9c-4704-ac9d-12f56785b90e",
   "metadata": {},
   "outputs": [],
   "source": [
    "# One- Way ANOVA.: gender specific : Male. Weight loss vs Diet type\n",
    "ss.f_oneway(\n",
    "    dependentM[independentM == 1],\n",
    "    dependentM[independentM == 2],\n",
    "    dependentM[independentM == 3]\n",
    ")"
   ]
  },
  {
   "cell_type": "markdown",
   "id": "6f5357b1-c287-44e9-98ca-ef406c9e9376",
   "metadata": {},
   "source": [
    "\n",
    "### Results of the One-Way ANOVA by scipy-stats\n",
    "\n",
    "\n",
    "| One-Way ANOVA <br><br>Weight loss vs Diet Type \t| P value \t| Null Hypothesis<br><br>Reject/Accept \t|\n",
    "|:----------------------------------------------:\t|:-------:\t|:------------------------------------:\t|\n",
    "| General                                        \t| 0.0032  \t| Reject                               \t|\n",
    "| Male                                           \t| 0.8630  \t| Accept                               \t|\n",
    "| Female                                         \t| 0.0002  \t| Reject                               \t|"
   ]
  },
  {
   "cell_type": "markdown",
   "id": "664a8d5a-2817-4845-b4fe-e39e81dff941",
   "metadata": {},
   "source": [
    "### Conclusion : \n",
    "From the analysis  , we can reject the hypothesis that the weight loss means  are the same for each of the diets for the female participants and also for\n",
    "the population of both male and female together. However we do not know which diet is better for weight loss for the females , and as there is no difference in weight loss for the males , we can just look at completing a post hoc test on the effect of diet on the females only to determine the better diet to use"
   ]
  },
  {
   "cell_type": "markdown",
   "id": "3fa45bf8-0f54-4a38-966f-1e8b4b893eaf",
   "metadata": {},
   "source": [
    "### Post Hoc testing <sup>[12][13]</sup>\n",
    "\n",
    "The ANOVA test on the diet dataset told us there was an overall difference between the diet groups for female, but it doesnt tell us which specific diet is better – whereas post hoc tests will. It is advised to complete just one post-hoc test and in this case we are going to use the Tukey's honestly significant difference (HSD) post hoc test as our data met the assumption of homogeneity of variances. \n",
    "We will use the statsmodel library to completed the comparison of diets between the female population and then between all peoples"
   ]
  },
  {
   "cell_type": "code",
   "execution_count": null,
   "id": "02cd178f-e259-447e-9f0f-fb92e2b304bc",
   "metadata": {},
   "outputs": [],
   "source": [
    "from statsmodels.stats.multicomp import pairwise_tukeyhsd, MultiComparison"
   ]
  },
  {
   "cell_type": "code",
   "execution_count": null,
   "id": "eb0ae39e-9874-4310-b1f1-b05b084c1249",
   "metadata": {},
   "outputs": [],
   "source": [
    "# Only use female data\n",
    "df = df[df.gender=='0']\n",
    "\n",
    "# compare the height between each diet, using 95% confidence interval \n",
    "mc = MultiComparison(df['Height'], df['Diet'])\n",
    "tukey_result = mc.tukeyhsd(alpha=0.05)\n",
    "\n",
    "print(tukey_result)\n",
    "print('Unique diet groups: {}'.format(mc.groupsunique))"
   ]
  },
  {
   "cell_type": "code",
   "execution_count": null,
   "id": "3b5e53aa-fcd6-4562-bf0e-fc004aac5236",
   "metadata": {},
   "outputs": [],
   "source": [
    "# compare the height between each diet, using 95% confidence interval \n",
    "mc = MultiComparison(df['weight loss'], df['Diet'])\n",
    "tukey_result = mc.tukeyhsd(alpha=0.05)\n",
    "\n",
    "print(tukey_result)\n",
    "print('Unique diet groups: {}'.format(mc.groupsunique))"
   ]
  },
  {
   "cell_type": "markdown",
   "id": "beddb861-c5e3-40b8-b4a6-d6dcc16de1a7",
   "metadata": {},
   "source": [
    "We completed a multi comparison using TUKEY HSD : \n",
    "    \n",
    "1. The first comparison took into account the gender as female. early we learned that there was 2 missing data entries for gender in the dataset , so in order to have a complete analysis , we looked at height , as there is a relation between height and weight loss. The results of the post hoc test was that diet 3 showed a different in the weight loss in comparison to diet 1 and 2. It tells us to reject the hypothesis \n",
    "\n",
    "2. whereas for the 2nd comparison , we looked at the diets and without taking gender into account. again the results was to reject the null hypothesis for diet 3 , where was a difference in the weight loss. "
   ]
  },
  {
   "cell_type": "code",
   "execution_count": null,
   "id": "753db715-b095-4ed6-9d74-a271613ede33",
   "metadata": {},
   "outputs": [],
   "source": [
    "## **References : \n",
    "\n",
    "1. https://docs.scipy.org/doc/scipy/reference/stats.html\n",
    "2. https://scipy-lectures.org/packages/statistics/index.html\n",
    "3. https://statistics.laerd.com/spss-tutorials/one-way-anova-using-spss-statistics.php\n",
    "4. https://www.sheffield.ac.uk/mash/statistics/datasets - Diet\n",
    "5. https://www.statology.org/correlation-matrix-python/\n",
    "6. https://statisticsbyjim.com/basics/graph-groups-boxplots-individual-values\n",
    "7. https://plotly.com/python/box-plots/\n",
    "8. https://towardsdatascience.com/6-ways-to-test-for-a-normal-distribution-which-one-to-use-9dcf47d8fa93\n",
    "9. https://en.wikipedia.org/wiki/Shapiro%E2%80%93Wilk_test\n",
    "10.https://www.statisticssolutions.com/the-assumption-of-homogeneity-of-variance/\n",
    "11.https://docs.scipy.org/doc/scipy/reference/generated/scipy.stats.f_oneway.html\n",
    "12. https://pythonrepo.com/repo/maximtrp-scikit-posthocs-python-science-and-data-analysis\n",
    "13.https://www.statsmodels.org/dev/generated/statsmodels.stats.multicomp.pairwise_tukeyhsd.html\n"
   ]
  }
 ],
 "metadata": {
  "kernelspec": {
   "display_name": "Python 3",
   "language": "python",
   "name": "python3"
  },
  "language_info": {
   "codemirror_mode": {
    "name": "ipython",
    "version": 3
   },
   "file_extension": ".py",
   "mimetype": "text/x-python",
   "name": "python",
   "nbconvert_exporter": "python",
   "pygments_lexer": "ipython3",
   "version": "3.8.8"
  }
 },
 "nbformat": 4,
 "nbformat_minor": 5
}
