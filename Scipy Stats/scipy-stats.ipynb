{
 "cells": [
  {
   "cell_type": "markdown",
   "id": "37d94f98-5418-4a3d-bf74-c894f01746e2",
   "metadata": {},
   "source": [
    "\n",
    "## An Overview of Scipy-Stats Python Library"
   ]
  },
  {
   "cell_type": "markdown",
   "id": "49b41dec-ba24-49c5-a9f8-615ba4fc0117",
   "metadata": {},
   "source": [
    "Scipy-stats is the statistical Functions subpackage of the SciPy library.It consists of a large number of probability distribution and statistical functions.\n",
    "\n",
    "Purpose  : \n",
    "\n",
    "1. Has functions for both Discrete and Continuous variables\n",
    "\n",
    "2. Descriptive Statistical values - the values of observation in a variable\n",
    "\n",
    "4. Different types of distributions such as :\n",
    "\n",
    "        .  Uniform ( continous or discrete )-  distribution describes an experiment where there is an arbitrary outcome that lies between certain parameters or  \"discrete uniform distribution\" would be \"a known, finite number of outcomes equally likely to happen\".\n",
    "       . Continuous - A probability distribution in which the random variable X can take on any value (is continuous)\n",
    "       . Binomial -distribution type that has two possible outcomes e.g, a coin toss has only two possible outcomes: heads or   tails \n",
    "\n",
    "5. Perform T-tests on data to evaluate the difference between the mean (average) values of two arrays.\n",
    "\n",
    "\n",
    "SciPy Stats consists of the following three generic base classes:\n",
    "\n",
    "\n",
    "1. rv_continuous\n",
    "\n",
    " - construction of a specific distribution sub-classes and instances for continuous random variables. It can take any value\n",
    "\n",
    "2. rv_discrete\n",
    "\n",
    " - construction of a specific distribution sub-classes and instances for discrete random variables.Example distribution of this would be bionmial \n",
    "\n",
    "3. rv_histogram\n",
    "  - used  to generate specific distribution histograms. It can also be inherited from the class.\n",
    "\n"
   ]
  },
  {
   "cell_type": "markdown",
   "id": "2c2e4eb5-87ae-493b-b252-7a23e66f7f27",
   "metadata": {},
   "source": [
    "We are going to use ANOVA for comparing between a categorical and numerical variable - using sci-py package in python  : \n",
    "    \n",
    "ANOVA stands fo Analysis of Variance analysis. It uses F-tests to statistically test the equality of means. Named after Sir Ronald Fisher of the iris dataset fame.  \n",
    "\n",
    "We are going to examine the dataset looking at 3 different diets and their effects on a group of 78 people. We want to see if there is a direct relationship between each of the diets and the calculated weight loss ( if any) of the 78 people.  \n",
    "\n",
    "The variables looked at are Gender , Age , Height , Preweight , Diet and weight after 6 weeks , the weight loss calculated was also added to the csv file before importing it. The independent variable is is diet\n",
    "\n",
    "\n",
    "https://www.sheffield.ac.uk/mash/statistics/datasets\n",
    "\n",
    "This data set contains information on 78 people using one of three diets:\n",
    "\n",
    "| Variable Name   \t| Variable                        \t| Data Type \t|\n",
    "|-----------------\t|---------------------------------\t|-----------\t|\n",
    "| People          \t| Particular Number               \t|           \t|\n",
    "| Gender          \t| 1= Male, 0 = Female             \t| Binary    \t|\n",
    "| Age             \t| Age ( years)                    \t| Scale     \t|\n",
    "| Height          \t| Height(cm)                      \t| Scale     \t|\n",
    "| Preweight       \t| Weight before the diet (kg)     \t| Scale     \t|\n",
    "| Diet            \t| Diet                            \t| Binary    \t|\n",
    "| Weight 6 weeks \t| Weight after 6 weeks (kg)      \t| Scale     \t|\n",
    "\n"
   ]
  },
  {
   "cell_type": "code",
   "execution_count": null,
   "id": "355653ad-91e3-4907-9741-b3b6d98d6945",
   "metadata": {},
   "outputs": [],
   "source": []
  },
  {
   "cell_type": "markdown",
   "id": "cc5f8766-976f-4024-a94e-953133bac9f5",
   "metadata": {},
   "source": [
    "<img src=\"C:\\Users\\User\\Desktop\\repo\\Machine-learning-and-Statistics\\Scipy Stats\\Guidelines for Anova testing.png\"\n",
    "width=400 height=400 />\n"
   ]
  },
  {
   "cell_type": "code",
   "execution_count": 11,
   "id": "a4f42602-2e3a-4e23-a4f4-6cdcea220707",
   "metadata": {},
   "outputs": [
    {
     "ename": "SyntaxError",
     "evalue": "invalid syntax (<ipython-input-11-ed558ed30510>, line 1)",
     "output_type": "error",
     "traceback": [
      "\u001b[1;36m  File \u001b[1;32m\"<ipython-input-11-ed558ed30510>\"\u001b[1;36m, line \u001b[1;32m1\u001b[0m\n\u001b[1;33m    Question : Which diet is best for losing weight ? /  Are there gender differences for weight lost ?\u001b[0m\n\u001b[1;37m                     ^\u001b[0m\n\u001b[1;31mSyntaxError\u001b[0m\u001b[1;31m:\u001b[0m invalid syntax\n"
     ]
    }
   ],
   "source": [
    "Question : Which diet is best for losing weight ? /  Are there gender differences for weight lost ?\n"
   ]
  },
  {
   "cell_type": "code",
   "execution_count": 21,
   "id": "33edae33-5d3c-47dc-9779-025f987c6abf",
   "metadata": {},
   "outputs": [],
   "source": [
    "# Data frames.\n",
    "import pandas as pd\n",
    "\n",
    "# Plotting.\n",
    "import seaborn as sns\n",
    "\n",
    "# Stats.\n",
    "import scipy.stats as ss\n",
    "\n",
    "# Numerical arrays.\n",
    "import numpy as np\n",
    "\n",
    "# Collections.\n",
    "import collections as co\n",
    "\n",
    "# Specials.\n",
    "import scipy.special as spec\n",
    " \n",
    "import pylab\n",
    "import matplotlib.pyplot as plt\n",
    "# For plotting \n",
    "import plotly as py\n",
    "import plotly.graph_objects as go\n",
    "from plotly.offline import iplot\n",
    "import plotly.express as px"
   ]
  },
  {
   "cell_type": "markdown",
   "id": "08ed7579-f886-41df-ae00-dcd738bf39c3",
   "metadata": {},
   "source": [
    "## IMPORTING THE DATABASE"
   ]
  },
  {
   "cell_type": "code",
   "execution_count": 6,
   "id": "67a6d900-a5da-4f14-acb9-3bf5e4990078",
   "metadata": {},
   "outputs": [
    {
     "data": {
      "text/html": [
       "<div>\n",
       "<style scoped>\n",
       "    .dataframe tbody tr th:only-of-type {\n",
       "        vertical-align: middle;\n",
       "    }\n",
       "\n",
       "    .dataframe tbody tr th {\n",
       "        vertical-align: top;\n",
       "    }\n",
       "\n",
       "    .dataframe thead th {\n",
       "        text-align: right;\n",
       "    }\n",
       "</style>\n",
       "<table border=\"1\" class=\"dataframe\">\n",
       "  <thead>\n",
       "    <tr style=\"text-align: right;\">\n",
       "      <th></th>\n",
       "      <th>Person</th>\n",
       "      <th>gender</th>\n",
       "      <th>Age</th>\n",
       "      <th>Height</th>\n",
       "      <th>pre.weight</th>\n",
       "      <th>Diet</th>\n",
       "      <th>weight6weeks</th>\n",
       "      <th>Weight loss</th>\n",
       "    </tr>\n",
       "  </thead>\n",
       "  <tbody>\n",
       "    <tr>\n",
       "      <th>0</th>\n",
       "      <td>25</td>\n",
       "      <td></td>\n",
       "      <td>41</td>\n",
       "      <td>171</td>\n",
       "      <td>60</td>\n",
       "      <td>2</td>\n",
       "      <td>60.0</td>\n",
       "      <td>0.0</td>\n",
       "    </tr>\n",
       "    <tr>\n",
       "      <th>1</th>\n",
       "      <td>26</td>\n",
       "      <td></td>\n",
       "      <td>32</td>\n",
       "      <td>174</td>\n",
       "      <td>103</td>\n",
       "      <td>2</td>\n",
       "      <td>103.0</td>\n",
       "      <td>0.0</td>\n",
       "    </tr>\n",
       "    <tr>\n",
       "      <th>2</th>\n",
       "      <td>1</td>\n",
       "      <td>0</td>\n",
       "      <td>22</td>\n",
       "      <td>159</td>\n",
       "      <td>58</td>\n",
       "      <td>1</td>\n",
       "      <td>54.2</td>\n",
       "      <td>3.8</td>\n",
       "    </tr>\n",
       "    <tr>\n",
       "      <th>3</th>\n",
       "      <td>2</td>\n",
       "      <td>0</td>\n",
       "      <td>46</td>\n",
       "      <td>192</td>\n",
       "      <td>60</td>\n",
       "      <td>1</td>\n",
       "      <td>54.0</td>\n",
       "      <td>6.0</td>\n",
       "    </tr>\n",
       "    <tr>\n",
       "      <th>4</th>\n",
       "      <td>3</td>\n",
       "      <td>0</td>\n",
       "      <td>55</td>\n",
       "      <td>170</td>\n",
       "      <td>64</td>\n",
       "      <td>1</td>\n",
       "      <td>63.3</td>\n",
       "      <td>0.7</td>\n",
       "    </tr>\n",
       "    <tr>\n",
       "      <th>...</th>\n",
       "      <td>...</td>\n",
       "      <td>...</td>\n",
       "      <td>...</td>\n",
       "      <td>...</td>\n",
       "      <td>...</td>\n",
       "      <td>...</td>\n",
       "      <td>...</td>\n",
       "      <td>...</td>\n",
       "    </tr>\n",
       "    <tr>\n",
       "      <th>73</th>\n",
       "      <td>74</td>\n",
       "      <td>1</td>\n",
       "      <td>35</td>\n",
       "      <td>183</td>\n",
       "      <td>83</td>\n",
       "      <td>3</td>\n",
       "      <td>80.2</td>\n",
       "      <td>2.8</td>\n",
       "    </tr>\n",
       "    <tr>\n",
       "      <th>74</th>\n",
       "      <td>75</td>\n",
       "      <td>1</td>\n",
       "      <td>49</td>\n",
       "      <td>177</td>\n",
       "      <td>84</td>\n",
       "      <td>3</td>\n",
       "      <td>79.9</td>\n",
       "      <td>4.1</td>\n",
       "    </tr>\n",
       "    <tr>\n",
       "      <th>75</th>\n",
       "      <td>76</td>\n",
       "      <td>1</td>\n",
       "      <td>28</td>\n",
       "      <td>164</td>\n",
       "      <td>85</td>\n",
       "      <td>3</td>\n",
       "      <td>79.7</td>\n",
       "      <td>5.3</td>\n",
       "    </tr>\n",
       "    <tr>\n",
       "      <th>76</th>\n",
       "      <td>77</td>\n",
       "      <td>1</td>\n",
       "      <td>40</td>\n",
       "      <td>167</td>\n",
       "      <td>87</td>\n",
       "      <td>3</td>\n",
       "      <td>77.8</td>\n",
       "      <td>9.2</td>\n",
       "    </tr>\n",
       "    <tr>\n",
       "      <th>77</th>\n",
       "      <td>78</td>\n",
       "      <td>1</td>\n",
       "      <td>51</td>\n",
       "      <td>175</td>\n",
       "      <td>88</td>\n",
       "      <td>3</td>\n",
       "      <td>81.9</td>\n",
       "      <td>6.1</td>\n",
       "    </tr>\n",
       "  </tbody>\n",
       "</table>\n",
       "<p>78 rows × 8 columns</p>\n",
       "</div>"
      ],
      "text/plain": [
       "    Person gender  Age  Height  pre.weight  Diet  weight6weeks  Weight loss\n",
       "0       25          41     171          60     2          60.0          0.0\n",
       "1       26          32     174         103     2         103.0          0.0\n",
       "2        1      0   22     159          58     1          54.2          3.8\n",
       "3        2      0   46     192          60     1          54.0          6.0\n",
       "4        3      0   55     170          64     1          63.3          0.7\n",
       "..     ...    ...  ...     ...         ...   ...           ...          ...\n",
       "73      74      1   35     183          83     3          80.2          2.8\n",
       "74      75      1   49     177          84     3          79.9          4.1\n",
       "75      76      1   28     164          85     3          79.7          5.3\n",
       "76      77      1   40     167          87     3          77.8          9.2\n",
       "77      78      1   51     175          88     3          81.9          6.1\n",
       "\n",
       "[78 rows x 8 columns]"
      ]
     },
     "execution_count": 6,
     "metadata": {},
     "output_type": "execute_result"
    }
   ],
   "source": [
    "df = pd.read_csv(r'C:\\Users\\User\\Desktop\\repo\\Machine-learning-and-Statistics\\Scipy Stats\\Diet_R.csv')\n",
    "df"
   ]
  },
  {
   "cell_type": "code",
   "execution_count": 9,
   "id": "5f2bf046-a0f8-4400-9b6c-d9f784548d35",
   "metadata": {},
   "outputs": [
    {
     "data": {
      "text/plain": [
       "78"
      ]
     },
     "execution_count": 9,
     "metadata": {},
     "output_type": "execute_result"
    }
   ],
   "source": [
    "#observation size\n",
    "df.shape[0]   # number of observations\n"
   ]
  },
  {
   "cell_type": "code",
   "execution_count": 14,
   "id": "dafdfd84-74f0-45a9-8050-193d07d42406",
   "metadata": {},
   "outputs": [
    {
     "data": {
      "text/html": [
       "<div>\n",
       "<style scoped>\n",
       "    .dataframe tbody tr th:only-of-type {\n",
       "        vertical-align: middle;\n",
       "    }\n",
       "\n",
       "    .dataframe tbody tr th {\n",
       "        vertical-align: top;\n",
       "    }\n",
       "\n",
       "    .dataframe thead th {\n",
       "        text-align: right;\n",
       "    }\n",
       "</style>\n",
       "<table border=\"1\" class=\"dataframe\">\n",
       "  <thead>\n",
       "    <tr style=\"text-align: right;\">\n",
       "      <th></th>\n",
       "      <th>count</th>\n",
       "      <th>mean</th>\n",
       "      <th>std</th>\n",
       "      <th>min</th>\n",
       "      <th>25%</th>\n",
       "      <th>50%</th>\n",
       "      <th>75%</th>\n",
       "      <th>max</th>\n",
       "    </tr>\n",
       "    <tr>\n",
       "      <th>Diet</th>\n",
       "      <th></th>\n",
       "      <th></th>\n",
       "      <th></th>\n",
       "      <th></th>\n",
       "      <th></th>\n",
       "      <th></th>\n",
       "      <th></th>\n",
       "      <th></th>\n",
       "    </tr>\n",
       "  </thead>\n",
       "  <tbody>\n",
       "    <tr>\n",
       "      <th>1</th>\n",
       "      <td>24.0</td>\n",
       "      <td>3.300000</td>\n",
       "      <td>2.240148</td>\n",
       "      <td>-0.6</td>\n",
       "      <td>1.975</td>\n",
       "      <td>3.05</td>\n",
       "      <td>3.95</td>\n",
       "      <td>9.0</td>\n",
       "    </tr>\n",
       "    <tr>\n",
       "      <th>2</th>\n",
       "      <td>27.0</td>\n",
       "      <td>3.025926</td>\n",
       "      <td>2.523367</td>\n",
       "      <td>-2.1</td>\n",
       "      <td>1.700</td>\n",
       "      <td>3.30</td>\n",
       "      <td>4.50</td>\n",
       "      <td>7.9</td>\n",
       "    </tr>\n",
       "    <tr>\n",
       "      <th>3</th>\n",
       "      <td>27.0</td>\n",
       "      <td>5.148148</td>\n",
       "      <td>2.395568</td>\n",
       "      <td>0.5</td>\n",
       "      <td>3.450</td>\n",
       "      <td>5.40</td>\n",
       "      <td>7.00</td>\n",
       "      <td>9.2</td>\n",
       "    </tr>\n",
       "  </tbody>\n",
       "</table>\n",
       "</div>"
      ],
      "text/plain": [
       "      count      mean       std  min    25%   50%   75%  max\n",
       "Diet                                                        \n",
       "1      24.0  3.300000  2.240148 -0.6  1.975  3.05  3.95  9.0\n",
       "2      27.0  3.025926  2.523367 -2.1  1.700  3.30  4.50  7.9\n",
       "3      27.0  5.148148  2.395568  0.5  3.450  5.40  7.00  9.2"
      ]
     },
     "execution_count": 14,
     "metadata": {},
     "output_type": "execute_result"
    }
   ],
   "source": [
    "df.groupby(\"Diet\")['Weight loss'].describe()"
   ]
  },
  {
   "cell_type": "markdown",
   "id": "01b1561c-3d38-473c-a401-90dc1b0072b2",
   "metadata": {},
   "source": [
    "By grouping the diet and weight loss together and running the descibe() on it , we can see that diet 3 is the better diet to do as the mean weight is greater. The standard deviations are similar which can mean that the weight loss between each group is evenly spread out as well. "
   ]
  },
  {
   "cell_type": "markdown",
   "id": "f61df8bf-4ea7-4be8-81c4-a980711594f8",
   "metadata": {},
   "source": [
    "## Defining the Hypotheses\n",
    "\n",
    "H₀ (Null hypothesis) — that there is no difference among the 3 diet group means.\n",
    "H₁ (Alternate hypothesis) — that at least one group differs significantly from the overall mean of the dependent variable."
   ]
  },
  {
   "cell_type": "markdown",
   "id": "f40c25f8-e497-4370-ab24-35349642e166",
   "metadata": {},
   "source": [
    "### Assumption 1: Dependent variable\n",
    "**************************************"
   ]
  },
  {
   "cell_type": "code",
   "execution_count": 46,
   "id": "01f53d9a-bca0-4be1-8118-0d593fc5696d",
   "metadata": {},
   "outputs": [
    {
     "data": {
      "text/plain": [
       "0     0.0\n",
       "1     0.0\n",
       "2     3.8\n",
       "3     6.0\n",
       "4     0.7\n",
       "     ... \n",
       "73    2.8\n",
       "74    4.1\n",
       "75    5.3\n",
       "76    9.2\n",
       "77    6.1\n",
       "Name: Weight loss, Length: 78, dtype: float64"
      ]
     },
     "execution_count": 46,
     "metadata": {},
     "output_type": "execute_result"
    }
   ],
   "source": [
    "# The dependent variable.\n",
    "dependent = df['Weight loss']\n",
    "dependent"
   ]
  },
  {
   "cell_type": "code",
   "execution_count": 13,
   "id": "7fc6a14b-bfba-4abc-a510-e10e97abd68f",
   "metadata": {},
   "outputs": [
    {
     "data": {
      "text/plain": [
       "count    78.000000\n",
       "mean      2.038462\n",
       "std       0.812920\n",
       "min       1.000000\n",
       "25%       1.000000\n",
       "50%       2.000000\n",
       "75%       3.000000\n",
       "max       3.000000\n",
       "Name: Diet, dtype: float64"
      ]
     },
     "execution_count": 13,
     "metadata": {},
     "output_type": "execute_result"
    }
   ],
   "source": [
    "dependent.describe()"
   ]
  },
  {
   "cell_type": "markdown",
   "id": "2327fe73-76b4-4587-97c1-978cd2c4fe02",
   "metadata": {},
   "source": [
    "### Assumption 2: Independent variable\n",
    "*************************************"
   ]
  },
  {
   "cell_type": "code",
   "execution_count": 45,
   "id": "4525683b-223f-4814-9a37-e57c830911a5",
   "metadata": {},
   "outputs": [
    {
     "data": {
      "text/plain": [
       "0     2\n",
       "1     2\n",
       "2     1\n",
       "3     1\n",
       "4     1\n",
       "     ..\n",
       "73    3\n",
       "74    3\n",
       "75    3\n",
       "76    3\n",
       "77    3\n",
       "Name: Diet, Length: 78, dtype: int64"
      ]
     },
     "execution_count": 45,
     "metadata": {},
     "output_type": "execute_result"
    }
   ],
   "source": [
    "# Independent variable.\n",
    "independent = df['Diet']\n",
    "independent"
   ]
  },
  {
   "cell_type": "markdown",
   "id": "65ff7880-8fe4-4d7e-9769-e320e609fe0b",
   "metadata": {},
   "source": [
    "### Assumption 4: Outliers\n",
    "*************************************************"
   ]
  },
  {
   "cell_type": "markdown",
   "id": "d9297adb-90b5-40a8-816a-30b807001f15",
   "metadata": {},
   "source": [
    "Reference #https://statisticsbyjim.com/basics/graph-groups-boxplots-individual-values/"
   ]
  },
  {
   "attachments": {
    "8171567f-3539-4920-b62a-546271cc8dd2.png": {
     "image/png": "[encoded data removed]"
    }
   },
   "cell_type": "markdown",
   "id": "8eb82734-68c1-4288-957b-e9f035bd44c9",
   "metadata": {},
   "source": [
    "We draw a box plot to show distributions by breaking down the data in to quartiles. The boxplot shows the quartiles of the dataset while the whiskers extend to show the rest of the distribution, then symbols are displayed for outliers that fall outside the whiskers.Outliers are the unusual values in a dataset and can have a negative effect on statistical analysis- leading to distortion of results or unsure findings\n",
    "Boxplots is a good method if you have multiple distributions\n",
    "\n",
    "![image.png](attachment:8171567f-3539-4920-b62a-546271cc8dd2.png)! \n",
    "\n",
    "What does a boxplot tell us apart from the presence or not of outliers ?\n",
    "\n",
    "- if a distribution is symmetrical  , the length of the box and whiskers on both sides of the median should be approx equal \n",
    "if not the data distribution is skewed\n",
    "\n",
    "So looking at the box plot of out diet dataset variables  , we see that diet 1 and 2 have the same median but diet 2 has more variability . Diet 3 median value is greater than 1 and 2 and has more variability in weight loss. There is also the appearance of 2 outliers for diet 1. "
   ]
  },
  {
   "cell_type": "code",
   "execution_count": null,
   "id": "10c230b1-98cc-4ef3-a233-9bc5e89daf75",
   "metadata": {},
   "outputs": [],
   "source": []
  },
  {
   "cell_type": "code",
   "execution_count": 47,
   "id": "468686c2-3f09-434f-bb10-ddc702ed09de",
   "metadata": {},
   "outputs": [
    {
     "data": {
      "text/plain": [
       "<AxesSubplot:xlabel='Diet', ylabel='Weight loss'>"
      ]
     },
     "execution_count": 47,
     "metadata": {},
     "output_type": "execute_result"
    },
    {
     "data": {
      "image/png": "[encoded data removed]",
      "text/plain": [
       "<Figure size 432x288 with 1 Axes>"
      ]
     },
     "metadata": {
      "needs_background": "light"
     },
     "output_type": "display_data"
    }
   ],
   "source": [
    "# https://seaborn.pydata.org/generated/seaborn.boxplot.html\n",
    "sns.boxplot(x=independent, y=dependent)"
   ]
  },
  {
   "cell_type": "markdown",
   "id": "373d5277-fcfb-4ef5-89ee-26f70c7c7097",
   "metadata": {},
   "source": [
    "Using the plotly express package in python , we created a boxplot with go.Box from the plotly.graph objects.Its just another way of illustrating the variables\n",
    "\n",
    "reference : https://plotly.com/python/box-plots/"
   ]
  },
  {
   "cell_type": "code",
   "execution_count": 48,
   "id": "64cd7303-19a6-4990-b60b-5d0055b713ed",
   "metadata": {},
   "outputs": [
    {
     "data": {
      "application/vnd.plotly.v1+json": {
       "config": {
        "plotlyServerURL": "https://plot.ly"
       },
       "data": [
        {
         "name": "Age",
         "type": "box",
         "y": [
          41,
          32,
          22,
          46,
          55,
          33,
          50,
          50,
          37,
          28,
          28,
          45,
          60,
          48,
          41,
          37,
          44,
          37,
          41,
          43,
          20,
          51,
          31,
          54,
          50,
          48,
          16,
          37,
          30,
          29,
          51,
          35,
          21,
          22,
          36,
          20,
          35,
          45,
          58,
          37,
          31,
          35,
          56,
          48,
          41,
          39,
          31,
          40,
          50,
          43,
          25,
          52,
          42,
          39,
          40,
          51,
          38,
          54,
          33,
          45,
          37,
          44,
          40,
          37,
          39,
          31,
          36,
          47,
          29,
          37,
          31,
          26,
          40,
          35,
          49,
          28,
          40,
          51
         ]
        },
        {
         "name": "Height",
         "type": "box",
         "y": [
          171,
          174,
          159,
          192,
          170,
          171,
          170,
          201,
          174,
          176,
          165,
          165,
          173,
          156,
          163,
          167,
          174,
          172,
          165,
          171,
          169,
          174,
          163,
          173,
          166,
          163,
          165,
          167,
          161,
          169,
          165,
          169,
          159,
          169,
          160,
          169,
          163,
          155,
          141,
          170,
          170,
          171,
          171,
          153,
          157,
          168,
          158,
          173,
          160,
          162,
          165,
          177,
          166,
          166,
          190,
          191,
          199,
          196,
          190,
          160,
          194,
          163,
          171,
          198,
          180,
          182,
          155,
          179,
          166,
          173,
          177,
          179,
          179,
          183,
          177,
          164,
          167,
          175
         ]
        },
        {
         "name": "Start weight",
         "type": "box",
         "y": [
          60,
          103,
          58,
          60,
          64,
          64,
          65,
          66,
          67,
          69,
          70,
          70,
          72,
          72,
          72,
          82,
          58,
          58,
          59,
          61,
          62,
          63,
          63,
          63,
          65,
          66,
          68,
          68,
          76,
          77,
          60,
          62,
          64,
          65,
          66,
          67,
          67,
          69,
          70,
          70,
          72,
          72,
          73,
          75,
          76,
          71,
          72,
          74,
          78,
          80,
          80,
          83,
          85,
          87,
          88,
          71,
          75,
          75,
          76,
          78,
          78,
          79,
          79,
          79,
          80,
          80,
          71,
          73,
          76,
          78,
          78,
          78,
          79,
          83,
          84,
          85,
          87,
          88
         ]
        },
        {
         "name": "Finish weight",
         "type": "box",
         "y": [
          60,
          103,
          54.2,
          54,
          63.3,
          61.1,
          62.2,
          64,
          65,
          60.5,
          68.1,
          66.9,
          70.5,
          69,
          68.4,
          81.1,
          60.1,
          56,
          57.3,
          56.7,
          55,
          62.4,
          60.3,
          59.4,
          62,
          64,
          63.8,
          63.3,
          72.7,
          77.5,
          53,
          56.4,
          60.6,
          58.2,
          58.2,
          61.6,
          60.2,
          61.8,
          63,
          62.7,
          71.1,
          64.4,
          68.9,
          68.7,
          71,
          71.6,
          70.9,
          69.5,
          73.9,
          71,
          77.6,
          79.1,
          81.5,
          81.9,
          84.5,
          66.8,
          72.6,
          69.2,
          72.5,
          72.7,
          76.3,
          73.6,
          72.9,
          71.1,
          81.4,
          75.7,
          68.5,
          72.1,
          72.5,
          77.5,
          75.2,
          69.4,
          74.5,
          80.2,
          79.9,
          79.7,
          77.8,
          81.9
         ]
        }
       ],
       "layout": {
        "autosize": true,
        "template": {
         "data": {
          "bar": [
           {
            "error_x": {
             "color": "#2a3f5f"
            },
            "error_y": {
             "color": "#2a3f5f"
            },
            "marker": {
             "line": {
              "color": "#E5ECF6",
              "width": 0.5
             },
             "pattern": {
              "fillmode": "overlay",
              "size": 10,
              "solidity": 0.2
             }
            },
            "type": "bar"
           }
          ],
          "barpolar": [
           {
            "marker": {
             "line": {
              "color": "#E5ECF6",
              "width": 0.5
             },
             "pattern": {
              "fillmode": "overlay",
              "size": 10,
              "solidity": 0.2
             }
            },
            "type": "barpolar"
           }
          ],
          "carpet": [
           {
            "aaxis": {
             "endlinecolor": "#2a3f5f",
             "gridcolor": "white",
             "linecolor": "white",
             "minorgridcolor": "white",
             "startlinecolor": "#2a3f5f"
            },
            "baxis": {
             "endlinecolor": "#2a3f5f",
             "gridcolor": "white",
             "linecolor": "white",
             "minorgridcolor": "white",
             "startlinecolor": "#2a3f5f"
            },
            "type": "carpet"
           }
          ],
          "choropleth": [
           {
            "colorbar": {
             "outlinewidth": 0,
             "ticks": ""
            },
            "type": "choropleth"
           }
          ],
          "contour": [
           {
            "colorbar": {
             "outlinewidth": 0,
             "ticks": ""
            },
            "colorscale": [
             [
              0,
              "#0d0887"
             ],
             [
              0.1111111111111111,
              "#46039f"
             ],
             [
              0.2222222222222222,
              "#7201a8"
             ],
             [
              0.3333333333333333,
              "#9c179e"
             ],
             [
              0.4444444444444444,
              "#bd3786"
             ],
             [
              0.5555555555555556,
              "#d8576b"
             ],
             [
              0.6666666666666666,
              "#ed7953"
             ],
             [
              0.7777777777777778,
              "#fb9f3a"
             ],
             [
              0.8888888888888888,
              "#fdca26"
             ],
             [
              1,
              "#f0f921"
             ]
            ],
            "type": "contour"
           }
          ],
          "contourcarpet": [
           {
            "colorbar": {
             "outlinewidth": 0,
             "ticks": ""
            },
            "type": "contourcarpet"
           }
          ],
          "heatmap": [
           {
            "colorbar": {
             "outlinewidth": 0,
             "ticks": ""
            },
            "colorscale": [
             [
              0,
              "#0d0887"
             ],
             [
              0.1111111111111111,
              "#46039f"
             ],
             [
              0.2222222222222222,
              "#7201a8"
             ],
             [
              0.3333333333333333,
              "#9c179e"
             ],
             [
              0.4444444444444444,
              "#bd3786"
             ],
             [
              0.5555555555555556,
              "#d8576b"
             ],
             [
              0.6666666666666666,
              "#ed7953"
             ],
             [
              0.7777777777777778,
              "#fb9f3a"
             ],
             [
              0.8888888888888888,
              "#fdca26"
             ],
             [
              1,
              "#f0f921"
             ]
            ],
            "type": "heatmap"
           }
          ],
          "heatmapgl": [
           {
            "colorbar": {
             "outlinewidth": 0,
             "ticks": ""
            },
            "colorscale": [
             [
              0,
              "#0d0887"
             ],
             [
              0.1111111111111111,
              "#46039f"
             ],
             [
              0.2222222222222222,
              "#7201a8"
             ],
             [
              0.3333333333333333,
              "#9c179e"
             ],
             [
              0.4444444444444444,
              "#bd3786"
             ],
             [
              0.5555555555555556,
              "#d8576b"
             ],
             [
              0.6666666666666666,
              "#ed7953"
             ],
             [
              0.7777777777777778,
              "#fb9f3a"
             ],
             [
              0.8888888888888888,
              "#fdca26"
             ],
             [
              1,
              "#f0f921"
             ]
            ],
            "type": "heatmapgl"
           }
          ],
          "histogram": [
           {
            "marker": {
             "pattern": {
              "fillmode": "overlay",
              "size": 10,
              "solidity": 0.2
             }
            },
            "type": "histogram"
           }
          ],
          "histogram2d": [
           {
            "colorbar": {
             "outlinewidth": 0,
             "ticks": ""
            },
            "colorscale": [
             [
              0,
              "#0d0887"
             ],
             [
              0.1111111111111111,
              "#46039f"
             ],
             [
              0.2222222222222222,
              "#7201a8"
             ],
             [
              0.3333333333333333,
              "#9c179e"
             ],
             [
              0.4444444444444444,
              "#bd3786"
             ],
             [
              0.5555555555555556,
              "#d8576b"
             ],
             [
              0.6666666666666666,
              "#ed7953"
             ],
             [
              0.7777777777777778,
              "#fb9f3a"
             ],
             [
              0.8888888888888888,
              "#fdca26"
             ],
             [
              1,
              "#f0f921"
             ]
            ],
            "type": "histogram2d"
           }
          ],
          "histogram2dcontour": [
           {
            "colorbar": {
             "outlinewidth": 0,
             "ticks": ""
            },
            "colorscale": [
             [
              0,
              "#0d0887"
             ],
             [
              0.1111111111111111,
              "#46039f"
             ],
             [
              0.2222222222222222,
              "#7201a8"
             ],
             [
              0.3333333333333333,
              "#9c179e"
             ],
             [
              0.4444444444444444,
              "#bd3786"
             ],
             [
              0.5555555555555556,
              "#d8576b"
             ],
             [
              0.6666666666666666,
              "#ed7953"
             ],
             [
              0.7777777777777778,
              "#fb9f3a"
             ],
             [
              0.8888888888888888,
              "#fdca26"
             ],
             [
              1,
              "#f0f921"
             ]
            ],
            "type": "histogram2dcontour"
           }
          ],
          "mesh3d": [
           {
            "colorbar": {
             "outlinewidth": 0,
             "ticks": ""
            },
            "type": "mesh3d"
           }
          ],
          "parcoords": [
           {
            "line": {
             "colorbar": {
              "outlinewidth": 0,
              "ticks": ""
             }
            },
            "type": "parcoords"
           }
          ],
          "pie": [
           {
            "automargin": true,
            "type": "pie"
           }
          ],
          "scatter": [
           {
            "marker": {
             "colorbar": {
              "outlinewidth": 0,
              "ticks": ""
             }
            },
            "type": "scatter"
           }
          ],
          "scatter3d": [
           {
            "line": {
             "colorbar": {
              "outlinewidth": 0,
              "ticks": ""
             }
            },
            "marker": {
             "colorbar": {
              "outlinewidth": 0,
              "ticks": ""
             }
            },
            "type": "scatter3d"
           }
          ],
          "scattercarpet": [
           {
            "marker": {
             "colorbar": {
              "outlinewidth": 0,
              "ticks": ""
             }
            },
            "type": "scattercarpet"
           }
          ],
          "scattergeo": [
           {
            "marker": {
             "colorbar": {
              "outlinewidth": 0,
              "ticks": ""
             }
            },
            "type": "scattergeo"
           }
          ],
          "scattergl": [
           {
            "marker": {
             "colorbar": {
              "outlinewidth": 0,
              "ticks": ""
             }
            },
            "type": "scattergl"
           }
          ],
          "scattermapbox": [
           {
            "marker": {
             "colorbar": {
              "outlinewidth": 0,
              "ticks": ""
             }
            },
            "type": "scattermapbox"
           }
          ],
          "scatterpolar": [
           {
            "marker": {
             "colorbar": {
              "outlinewidth": 0,
              "ticks": ""
             }
            },
            "type": "scatterpolar"
           }
          ],
          "scatterpolargl": [
           {
            "marker": {
             "colorbar": {
              "outlinewidth": 0,
              "ticks": ""
             }
            },
            "type": "scatterpolargl"
           }
          ],
          "scatterternary": [
           {
            "marker": {
             "colorbar": {
              "outlinewidth": 0,
              "ticks": ""
             }
            },
            "type": "scatterternary"
           }
          ],
          "surface": [
           {
            "colorbar": {
             "outlinewidth": 0,
             "ticks": ""
            },
            "colorscale": [
             [
              0,
              "#0d0887"
             ],
             [
              0.1111111111111111,
              "#46039f"
             ],
             [
              0.2222222222222222,
              "#7201a8"
             ],
             [
              0.3333333333333333,
              "#9c179e"
             ],
             [
              0.4444444444444444,
              "#bd3786"
             ],
             [
              0.5555555555555556,
              "#d8576b"
             ],
             [
              0.6666666666666666,
              "#ed7953"
             ],
             [
              0.7777777777777778,
              "#fb9f3a"
             ],
             [
              0.8888888888888888,
              "#fdca26"
             ],
             [
              1,
              "#f0f921"
             ]
            ],
            "type": "surface"
           }
          ],
          "table": [
           {
            "cells": {
             "fill": {
              "color": "#EBF0F8"
             },
             "line": {
              "color": "white"
             }
            },
            "header": {
             "fill": {
              "color": "#C8D4E3"
             },
             "line": {
              "color": "white"
             }
            },
            "type": "table"
           }
          ]
         },
         "layout": {
          "annotationdefaults": {
           "arrowcolor": "#2a3f5f",
           "arrowhead": 0,
           "arrowwidth": 1
          },
          "autotypenumbers": "strict",
          "coloraxis": {
           "colorbar": {
            "outlinewidth": 0,
            "ticks": ""
           }
          },
          "colorscale": {
           "diverging": [
            [
             0,
             "#8e0152"
            ],
            [
             0.1,
             "#c51b7d"
            ],
            [
             0.2,
             "#de77ae"
            ],
            [
             0.3,
             "#f1b6da"
            ],
            [
             0.4,
             "#fde0ef"
            ],
            [
             0.5,
             "#f7f7f7"
            ],
            [
             0.6,
             "#e6f5d0"
            ],
            [
             0.7,
             "#b8e186"
            ],
            [
             0.8,
             "#7fbc41"
            ],
            [
             0.9,
             "#4d9221"
            ],
            [
             1,
             "#276419"
            ]
           ],
           "sequential": [
            [
             0,
             "#0d0887"
            ],
            [
             0.1111111111111111,
             "#46039f"
            ],
            [
             0.2222222222222222,
             "#7201a8"
            ],
            [
             0.3333333333333333,
             "#9c179e"
            ],
            [
             0.4444444444444444,
             "#bd3786"
            ],
            [
             0.5555555555555556,
             "#d8576b"
            ],
            [
             0.6666666666666666,
             "#ed7953"
            ],
            [
             0.7777777777777778,
             "#fb9f3a"
            ],
            [
             0.8888888888888888,
             "#fdca26"
            ],
            [
             1,
             "#f0f921"
            ]
           ],
           "sequentialminus": [
            [
             0,
             "#0d0887"
            ],
            [
             0.1111111111111111,
             "#46039f"
            ],
            [
             0.2222222222222222,
             "#7201a8"
            ],
            [
             0.3333333333333333,
             "#9c179e"
            ],
            [
             0.4444444444444444,
             "#bd3786"
            ],
            [
             0.5555555555555556,
             "#d8576b"
            ],
            [
             0.6666666666666666,
             "#ed7953"
            ],
            [
             0.7777777777777778,
             "#fb9f3a"
            ],
            [
             0.8888888888888888,
             "#fdca26"
            ],
            [
             1,
             "#f0f921"
            ]
           ]
          },
          "colorway": [
           "#636efa",
           "#EF553B",
           "#00cc96",
           "#ab63fa",
           "#FFA15A",
           "#19d3f3",
           "#FF6692",
           "#B6E880",
           "#FF97FF",
           "#FECB52"
          ],
          "font": {
           "color": "#2a3f5f"
          },
          "geo": {
           "bgcolor": "white",
           "lakecolor": "white",
           "landcolor": "#E5ECF6",
           "showlakes": true,
           "showland": true,
           "subunitcolor": "white"
          },
          "hoverlabel": {
           "align": "left"
          },
          "hovermode": "closest",
          "mapbox": {
           "style": "light"
          },
          "paper_bgcolor": "white",
          "plot_bgcolor": "#E5ECF6",
          "polar": {
           "angularaxis": {
            "gridcolor": "white",
            "linecolor": "white",
            "ticks": ""
           },
           "bgcolor": "#E5ECF6",
           "radialaxis": {
            "gridcolor": "white",
            "linecolor": "white",
            "ticks": ""
           }
          },
          "scene": {
           "xaxis": {
            "backgroundcolor": "#E5ECF6",
            "gridcolor": "white",
            "gridwidth": 2,
            "linecolor": "white",
            "showbackground": true,
            "ticks": "",
            "zerolinecolor": "white"
           },
           "yaxis": {
            "backgroundcolor": "#E5ECF6",
            "gridcolor": "white",
            "gridwidth": 2,
            "linecolor": "white",
            "showbackground": true,
            "ticks": "",
            "zerolinecolor": "white"
           },
           "zaxis": {
            "backgroundcolor": "#E5ECF6",
            "gridcolor": "white",
            "gridwidth": 2,
            "linecolor": "white",
            "showbackground": true,
            "ticks": "",
            "zerolinecolor": "white"
           }
          },
          "shapedefaults": {
           "line": {
            "color": "#2a3f5f"
           }
          },
          "ternary": {
           "aaxis": {
            "gridcolor": "white",
            "linecolor": "white",
            "ticks": ""
           },
           "baxis": {
            "gridcolor": "white",
            "linecolor": "white",
            "ticks": ""
           },
           "bgcolor": "#E5ECF6",
           "caxis": {
            "gridcolor": "white",
            "linecolor": "white",
            "ticks": ""
           }
          },
          "title": {
           "x": 0.05
          },
          "xaxis": {
           "automargin": true,
           "gridcolor": "white",
           "linecolor": "white",
           "ticks": "",
           "title": {
            "standoff": 15
           },
           "zerolinecolor": "white",
           "zerolinewidth": 2
          },
          "yaxis": {
           "automargin": true,
           "gridcolor": "white",
           "linecolor": "white",
           "ticks": "",
           "title": {
            "standoff": 15
           },
           "zerolinecolor": "white",
           "zerolinewidth": 2
          }
         }
        },
        "xaxis": {
         "autorange": true,
         "range": [
          -0.5,
          3.5
         ],
         "type": "category"
        },
        "yaxis": {
         "autorange": true,
         "range": [
          5.722222222222223,
          211.27777777777777
         ],
         "type": "linear"
        }
       }
      },
      "image/png": "[encoded data removed]",
      "text/html": [
       "<div>                            <div id=\"f8d2a3ad-4a25-42f1-b920-05acedf1d98b\" class=\"plotly-graph-div\" style=\"height:525px; width:100%;\"></div>            <script type=\"text/javascript\">                require([\"plotly\"], function(Plotly) {                    window.PLOTLYENV=window.PLOTLYENV || {};                                    if (document.getElementById(\"f8d2a3ad-4a25-42f1-b920-05acedf1d98b\")) {                    Plotly.newPlot(                        \"f8d2a3ad-4a25-42f1-b920-05acedf1d98b\",                        [{\"name\":\"Age\",\"type\":\"box\",\"y\":[41,32,22,46,55,33,50,50,37,28,28,45,60,48,41,37,44,37,41,43,20,51,31,54,50,48,16,37,30,29,51,35,21,22,36,20,35,45,58,37,31,35,56,48,41,39,31,40,50,43,25,52,42,39,40,51,38,54,33,45,37,44,40,37,39,31,36,47,29,37,31,26,40,35,49,28,40,51]},{\"name\":\"Height\",\"type\":\"box\",\"y\":[171,174,159,192,170,171,170,201,174,176,165,165,173,156,163,167,174,172,165,171,169,174,163,173,166,163,165,167,161,169,165,169,159,169,160,169,163,155,141,170,170,171,171,153,157,168,158,173,160,162,165,177,166,166,190,191,199,196,190,160,194,163,171,198,180,182,155,179,166,173,177,179,179,183,177,164,167,175]},{\"name\":\"Start weight\",\"type\":\"box\",\"y\":[60,103,58,60,64,64,65,66,67,69,70,70,72,72,72,82,58,58,59,61,62,63,63,63,65,66,68,68,76,77,60,62,64,65,66,67,67,69,70,70,72,72,73,75,76,71,72,74,78,80,80,83,85,87,88,71,75,75,76,78,78,79,79,79,80,80,71,73,76,78,78,78,79,83,84,85,87,88]},{\"name\":\"Finish weight\",\"type\":\"box\",\"y\":[60.0,103.0,54.2,54.0,63.3,61.1,62.2,64.0,65.0,60.5,68.1,66.9,70.5,69.0,68.4,81.1,60.1,56.0,57.3,56.7,55.0,62.4,60.3,59.4,62.0,64.0,63.8,63.3,72.7,77.5,53.0,56.4,60.6,58.2,58.2,61.6,60.2,61.8,63.0,62.7,71.1,64.4,68.9,68.7,71.0,71.6,70.9,69.5,73.9,71.0,77.6,79.1,81.5,81.9,84.5,66.8,72.6,69.2,72.5,72.7,76.3,73.6,72.9,71.1,81.4,75.7,68.5,72.1,72.5,77.5,75.2,69.4,74.5,80.2,79.9,79.7,77.8,81.9]}],                        {\"template\":{\"data\":{\"bar\":[{\"error_x\":{\"color\":\"#2a3f5f\"},\"error_y\":{\"color\":\"#2a3f5f\"},\"marker\":{\"line\":{\"color\":\"#E5ECF6\",\"width\":0.5},\"pattern\":{\"fillmode\":\"overlay\",\"size\":10,\"solidity\":0.2}},\"type\":\"bar\"}],\"barpolar\":[{\"marker\":{\"line\":{\"color\":\"#E5ECF6\",\"width\":0.5},\"pattern\":{\"fillmode\":\"overlay\",\"size\":10,\"solidity\":0.2}},\"type\":\"barpolar\"}],\"carpet\":[{\"aaxis\":{\"endlinecolor\":\"#2a3f5f\",\"gridcolor\":\"white\",\"linecolor\":\"white\",\"minorgridcolor\":\"white\",\"startlinecolor\":\"#2a3f5f\"},\"baxis\":{\"endlinecolor\":\"#2a3f5f\",\"gridcolor\":\"white\",\"linecolor\":\"white\",\"minorgridcolor\":\"white\",\"startlinecolor\":\"#2a3f5f\"},\"type\":\"carpet\"}],\"choropleth\":[{\"colorbar\":{\"outlinewidth\":0,\"ticks\":\"\"},\"type\":\"choropleth\"}],\"contour\":[{\"colorbar\":{\"outlinewidth\":0,\"ticks\":\"\"},\"colorscale\":[[0.0,\"#0d0887\"],[0.1111111111111111,\"#46039f\"],[0.2222222222222222,\"#7201a8\"],[0.3333333333333333,\"#9c179e\"],[0.4444444444444444,\"#bd3786\"],[0.5555555555555556,\"#d8576b\"],[0.6666666666666666,\"#ed7953\"],[0.7777777777777778,\"#fb9f3a\"],[0.8888888888888888,\"#fdca26\"],[1.0,\"#f0f921\"]],\"type\":\"contour\"}],\"contourcarpet\":[{\"colorbar\":{\"outlinewidth\":0,\"ticks\":\"\"},\"type\":\"contourcarpet\"}],\"heatmap\":[{\"colorbar\":{\"outlinewidth\":0,\"ticks\":\"\"},\"colorscale\":[[0.0,\"#0d0887\"],[0.1111111111111111,\"#46039f\"],[0.2222222222222222,\"#7201a8\"],[0.3333333333333333,\"#9c179e\"],[0.4444444444444444,\"#bd3786\"],[0.5555555555555556,\"#d8576b\"],[0.6666666666666666,\"#ed7953\"],[0.7777777777777778,\"#fb9f3a\"],[0.8888888888888888,\"#fdca26\"],[1.0,\"#f0f921\"]],\"type\":\"heatmap\"}],\"heatmapgl\":[{\"colorbar\":{\"outlinewidth\":0,\"ticks\":\"\"},\"colorscale\":[[0.0,\"#0d0887\"],[0.1111111111111111,\"#46039f\"],[0.2222222222222222,\"#7201a8\"],[0.3333333333333333,\"#9c179e\"],[0.4444444444444444,\"#bd3786\"],[0.5555555555555556,\"#d8576b\"],[0.6666666666666666,\"#ed7953\"],[0.7777777777777778,\"#fb9f3a\"],[0.8888888888888888,\"#fdca26\"],[1.0,\"#f0f921\"]],\"type\":\"heatmapgl\"}],\"histogram\":[{\"marker\":{\"pattern\":{\"fillmode\":\"overlay\",\"size\":10,\"solidity\":0.2}},\"type\":\"histogram\"}],\"histogram2d\":[{\"colorbar\":{\"outlinewidth\":0,\"ticks\":\"\"},\"colorscale\":[[0.0,\"#0d0887\"],[0.1111111111111111,\"#46039f\"],[0.2222222222222222,\"#7201a8\"],[0.3333333333333333,\"#9c179e\"],[0.4444444444444444,\"#bd3786\"],[0.5555555555555556,\"#d8576b\"],[0.6666666666666666,\"#ed7953\"],[0.7777777777777778,\"#fb9f3a\"],[0.8888888888888888,\"#fdca26\"],[1.0,\"#f0f921\"]],\"type\":\"histogram2d\"}],\"histogram2dcontour\":[{\"colorbar\":{\"outlinewidth\":0,\"ticks\":\"\"},\"colorscale\":[[0.0,\"#0d0887\"],[0.1111111111111111,\"#46039f\"],[0.2222222222222222,\"#7201a8\"],[0.3333333333333333,\"#9c179e\"],[0.4444444444444444,\"#bd3786\"],[0.5555555555555556,\"#d8576b\"],[0.6666666666666666,\"#ed7953\"],[0.7777777777777778,\"#fb9f3a\"],[0.8888888888888888,\"#fdca26\"],[1.0,\"#f0f921\"]],\"type\":\"histogram2dcontour\"}],\"mesh3d\":[{\"colorbar\":{\"outlinewidth\":0,\"ticks\":\"\"},\"type\":\"mesh3d\"}],\"parcoords\":[{\"line\":{\"colorbar\":{\"outlinewidth\":0,\"ticks\":\"\"}},\"type\":\"parcoords\"}],\"pie\":[{\"automargin\":true,\"type\":\"pie\"}],\"scatter\":[{\"marker\":{\"colorbar\":{\"outlinewidth\":0,\"ticks\":\"\"}},\"type\":\"scatter\"}],\"scatter3d\":[{\"line\":{\"colorbar\":{\"outlinewidth\":0,\"ticks\":\"\"}},\"marker\":{\"colorbar\":{\"outlinewidth\":0,\"ticks\":\"\"}},\"type\":\"scatter3d\"}],\"scattercarpet\":[{\"marker\":{\"colorbar\":{\"outlinewidth\":0,\"ticks\":\"\"}},\"type\":\"scattercarpet\"}],\"scattergeo\":[{\"marker\":{\"colorbar\":{\"outlinewidth\":0,\"ticks\":\"\"}},\"type\":\"scattergeo\"}],\"scattergl\":[{\"marker\":{\"colorbar\":{\"outlinewidth\":0,\"ticks\":\"\"}},\"type\":\"scattergl\"}],\"scattermapbox\":[{\"marker\":{\"colorbar\":{\"outlinewidth\":0,\"ticks\":\"\"}},\"type\":\"scattermapbox\"}],\"scatterpolar\":[{\"marker\":{\"colorbar\":{\"outlinewidth\":0,\"ticks\":\"\"}},\"type\":\"scatterpolar\"}],\"scatterpolargl\":[{\"marker\":{\"colorbar\":{\"outlinewidth\":0,\"ticks\":\"\"}},\"type\":\"scatterpolargl\"}],\"scatterternary\":[{\"marker\":{\"colorbar\":{\"outlinewidth\":0,\"ticks\":\"\"}},\"type\":\"scatterternary\"}],\"surface\":[{\"colorbar\":{\"outlinewidth\":0,\"ticks\":\"\"},\"colorscale\":[[0.0,\"#0d0887\"],[0.1111111111111111,\"#46039f\"],[0.2222222222222222,\"#7201a8\"],[0.3333333333333333,\"#9c179e\"],[0.4444444444444444,\"#bd3786\"],[0.5555555555555556,\"#d8576b\"],[0.6666666666666666,\"#ed7953\"],[0.7777777777777778,\"#fb9f3a\"],[0.8888888888888888,\"#fdca26\"],[1.0,\"#f0f921\"]],\"type\":\"surface\"}],\"table\":[{\"cells\":{\"fill\":{\"color\":\"#EBF0F8\"},\"line\":{\"color\":\"white\"}},\"header\":{\"fill\":{\"color\":\"#C8D4E3\"},\"line\":{\"color\":\"white\"}},\"type\":\"table\"}]},\"layout\":{\"annotationdefaults\":{\"arrowcolor\":\"#2a3f5f\",\"arrowhead\":0,\"arrowwidth\":1},\"autotypenumbers\":\"strict\",\"coloraxis\":{\"colorbar\":{\"outlinewidth\":0,\"ticks\":\"\"}},\"colorscale\":{\"diverging\":[[0,\"#8e0152\"],[0.1,\"#c51b7d\"],[0.2,\"#de77ae\"],[0.3,\"#f1b6da\"],[0.4,\"#fde0ef\"],[0.5,\"#f7f7f7\"],[0.6,\"#e6f5d0\"],[0.7,\"#b8e186\"],[0.8,\"#7fbc41\"],[0.9,\"#4d9221\"],[1,\"#276419\"]],\"sequential\":[[0.0,\"#0d0887\"],[0.1111111111111111,\"#46039f\"],[0.2222222222222222,\"#7201a8\"],[0.3333333333333333,\"#9c179e\"],[0.4444444444444444,\"#bd3786\"],[0.5555555555555556,\"#d8576b\"],[0.6666666666666666,\"#ed7953\"],[0.7777777777777778,\"#fb9f3a\"],[0.8888888888888888,\"#fdca26\"],[1.0,\"#f0f921\"]],\"sequentialminus\":[[0.0,\"#0d0887\"],[0.1111111111111111,\"#46039f\"],[0.2222222222222222,\"#7201a8\"],[0.3333333333333333,\"#9c179e\"],[0.4444444444444444,\"#bd3786\"],[0.5555555555555556,\"#d8576b\"],[0.6666666666666666,\"#ed7953\"],[0.7777777777777778,\"#fb9f3a\"],[0.8888888888888888,\"#fdca26\"],[1.0,\"#f0f921\"]]},\"colorway\":[\"#636efa\",\"#EF553B\",\"#00cc96\",\"#ab63fa\",\"#FFA15A\",\"#19d3f3\",\"#FF6692\",\"#B6E880\",\"#FF97FF\",\"#FECB52\"],\"font\":{\"color\":\"#2a3f5f\"},\"geo\":{\"bgcolor\":\"white\",\"lakecolor\":\"white\",\"landcolor\":\"#E5ECF6\",\"showlakes\":true,\"showland\":true,\"subunitcolor\":\"white\"},\"hoverlabel\":{\"align\":\"left\"},\"hovermode\":\"closest\",\"mapbox\":{\"style\":\"light\"},\"paper_bgcolor\":\"white\",\"plot_bgcolor\":\"#E5ECF6\",\"polar\":{\"angularaxis\":{\"gridcolor\":\"white\",\"linecolor\":\"white\",\"ticks\":\"\"},\"bgcolor\":\"#E5ECF6\",\"radialaxis\":{\"gridcolor\":\"white\",\"linecolor\":\"white\",\"ticks\":\"\"}},\"scene\":{\"xaxis\":{\"backgroundcolor\":\"#E5ECF6\",\"gridcolor\":\"white\",\"gridwidth\":2,\"linecolor\":\"white\",\"showbackground\":true,\"ticks\":\"\",\"zerolinecolor\":\"white\"},\"yaxis\":{\"backgroundcolor\":\"#E5ECF6\",\"gridcolor\":\"white\",\"gridwidth\":2,\"linecolor\":\"white\",\"showbackground\":true,\"ticks\":\"\",\"zerolinecolor\":\"white\"},\"zaxis\":{\"backgroundcolor\":\"#E5ECF6\",\"gridcolor\":\"white\",\"gridwidth\":2,\"linecolor\":\"white\",\"showbackground\":true,\"ticks\":\"\",\"zerolinecolor\":\"white\"}},\"shapedefaults\":{\"line\":{\"color\":\"#2a3f5f\"}},\"ternary\":{\"aaxis\":{\"gridcolor\":\"white\",\"linecolor\":\"white\",\"ticks\":\"\"},\"baxis\":{\"gridcolor\":\"white\",\"linecolor\":\"white\",\"ticks\":\"\"},\"bgcolor\":\"#E5ECF6\",\"caxis\":{\"gridcolor\":\"white\",\"linecolor\":\"white\",\"ticks\":\"\"}},\"title\":{\"x\":0.05},\"xaxis\":{\"automargin\":true,\"gridcolor\":\"white\",\"linecolor\":\"white\",\"ticks\":\"\",\"title\":{\"standoff\":15},\"zerolinecolor\":\"white\",\"zerolinewidth\":2},\"yaxis\":{\"automargin\":true,\"gridcolor\":\"white\",\"linecolor\":\"white\",\"ticks\":\"\",\"title\":{\"standoff\":15},\"zerolinecolor\":\"white\",\"zerolinewidth\":2}}}},                        {\"responsive\": true}                    ).then(function(){\n",
       "                            \n",
       "var gd = document.getElementById('f8d2a3ad-4a25-42f1-b920-05acedf1d98b');\n",
       "var x = new MutationObserver(function (mutations, observer) {{\n",
       "        var display = window.getComputedStyle(gd).display;\n",
       "        if (!display || display === 'none') {{\n",
       "            console.log([gd, 'removed!']);\n",
       "            Plotly.purge(gd);\n",
       "            observer.disconnect();\n",
       "        }}\n",
       "}});\n",
       "\n",
       "// Listen for the removal of the full notebook cells\n",
       "var notebookContainer = gd.closest('#notebook-container');\n",
       "if (notebookContainer) {{\n",
       "    x.observe(notebookContainer, {childList: true});\n",
       "}}\n",
       "\n",
       "// Listen for the clearing of the current output cell\n",
       "var outputEl = gd.closest('.output');\n",
       "if (outputEl) {{\n",
       "    x.observe(outputEl, {childList: true});\n",
       "}}\n",
       "\n",
       "                        })                };                });            </script>        </div>"
      ]
     },
     "metadata": {},
     "output_type": "display_data"
    }
   ],
   "source": [
    "fig = go.Figure()\n",
    "\n",
    "fig.add_trace(go.Box(y=df.Age.values, name = \"Age\"))\n",
    "fig.add_trace(go.Box(y=df.Height.values, name = \"Height\"))\n",
    "fig.add_trace(go.Box(y=df[\"pre.weight\"].values, name = \"Start weight\"))\n",
    "fig.add_trace(go.Box(y=df[\"weight6weeks\"].values, name = \"Finish weight\"))\n",
    "\n",
    "fig.show()"
   ]
  },
  {
   "cell_type": "code",
   "execution_count": 10,
   "id": "10d98a09-0a09-49cd-915f-d0ffed7cd098",
   "metadata": {},
   "outputs": [
    {
     "data": {
      "image/png": "[encoded data removed]",
      "text/plain": [
       "<Figure size 432x288 with 1 Axes>"
      ]
     },
     "metadata": {
      "needs_background": "light"
     },
     "output_type": "display_data"
    }
   ],
   "source": [
    "_ = df.boxplot('Weight loss', by='Diet')"
   ]
  },
  {
   "cell_type": "code",
   "execution_count": null,
   "id": "f831f48e-3322-4338-8472-058de172a2a0",
   "metadata": {},
   "outputs": [],
   "source": []
  },
  {
   "cell_type": "markdown",
   "id": "e1570a1d-a994-4811-805a-e15d5442d5ab",
   "metadata": {},
   "source": [
    "### Assumption 5: Normality\n",
    "*******************************************"
   ]
  },
  {
   "cell_type": "markdown",
   "id": "73b3260c-56cf-42ea-85ca-844684f1f3e5",
   "metadata": {},
   "source": [
    "Anova assumes that each samples was drawn from a normally distributed population. To check this assumption we look at 2 approaches : \n",
    "\n",
    "1. Visually using histograms or Q-Q plots\n",
    "2. Formal statisticals test : Shapiro-Wilk "
   ]
  },
  {
   "cell_type": "code",
   "execution_count": 49,
   "id": "0c2cf6b2-a508-402f-a435-6211e0e79347",
   "metadata": {},
   "outputs": [
    {
     "data": {
      "text/plain": [
       "<seaborn.axisgrid.FacetGrid at 0x20ce13d3c10>"
      ]
     },
     "execution_count": 49,
     "metadata": {},
     "output_type": "execute_result"
    },
    {
     "data": {
      "image/png": "[encoded data removed]",
      "text/plain": [
       "<Figure size 402.375x360 with 1 Axes>"
      ]
     },
     "metadata": {
      "needs_background": "light"
     },
     "output_type": "display_data"
    }
   ],
   "source": [
    "# KDEs of the three categories.\n",
    "sns.displot(x=dependent, hue=independent, kind=\"kde\")"
   ]
  },
  {
   "cell_type": "code",
   "execution_count": 22,
   "id": "4a75293c-882a-4610-b8d3-e135328a0412",
   "metadata": {},
   "outputs": [
    {
     "ename": "TypeError",
     "evalue": "'<' not supported between instances of 'str' and 'int'",
     "output_type": "error",
     "traceback": [
      "\u001b[1;31m---------------------------------------------------------------------------\u001b[0m",
      "\u001b[1;31mTypeError\u001b[0m                                 Traceback (most recent call last)",
      "\u001b[1;32m<ipython-input-22-dfddac091977>\u001b[0m in \u001b[0;36m<module>\u001b[1;34m\u001b[0m\n\u001b[1;32m----> 1\u001b[1;33m \u001b[0mss\u001b[0m\u001b[1;33m.\u001b[0m\u001b[0mprobplot\u001b[0m\u001b[1;33m(\u001b[0m\u001b[0mdf\u001b[0m\u001b[1;33m,\u001b[0m \u001b[0mplot\u001b[0m\u001b[1;33m=\u001b[0m\u001b[0mplt\u001b[0m\u001b[1;33m)\u001b[0m\u001b[1;33m\u001b[0m\u001b[1;33m\u001b[0m\u001b[0m\n\u001b[0m\u001b[0;32m      2\u001b[0m \u001b[0mplt\u001b[0m\u001b[1;33m.\u001b[0m\u001b[0mshow\u001b[0m\u001b[1;33m(\u001b[0m\u001b[1;33m)\u001b[0m\u001b[1;33m\u001b[0m\u001b[1;33m\u001b[0m\u001b[0m\n",
      "\u001b[1;32m~\\anaconda3\\lib\\site-packages\\scipy\\stats\\morestats.py\u001b[0m in \u001b[0;36mprobplot\u001b[1;34m(x, sparams, dist, fit, plot, rvalue)\u001b[0m\n\u001b[0;32m    599\u001b[0m \u001b[1;33m\u001b[0m\u001b[0m\n\u001b[0;32m    600\u001b[0m     \u001b[0mosm\u001b[0m \u001b[1;33m=\u001b[0m \u001b[0mdist\u001b[0m\u001b[1;33m.\u001b[0m\u001b[0mppf\u001b[0m\u001b[1;33m(\u001b[0m\u001b[0mosm_uniform\u001b[0m\u001b[1;33m,\u001b[0m \u001b[1;33m*\u001b[0m\u001b[0msparams\u001b[0m\u001b[1;33m)\u001b[0m\u001b[1;33m\u001b[0m\u001b[1;33m\u001b[0m\u001b[0m\n\u001b[1;32m--> 601\u001b[1;33m     \u001b[0mosr\u001b[0m \u001b[1;33m=\u001b[0m \u001b[0msort\u001b[0m\u001b[1;33m(\u001b[0m\u001b[0mx\u001b[0m\u001b[1;33m)\u001b[0m\u001b[1;33m\u001b[0m\u001b[1;33m\u001b[0m\u001b[0m\n\u001b[0m\u001b[0;32m    602\u001b[0m     \u001b[1;32mif\u001b[0m \u001b[0mfit\u001b[0m\u001b[1;33m:\u001b[0m\u001b[1;33m\u001b[0m\u001b[1;33m\u001b[0m\u001b[0m\n\u001b[0;32m    603\u001b[0m         \u001b[1;31m# perform a linear least squares fit.\u001b[0m\u001b[1;33m\u001b[0m\u001b[1;33m\u001b[0m\u001b[1;33m\u001b[0m\u001b[0m\n",
      "\u001b[1;32m<__array_function__ internals>\u001b[0m in \u001b[0;36msort\u001b[1;34m(*args, **kwargs)\u001b[0m\n",
      "\u001b[1;32m~\\anaconda3\\lib\\site-packages\\numpy\\core\\fromnumeric.py\u001b[0m in \u001b[0;36msort\u001b[1;34m(a, axis, kind, order)\u001b[0m\n\u001b[0;32m    994\u001b[0m     \u001b[1;32melse\u001b[0m\u001b[1;33m:\u001b[0m\u001b[1;33m\u001b[0m\u001b[1;33m\u001b[0m\u001b[0m\n\u001b[0;32m    995\u001b[0m         \u001b[0ma\u001b[0m \u001b[1;33m=\u001b[0m \u001b[0masanyarray\u001b[0m\u001b[1;33m(\u001b[0m\u001b[0ma\u001b[0m\u001b[1;33m)\u001b[0m\u001b[1;33m.\u001b[0m\u001b[0mcopy\u001b[0m\u001b[1;33m(\u001b[0m\u001b[0morder\u001b[0m\u001b[1;33m=\u001b[0m\u001b[1;34m\"K\"\u001b[0m\u001b[1;33m)\u001b[0m\u001b[1;33m\u001b[0m\u001b[1;33m\u001b[0m\u001b[0m\n\u001b[1;32m--> 996\u001b[1;33m     \u001b[0ma\u001b[0m\u001b[1;33m.\u001b[0m\u001b[0msort\u001b[0m\u001b[1;33m(\u001b[0m\u001b[0maxis\u001b[0m\u001b[1;33m=\u001b[0m\u001b[0maxis\u001b[0m\u001b[1;33m,\u001b[0m \u001b[0mkind\u001b[0m\u001b[1;33m=\u001b[0m\u001b[0mkind\u001b[0m\u001b[1;33m,\u001b[0m \u001b[0morder\u001b[0m\u001b[1;33m=\u001b[0m\u001b[0morder\u001b[0m\u001b[1;33m)\u001b[0m\u001b[1;33m\u001b[0m\u001b[1;33m\u001b[0m\u001b[0m\n\u001b[0m\u001b[0;32m    997\u001b[0m     \u001b[1;32mreturn\u001b[0m \u001b[0ma\u001b[0m\u001b[1;33m\u001b[0m\u001b[1;33m\u001b[0m\u001b[0m\n\u001b[0;32m    998\u001b[0m \u001b[1;33m\u001b[0m\u001b[0m\n",
      "\u001b[1;31mTypeError\u001b[0m: '<' not supported between instances of 'str' and 'int'"
     ]
    }
   ],
   "source": [
    "ss.probplot(df, plot=plt)\n",
    "plt.show()"
   ]
  },
  {
   "cell_type": "code",
   "execution_count": 54,
   "id": "7e4e738f-3403-4766-97e7-a2af22a40fe9",
   "metadata": {},
   "outputs": [
    {
     "data": {
      "text/plain": [
       "2     3.8\n",
       "3     6.0\n",
       "4     0.7\n",
       "5     2.9\n",
       "6     2.8\n",
       "7     2.0\n",
       "8     2.0\n",
       "9     8.5\n",
       "10    1.9\n",
       "11    3.1\n",
       "12    1.5\n",
       "13    3.0\n",
       "14    3.6\n",
       "15    0.9\n",
       "45   -0.6\n",
       "46    1.1\n",
       "47    4.5\n",
       "48    4.1\n",
       "49    9.0\n",
       "50    2.4\n",
       "51    3.9\n",
       "52    3.5\n",
       "53    5.1\n",
       "54    3.5\n",
       "Name: Weight loss, dtype: float64"
      ]
     },
     "execution_count": 54,
     "metadata": {},
     "output_type": "execute_result"
    }
   ],
   "source": [
    "# Extract the weight losses for diet 1.\n",
    "Weightloss_1 = dependent[independent == 1]\n",
    "Weightloss_1"
   ]
  },
  {
   "cell_type": "code",
   "execution_count": 53,
   "id": "39b7a643-3f65-4f93-a968-7596506cc278",
   "metadata": {},
   "outputs": [
    {
     "data": {
      "text/plain": [
       "ShapiroResult(statistic=0.9255314469337463, pvalue=0.07748671621084213)"
      ]
     },
     "execution_count": 53,
     "metadata": {},
     "output_type": "execute_result"
    }
   ],
   "source": [
    "# Run the Shapiro-Wilk test.\n",
    "ss.shapiro(dependent[independent == 1])"
   ]
  },
  {
   "cell_type": "code",
   "execution_count": 55,
   "id": "c0e957c7-2288-41da-bc54-5e017a55d50c",
   "metadata": {},
   "outputs": [
    {
     "data": {
      "text/plain": [
       "ShapiroResult(statistic=0.9855913519859314, pvalue=0.961176335811615)"
      ]
     },
     "execution_count": 55,
     "metadata": {},
     "output_type": "execute_result"
    }
   ],
   "source": [
    "ss.shapiro(dependent[independent == 2])"
   ]
  },
  {
   "cell_type": "code",
   "execution_count": 56,
   "id": "aaffd4b6-f6b9-456b-9942-ae6cca86a823",
   "metadata": {},
   "outputs": [
    {
     "data": {
      "text/plain": [
       "ShapiroResult(statistic=0.9601252675056458, pvalue=0.37203603982925415)"
      ]
     },
     "execution_count": 56,
     "metadata": {},
     "output_type": "execute_result"
    }
   ],
   "source": [
    "# Run the test for the virginica.\n",
    "ss.shapiro(dependent[independent == 3])"
   ]
  },
  {
   "cell_type": "markdown",
   "id": "022f6acf-fe8a-4a45-bf19-d102befc640b",
   "metadata": {},
   "source": [
    "### Assumption 6: Homogeneity of Variances\n",
    "**************************************************"
   ]
  },
  {
   "cell_type": "markdown",
   "id": "18c27fbc-9085-4986-89fb-77bf867c74a0",
   "metadata": {},
   "source": [
    "reference :https://www.statisticssolutions.com/the-assumption-of-homogeneity-of-variance/\n",
    "\n",
    "This is the assumption that all comparison groups have the same variance. If they dont , as long as the group sizes are equal , anova can go ahead a utilize F statistics without the fear of violation of this assumption. If the group sizes are not equal and homogeneity is violated then the F statistic is deemed biased. Large sample variances are associated with small groups sizes , causing the significance level to be underestimated and the null hypothesis to be rejected in error.However if large sample variances are associated with large group sizes , then this leads to overestimated significance level and may in turn lead to reducing the power of the test. \n",
    "There are several tests that can be used to test this assumption : Levene;s test . It assesses if the groups have equal variances by using F-test. A p value less than 0.05 indicates a violation of the assumption "
   ]
  },
  {
   "cell_type": "code",
   "execution_count": 57,
   "id": "c835b977-0bbc-453b-a1bd-e665698c4fef",
   "metadata": {},
   "outputs": [
    {
     "data": {
      "text/plain": [
       "LeveneResult(statistic=0.6256665777896286, pvalue=0.5376731304274011)"
      ]
     },
     "execution_count": 57,
     "metadata": {},
     "output_type": "execute_result"
    }
   ],
   "source": [
    "# Test for equal variances.\n",
    "ss.levene(\n",
    "    dependent[independent == 1],\n",
    "    dependent[independent == 2],\n",
    "    dependent[independent == 3]\n",
    ")"
   ]
  },
  {
   "cell_type": "code",
   "execution_count": null,
   "id": "7ed9d3d3-b8de-4a14-9fd7-d82c45048251",
   "metadata": {},
   "outputs": [],
   "source": [
    "The result is greater than 0.05 , therefore equal variances can be assumed and the anova results are valid"
   ]
  },
  {
   "cell_type": "markdown",
   "id": "4f62d54c-984b-43db-a3ab-4f46221bace1",
   "metadata": {},
   "source": [
    "### One-way ANOVA\n",
    "Even though assumption 6 (and possible 4) are looking bad, we'll go ahead for learning purposes.\n",
    "*****************************************************************************************************"
   ]
  },
  {
   "cell_type": "code",
   "execution_count": 58,
   "id": "87e377b1-4c72-475c-bf63-d740984d0dde",
   "metadata": {},
   "outputs": [
    {
     "data": {
      "text/plain": [
       "F_onewayResult(statistic=6.1974474531653545, pvalue=0.0032290142385893524)"
      ]
     },
     "execution_count": 58,
     "metadata": {},
     "output_type": "execute_result"
    }
   ],
   "source": [
    "# ANOVA.\n",
    "ss.f_oneway(\n",
    "    dependent[independent == 1],\n",
    "    dependent[independent == 2],\n",
    "    dependent[independent == 3]\n",
    ")"
   ]
  },
  {
   "cell_type": "markdown",
   "id": "6cfdc5dd-4ba7-4021-b4d8-bd8957465001",
   "metadata": {},
   "source": [
    "the following rules to determine if the categorical variable has any influence on the numerical variable:\n",
    "if p < 0.05, this means that the categorical variable has significant influence on the numerical variable\n",
    "if p > 0.05, this means that the categorical variable has no significant influence on the numerical variable"
   ]
  },
  {
   "cell_type": "code",
   "execution_count": null,
   "id": "030bf825-a3e8-4b1d-a15a-6cdc86cba52a",
   "metadata": {},
   "outputs": [],
   "source": [
    "## Two-Way Anova"
   ]
  },
  {
   "cell_type": "markdown",
   "id": "da93fb85-7713-4ac0-942e-d187ce2c23d6",
   "metadata": {},
   "source": [
    "Two-way ANOVA —used to check how a numerical variable responds to the levels of two or more independent categorical variables : So for the diet dataset , we can look at the effect of a persons height on weight loss. Ancova standards for 'Analysis of covariance' . It combines anova methods with linear regression on a number of different levels. The resulting output shows the effect of the independent variable after the effects of the covariates have been removed/ or accounted for. \n",
    "This is used to determine where or note there is statiscally significant difference between the means of three of more independent grps after contrilling for one or more covariates"
   ]
  },
  {
   "cell_type": "code",
   "execution_count": 13,
   "id": "595070bb-4799-463b-a8ec-e1f506c1f1db",
   "metadata": {},
   "outputs": [
    {
     "name": "stderr",
     "output_type": "stream",
     "text": [
      "<ipython-input-13-95d2940ec238>:1: FutureWarning:\n",
      "\n",
      "Indexing with multiple keys (implicitly converted to a tuple of keys) will be deprecated, use a list instead.\n",
      "\n"
     ]
    },
    {
     "data": {
      "text/html": [
       "<div>\n",
       "<style scoped>\n",
       "    .dataframe tbody tr th:only-of-type {\n",
       "        vertical-align: middle;\n",
       "    }\n",
       "\n",
       "    .dataframe tbody tr th {\n",
       "        vertical-align: top;\n",
       "    }\n",
       "\n",
       "    .dataframe thead tr th {\n",
       "        text-align: left;\n",
       "    }\n",
       "\n",
       "    .dataframe thead tr:last-of-type th {\n",
       "        text-align: right;\n",
       "    }\n",
       "</style>\n",
       "<table border=\"1\" class=\"dataframe\">\n",
       "  <thead>\n",
       "    <tr>\n",
       "      <th></th>\n",
       "      <th colspan=\"8\" halign=\"left\">Height</th>\n",
       "      <th colspan=\"8\" halign=\"left\">Weight loss</th>\n",
       "    </tr>\n",
       "    <tr>\n",
       "      <th></th>\n",
       "      <th>count</th>\n",
       "      <th>mean</th>\n",
       "      <th>std</th>\n",
       "      <th>min</th>\n",
       "      <th>25%</th>\n",
       "      <th>50%</th>\n",
       "      <th>75%</th>\n",
       "      <th>max</th>\n",
       "      <th>count</th>\n",
       "      <th>mean</th>\n",
       "      <th>std</th>\n",
       "      <th>min</th>\n",
       "      <th>25%</th>\n",
       "      <th>50%</th>\n",
       "      <th>75%</th>\n",
       "      <th>max</th>\n",
       "    </tr>\n",
       "    <tr>\n",
       "      <th>Diet</th>\n",
       "      <th></th>\n",
       "      <th></th>\n",
       "      <th></th>\n",
       "      <th></th>\n",
       "      <th></th>\n",
       "      <th></th>\n",
       "      <th></th>\n",
       "      <th></th>\n",
       "      <th></th>\n",
       "      <th></th>\n",
       "      <th></th>\n",
       "      <th></th>\n",
       "      <th></th>\n",
       "      <th></th>\n",
       "      <th></th>\n",
       "      <th></th>\n",
       "    </tr>\n",
       "  </thead>\n",
       "  <tbody>\n",
       "    <tr>\n",
       "      <th>1</th>\n",
       "      <td>24.0</td>\n",
       "      <td>170.291667</td>\n",
       "      <td>10.948413</td>\n",
       "      <td>156.0</td>\n",
       "      <td>164.5</td>\n",
       "      <td>167.5</td>\n",
       "      <td>173.25</td>\n",
       "      <td>201.0</td>\n",
       "      <td>24.0</td>\n",
       "      <td>3.300000</td>\n",
       "      <td>2.240148</td>\n",
       "      <td>-0.6</td>\n",
       "      <td>1.975</td>\n",
       "      <td>3.05</td>\n",
       "      <td>3.95</td>\n",
       "      <td>9.0</td>\n",
       "    </tr>\n",
       "    <tr>\n",
       "      <th>2</th>\n",
       "      <td>27.0</td>\n",
       "      <td>174.851852</td>\n",
       "      <td>12.082103</td>\n",
       "      <td>160.0</td>\n",
       "      <td>165.5</td>\n",
       "      <td>171.0</td>\n",
       "      <td>181.00</td>\n",
       "      <td>199.0</td>\n",
       "      <td>27.0</td>\n",
       "      <td>3.025926</td>\n",
       "      <td>2.523367</td>\n",
       "      <td>-2.1</td>\n",
       "      <td>1.700</td>\n",
       "      <td>3.30</td>\n",
       "      <td>4.50</td>\n",
       "      <td>7.9</td>\n",
       "    </tr>\n",
       "    <tr>\n",
       "      <th>3</th>\n",
       "      <td>27.0</td>\n",
       "      <td>167.259259</td>\n",
       "      <td>9.709601</td>\n",
       "      <td>141.0</td>\n",
       "      <td>161.5</td>\n",
       "      <td>169.0</td>\n",
       "      <td>174.00</td>\n",
       "      <td>183.0</td>\n",
       "      <td>27.0</td>\n",
       "      <td>5.148148</td>\n",
       "      <td>2.395568</td>\n",
       "      <td>0.5</td>\n",
       "      <td>3.450</td>\n",
       "      <td>5.40</td>\n",
       "      <td>7.00</td>\n",
       "      <td>9.2</td>\n",
       "    </tr>\n",
       "  </tbody>\n",
       "</table>\n",
       "</div>"
      ],
      "text/plain": [
       "     Height                                                             \\\n",
       "      count        mean        std    min    25%    50%     75%    max   \n",
       "Diet                                                                     \n",
       "1      24.0  170.291667  10.948413  156.0  164.5  167.5  173.25  201.0   \n",
       "2      27.0  174.851852  12.082103  160.0  165.5  171.0  181.00  199.0   \n",
       "3      27.0  167.259259   9.709601  141.0  161.5  169.0  174.00  183.0   \n",
       "\n",
       "     Weight loss                                                   \n",
       "           count      mean       std  min    25%   50%   75%  max  \n",
       "Diet                                                               \n",
       "1           24.0  3.300000  2.240148 -0.6  1.975  3.05  3.95  9.0  \n",
       "2           27.0  3.025926  2.523367 -2.1  1.700  3.30  4.50  7.9  \n",
       "3           27.0  5.148148  2.395568  0.5  3.450  5.40  7.00  9.2  "
      ]
     },
     "execution_count": 13,
     "metadata": {},
     "output_type": "execute_result"
    }
   ],
   "source": [
    "df.groupby(\"Diet\")['Height', 'Weight loss'].describe()"
   ]
  },
  {
   "cell_type": "markdown",
   "id": "fc0dc7f0-8cdd-4181-874a-a00fa94657d5",
   "metadata": {},
   "source": [
    "From the above comparison of diet types and height and weight loss, diet 3 with the most weight loss is also the the grp where the mean height is lower. Height may influence the weight loss as well "
   ]
  },
  {
   "cell_type": "code",
   "execution_count": null,
   "id": "9651b706-c134-4e9e-bcff-86f29acb15bc",
   "metadata": {},
   "outputs": [],
   "source": [
    "Performing the Ancova test : \n",
    "    \n",
    "    Factor variable - Diet type 1,2,3\n",
    "    Covariate - height\n",
    "    Response variable - Weight loss"
   ]
  },
  {
   "cell_type": "code",
   "execution_count": 9,
   "id": "7c64781c-0fee-4a23-b374-599c0c2c4100",
   "metadata": {},
   "outputs": [
    {
     "data": {
      "text/html": [
       "<div>\n",
       "<style scoped>\n",
       "    .dataframe tbody tr th:only-of-type {\n",
       "        vertical-align: middle;\n",
       "    }\n",
       "\n",
       "    .dataframe tbody tr th {\n",
       "        vertical-align: top;\n",
       "    }\n",
       "\n",
       "    .dataframe thead th {\n",
       "        text-align: right;\n",
       "    }\n",
       "</style>\n",
       "<table border=\"1\" class=\"dataframe\">\n",
       "  <thead>\n",
       "    <tr style=\"text-align: right;\">\n",
       "      <th></th>\n",
       "      <th>Source</th>\n",
       "      <th>SS</th>\n",
       "      <th>DF</th>\n",
       "      <th>F</th>\n",
       "      <th>p-unc</th>\n",
       "      <th>np2</th>\n",
       "    </tr>\n",
       "  </thead>\n",
       "  <tbody>\n",
       "    <tr>\n",
       "      <th>0</th>\n",
       "      <td>Diet</td>\n",
       "      <td>64.641783</td>\n",
       "      <td>2</td>\n",
       "      <td>5.563321</td>\n",
       "      <td>0.005612</td>\n",
       "      <td>0.130707</td>\n",
       "    </tr>\n",
       "    <tr>\n",
       "      <th>1</th>\n",
       "      <td>Height</td>\n",
       "      <td>0.265947</td>\n",
       "      <td>1</td>\n",
       "      <td>0.045777</td>\n",
       "      <td>0.831170</td>\n",
       "      <td>0.000618</td>\n",
       "    </tr>\n",
       "    <tr>\n",
       "      <th>2</th>\n",
       "      <td>Residual</td>\n",
       "      <td>429.913312</td>\n",
       "      <td>74</td>\n",
       "      <td>NaN</td>\n",
       "      <td>NaN</td>\n",
       "      <td>NaN</td>\n",
       "    </tr>\n",
       "  </tbody>\n",
       "</table>\n",
       "</div>"
      ],
      "text/plain": [
       "     Source          SS  DF         F     p-unc       np2\n",
       "0      Diet   64.641783   2  5.563321  0.005612  0.130707\n",
       "1    Height    0.265947   1  0.045777  0.831170  0.000618\n",
       "2  Residual  429.913312  74       NaN       NaN       NaN"
      ]
     },
     "execution_count": 9,
     "metadata": {},
     "output_type": "execute_result"
    }
   ],
   "source": [
    "from pingouin import ancova\n",
    "\n",
    "#perform ANCOVA\n",
    "ancova(data=df, dv='Weight loss', covar='Height', between='Diet')"
   ]
  },
  {
   "cell_type": "code",
   "execution_count": null,
   "id": "e3acf9f7-6133-4fee-b5a5-8ace1b87bdf0",
   "metadata": {},
   "outputs": [],
   "source": []
  },
  {
   "cell_type": "code",
   "execution_count": null,
   "id": "379499eb-05b2-4b2e-bb76-7d0033cc4df2",
   "metadata": {},
   "outputs": [],
   "source": []
  },
  {
   "cell_type": "code",
   "execution_count": null,
   "id": "bf114dbb-d313-4042-a13e-ab47d5e6f650",
   "metadata": {},
   "outputs": [],
   "source": []
  },
  {
   "cell_type": "code",
   "execution_count": null,
   "id": "9f4a9888-e084-455b-ac21-87ad58824b74",
   "metadata": {},
   "outputs": [],
   "source": []
  },
  {
   "cell_type": "code",
   "execution_count": null,
   "id": "c038c032-2f97-412c-be3f-828e432130fa",
   "metadata": {},
   "outputs": [],
   "source": []
  }
 ],
 "metadata": {
  "kernelspec": {
   "display_name": "Python 3",
   "language": "python",
   "name": "python3"
  },
  "language_info": {
   "codemirror_mode": {
    "name": "ipython",
    "version": 3
   },
   "file_extension": ".py",
   "mimetype": "text/x-python",
   "name": "python",
   "nbconvert_exporter": "python",
   "pygments_lexer": "ipython3",
   "version": "3.8.8"
  }
 },
 "nbformat": 4,
 "nbformat_minor": 5
}
