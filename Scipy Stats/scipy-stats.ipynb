{
 "cells": [
  {
   "cell_type": "markdown",
   "id": "37d94f98-5418-4a3d-bf74-c894f01746e2",
   "metadata": {},
   "source": [
    "\n",
    "## An Overview of Scipy-Stats Python Library"
   ]
  },
  {
   "cell_type": "markdown",
   "id": "49b41dec-ba24-49c5-a9f8-615ba4fc0117",
   "metadata": {},
   "source": [
    "Scipy-stats is the statistical functions subpackage of the SciPy library. The following are just some of its features :\n",
    "1. ##### Probabilistic distributions- \n",
    "          This describes all the possible values and likelihoods that a random variable can take within a given range. Continous and discrete random variables have mostly the same basic methods between them\n",
    "2. ##### Statistical operations -\n",
    "        Summary and Frequency statistics Gives details of the random variable data e,g mean , median and mode or the frequency of this data - how many times a variable data appears.\n",
    "3. ##### Statistical Tests-\n",
    "        e.g T-tests - showing how significant the differences between data groups , measured in means\n",
    "4. ##### Correlation Functions -\n",
    "        statistical correlation between random variables. E.g One- Way ANOVA\n",
    "5. ##### Kernel density estimation -\n",
    "        This is an efficient tool for estimation of the probability density function using histograms as a tool for visualization. The gaussian_kde estimator can be used to estimate both univariate and multivariate data.\n",
    "6. ##### Quasi- Monte Carlo functionality -\n",
    "        Firstly Monte Carlo integration functionality is a class of algorithms that rely on pseudo-random numbers whereas Quasi Monte Carlo integration uses sub random sequences of numbers which has the advantage of a faster rate of convergence. These are popular in the world of mathematical and computational finance\n",
    "\n"
   ]
  },
  {
   "cell_type": "markdown",
   "id": "2c2e4eb5-87ae-493b-b252-7a23e66f7f27",
   "metadata": {},
   "source": [
    "### Correlation Function of Scipy- Stats in Python :\n",
    "\n",
    "Aim: To use ANOVA for comparison between a categorical and numerical variables of a Diet Dataset\n",
    "    \n",
    "ANOVA stands for Analysis of Variance analysis. It uses F-tests to statistically test the equality of means. Named after Sir Ronald Fisher of the iris dataset fame.  \n",
    "\n",
    "We are going to examine the dataset looking at 3 different diets and their effects on a group of 78 people. We want to see if there is a direct relationship between each of the diets and the calculated weight loss ( if any) of the 78 people.  \n",
    "\n",
    "The variables looked at are Gender , Age , Height , Preweight , Diet and weight after 6 weeks , the weight loss calculated was also added to the csv file before importing it. The independent variable is diet\n",
    "\n",
    "Dataset Reference : \n",
    "\n",
    "https://www.sheffield.ac.uk/mash/statistics/datasets\n",
    "\n",
    "This data set contains information on 78 people using one of three diets:\n",
    "\n",
    "| Variable Name   \t| Variable                        \t| Data Type \t|\n",
    "|-----------------\t|---------------------------------\t|-----------\t|\n",
    "| People          \t| Particular Number               \t|           \t|\n",
    "| Gender          \t| 1= Male, 0 = Female             \t| Binary    \t|\n",
    "| Age             \t| Age ( years)                    \t| Scale     \t|\n",
    "| Height          \t| Height(cm)                      \t| Scale     \t|\n",
    "| Preweight       \t| Weight before the diet (kg)     \t| Scale     \t|\n",
    "| Diet            \t| Diet                            \t| Binary    \t|\n",
    "| Weight 6 weeks \t| Weight after 6 weeks (kg)      \t| Scale     \t|\n",
    "\n"
   ]
  },
  {
   "cell_type": "markdown",
   "id": "073d7fa9-55df-40ed-8678-27c6fa977362",
   "metadata": {},
   "source": [
    "### TASK OUTLINE : \n",
    "\n",
    "1. Analysis of diets. Download the dataset \n",
    "\n",
    "2. Import the diet data set with the function read.csv()\n",
    "\n",
    "3. Define a new column weight loss = the difference between the initial and final weights\n",
    "\n",
    "4. Display weight loss per diet type (column diet.type) by means of a boxplot.\n",
    "\n",
    "5. Perform a Fisher's, Welch's and Kruskal-Wallis one-way ANOVA, respectively by means of the functions oneway.test() and kruskal.test\n",
    "\n",
    "6. Display and analyze the results: Use the function summary() to display the results of an R object of class aov and the function print() otherwise.\n",
    "\n",
    "7. Present your conclusions "
   ]
  },
  {
   "cell_type": "markdown",
   "id": "c6150677-2bfa-475a-994e-2f204c0478ef",
   "metadata": {},
   "source": [
    "<img src=\"C:\\Users\\User\\Desktop\\repo\\Machine-learning-and-Statistics\\Scipy Stats\\Guidelines for Anova testing.png\"\n",
    "width=400 height=400 />"
   ]
  },
  {
   "cell_type": "markdown",
   "id": "834b6927-f34f-46bb-ab24-727d709a8730",
   "metadata": {},
   "source": [
    "Question : Which diet is best for losing weight ? /  Are there gender differences for weight lost ?\n"
   ]
  },
  {
   "cell_type": "markdown",
   "id": "1b5ecfda-80ce-44ab-86fb-e7554838df0e",
   "metadata": {},
   "source": [
    "### Importing Libraries"
   ]
  },
  {
   "cell_type": "code",
   "execution_count": 1,
   "id": "33edae33-5d3c-47dc-9779-025f987c6abf",
   "metadata": {},
   "outputs": [],
   "source": [
    "# Data frames.\n",
    "import pandas as pd\n",
    "\n",
    "# Plotting.\n",
    "import seaborn as sns\n",
    "\n",
    "# Stats.\n",
    "import scipy.stats as ss\n",
    "\n",
    "# Numerical arrays.\n",
    "import numpy as np\n",
    "\n",
    "# Collections.\n",
    "import collections as co\n",
    "\n",
    "# Specials.\n",
    "import scipy.special as spec\n",
    " \n",
    "import pylab\n",
    "import matplotlib.pyplot as plt\n",
    "# For plotting \n",
    "import plotly as py\n",
    "import plotly.graph_objects as go\n",
    "from plotly.offline import iplot\n",
    "import plotly.express as px\n",
    "\n",
    "import statsmodels.api as sm\n",
    "from statsmodels.formula.api import ols"
   ]
  },
  {
   "cell_type": "markdown",
   "id": "08ed7579-f886-41df-ae00-dcd738bf39c3",
   "metadata": {},
   "source": [
    "### IMPORTING THE DATABASE"
   ]
  },
  {
   "cell_type": "code",
   "execution_count": 2,
   "id": "67a6d900-a5da-4f14-acb9-3bf5e4990078",
   "metadata": {},
   "outputs": [
    {
     "data": {
      "text/html": [
       "<div>\n",
       "<style scoped>\n",
       "    .dataframe tbody tr th:only-of-type {\n",
       "        vertical-align: middle;\n",
       "    }\n",
       "\n",
       "    .dataframe tbody tr th {\n",
       "        vertical-align: top;\n",
       "    }\n",
       "\n",
       "    .dataframe thead th {\n",
       "        text-align: right;\n",
       "    }\n",
       "</style>\n",
       "<table border=\"1\" class=\"dataframe\">\n",
       "  <thead>\n",
       "    <tr style=\"text-align: right;\">\n",
       "      <th></th>\n",
       "      <th>Person</th>\n",
       "      <th>gender</th>\n",
       "      <th>Age</th>\n",
       "      <th>Height</th>\n",
       "      <th>pre.weight</th>\n",
       "      <th>Diet</th>\n",
       "      <th>weight6weeks</th>\n",
       "      <th>Weight loss</th>\n",
       "    </tr>\n",
       "  </thead>\n",
       "  <tbody>\n",
       "    <tr>\n",
       "      <th>0</th>\n",
       "      <td>25</td>\n",
       "      <td></td>\n",
       "      <td>41</td>\n",
       "      <td>171</td>\n",
       "      <td>60</td>\n",
       "      <td>2</td>\n",
       "      <td>60.0</td>\n",
       "      <td>0.0</td>\n",
       "    </tr>\n",
       "    <tr>\n",
       "      <th>1</th>\n",
       "      <td>26</td>\n",
       "      <td></td>\n",
       "      <td>32</td>\n",
       "      <td>174</td>\n",
       "      <td>103</td>\n",
       "      <td>2</td>\n",
       "      <td>103.0</td>\n",
       "      <td>0.0</td>\n",
       "    </tr>\n",
       "    <tr>\n",
       "      <th>2</th>\n",
       "      <td>1</td>\n",
       "      <td>0</td>\n",
       "      <td>22</td>\n",
       "      <td>159</td>\n",
       "      <td>58</td>\n",
       "      <td>1</td>\n",
       "      <td>54.2</td>\n",
       "      <td>3.8</td>\n",
       "    </tr>\n",
       "    <tr>\n",
       "      <th>3</th>\n",
       "      <td>2</td>\n",
       "      <td>0</td>\n",
       "      <td>46</td>\n",
       "      <td>192</td>\n",
       "      <td>60</td>\n",
       "      <td>1</td>\n",
       "      <td>54.0</td>\n",
       "      <td>6.0</td>\n",
       "    </tr>\n",
       "    <tr>\n",
       "      <th>4</th>\n",
       "      <td>3</td>\n",
       "      <td>0</td>\n",
       "      <td>55</td>\n",
       "      <td>170</td>\n",
       "      <td>64</td>\n",
       "      <td>1</td>\n",
       "      <td>63.3</td>\n",
       "      <td>0.7</td>\n",
       "    </tr>\n",
       "    <tr>\n",
       "      <th>...</th>\n",
       "      <td>...</td>\n",
       "      <td>...</td>\n",
       "      <td>...</td>\n",
       "      <td>...</td>\n",
       "      <td>...</td>\n",
       "      <td>...</td>\n",
       "      <td>...</td>\n",
       "      <td>...</td>\n",
       "    </tr>\n",
       "    <tr>\n",
       "      <th>73</th>\n",
       "      <td>74</td>\n",
       "      <td>1</td>\n",
       "      <td>35</td>\n",
       "      <td>183</td>\n",
       "      <td>83</td>\n",
       "      <td>3</td>\n",
       "      <td>80.2</td>\n",
       "      <td>2.8</td>\n",
       "    </tr>\n",
       "    <tr>\n",
       "      <th>74</th>\n",
       "      <td>75</td>\n",
       "      <td>1</td>\n",
       "      <td>49</td>\n",
       "      <td>177</td>\n",
       "      <td>84</td>\n",
       "      <td>3</td>\n",
       "      <td>79.9</td>\n",
       "      <td>4.1</td>\n",
       "    </tr>\n",
       "    <tr>\n",
       "      <th>75</th>\n",
       "      <td>76</td>\n",
       "      <td>1</td>\n",
       "      <td>28</td>\n",
       "      <td>164</td>\n",
       "      <td>85</td>\n",
       "      <td>3</td>\n",
       "      <td>79.7</td>\n",
       "      <td>5.3</td>\n",
       "    </tr>\n",
       "    <tr>\n",
       "      <th>76</th>\n",
       "      <td>77</td>\n",
       "      <td>1</td>\n",
       "      <td>40</td>\n",
       "      <td>167</td>\n",
       "      <td>87</td>\n",
       "      <td>3</td>\n",
       "      <td>77.8</td>\n",
       "      <td>9.2</td>\n",
       "    </tr>\n",
       "    <tr>\n",
       "      <th>77</th>\n",
       "      <td>78</td>\n",
       "      <td>1</td>\n",
       "      <td>51</td>\n",
       "      <td>175</td>\n",
       "      <td>88</td>\n",
       "      <td>3</td>\n",
       "      <td>81.9</td>\n",
       "      <td>6.1</td>\n",
       "    </tr>\n",
       "  </tbody>\n",
       "</table>\n",
       "<p>78 rows × 8 columns</p>\n",
       "</div>"
      ],
      "text/plain": [
       "    Person gender  Age  Height  pre.weight  Diet  weight6weeks  Weight loss\n",
       "0       25          41     171          60     2          60.0          0.0\n",
       "1       26          32     174         103     2         103.0          0.0\n",
       "2        1      0   22     159          58     1          54.2          3.8\n",
       "3        2      0   46     192          60     1          54.0          6.0\n",
       "4        3      0   55     170          64     1          63.3          0.7\n",
       "..     ...    ...  ...     ...         ...   ...           ...          ...\n",
       "73      74      1   35     183          83     3          80.2          2.8\n",
       "74      75      1   49     177          84     3          79.9          4.1\n",
       "75      76      1   28     164          85     3          79.7          5.3\n",
       "76      77      1   40     167          87     3          77.8          9.2\n",
       "77      78      1   51     175          88     3          81.9          6.1\n",
       "\n",
       "[78 rows x 8 columns]"
      ]
     },
     "execution_count": 2,
     "metadata": {},
     "output_type": "execute_result"
    }
   ],
   "source": [
    "df = pd.read_csv(r'C:\\Users\\User\\Desktop\\repo\\Machine-learning-and-Statistics\\Scipy Stats\\Diet_R.csv')\n",
    "df"
   ]
  },
  {
   "cell_type": "code",
   "execution_count": 3,
   "id": "5f2bf046-a0f8-4400-9b6c-d9f784548d35",
   "metadata": {},
   "outputs": [
    {
     "data": {
      "text/plain": [
       "78"
      ]
     },
     "execution_count": 3,
     "metadata": {},
     "output_type": "execute_result"
    }
   ],
   "source": [
    "#observation size\n",
    "df.shape[0]   # number of observations\n"
   ]
  },
  {
   "cell_type": "code",
   "execution_count": 4,
   "id": "dafdfd84-74f0-45a9-8050-193d07d42406",
   "metadata": {},
   "outputs": [
    {
     "data": {
      "text/html": [
       "<div>\n",
       "<style scoped>\n",
       "    .dataframe tbody tr th:only-of-type {\n",
       "        vertical-align: middle;\n",
       "    }\n",
       "\n",
       "    .dataframe tbody tr th {\n",
       "        vertical-align: top;\n",
       "    }\n",
       "\n",
       "    .dataframe thead th {\n",
       "        text-align: right;\n",
       "    }\n",
       "</style>\n",
       "<table border=\"1\" class=\"dataframe\">\n",
       "  <thead>\n",
       "    <tr style=\"text-align: right;\">\n",
       "      <th></th>\n",
       "      <th>count</th>\n",
       "      <th>mean</th>\n",
       "      <th>std</th>\n",
       "      <th>min</th>\n",
       "      <th>25%</th>\n",
       "      <th>50%</th>\n",
       "      <th>75%</th>\n",
       "      <th>max</th>\n",
       "    </tr>\n",
       "    <tr>\n",
       "      <th>Diet</th>\n",
       "      <th></th>\n",
       "      <th></th>\n",
       "      <th></th>\n",
       "      <th></th>\n",
       "      <th></th>\n",
       "      <th></th>\n",
       "      <th></th>\n",
       "      <th></th>\n",
       "    </tr>\n",
       "  </thead>\n",
       "  <tbody>\n",
       "    <tr>\n",
       "      <th>1</th>\n",
       "      <td>24.0</td>\n",
       "      <td>3.300000</td>\n",
       "      <td>2.240148</td>\n",
       "      <td>-0.6</td>\n",
       "      <td>1.975</td>\n",
       "      <td>3.05</td>\n",
       "      <td>3.95</td>\n",
       "      <td>9.0</td>\n",
       "    </tr>\n",
       "    <tr>\n",
       "      <th>2</th>\n",
       "      <td>27.0</td>\n",
       "      <td>3.025926</td>\n",
       "      <td>2.523367</td>\n",
       "      <td>-2.1</td>\n",
       "      <td>1.700</td>\n",
       "      <td>3.30</td>\n",
       "      <td>4.50</td>\n",
       "      <td>7.9</td>\n",
       "    </tr>\n",
       "    <tr>\n",
       "      <th>3</th>\n",
       "      <td>27.0</td>\n",
       "      <td>5.148148</td>\n",
       "      <td>2.395568</td>\n",
       "      <td>0.5</td>\n",
       "      <td>3.450</td>\n",
       "      <td>5.40</td>\n",
       "      <td>7.00</td>\n",
       "      <td>9.2</td>\n",
       "    </tr>\n",
       "  </tbody>\n",
       "</table>\n",
       "</div>"
      ],
      "text/plain": [
       "      count      mean       std  min    25%   50%   75%  max\n",
       "Diet                                                        \n",
       "1      24.0  3.300000  2.240148 -0.6  1.975  3.05  3.95  9.0\n",
       "2      27.0  3.025926  2.523367 -2.1  1.700  3.30  4.50  7.9\n",
       "3      27.0  5.148148  2.395568  0.5  3.450  5.40  7.00  9.2"
      ]
     },
     "execution_count": 4,
     "metadata": {},
     "output_type": "execute_result"
    }
   ],
   "source": [
    "df.groupby(\"Diet\")['Weight loss'].describe()"
   ]
  },
  {
   "cell_type": "markdown",
   "id": "01b1561c-3d38-473c-a401-90dc1b0072b2",
   "metadata": {},
   "source": [
    "By grouping the diet and weight loss together and running the descibe() on it , we can see that diet 3 is the better diet to do as the mean weight is greater. The standard deviations are similar which can mean that the weight loss between each group is evenly spread out as well. "
   ]
  },
  {
   "cell_type": "markdown",
   "id": "f61df8bf-4ea7-4be8-81c4-a980711594f8",
   "metadata": {},
   "source": [
    "## Formulate the hyptheses of the One-Way ANOVA of 'Diet' variable with the 'Weight loss\" variable\n",
    "\n",
    "H₀ (Null hypothesis) — that there is no difference among the 3 diet group means.\n",
    "H₁ (Alternate hypothesis) — that at least one diet group mean differs significantly from the overall mean of the dependent variable."
   ]
  },
  {
   "cell_type": "markdown",
   "id": "f40c25f8-e497-4370-ab24-35349642e166",
   "metadata": {},
   "source": [
    "### Assumption 1: Dependent variable\n",
    "*************************************\n",
    "\n",
    "A dependent variable should be measure at a continous interval level. "
   ]
  },
  {
   "cell_type": "code",
   "execution_count": 5,
   "id": "01f53d9a-bca0-4be1-8118-0d593fc5696d",
   "metadata": {},
   "outputs": [
    {
     "data": {
      "text/plain": [
       "0     0.0\n",
       "1     0.0\n",
       "2     3.8\n",
       "3     6.0\n",
       "4     0.7\n",
       "     ... \n",
       "73    2.8\n",
       "74    4.1\n",
       "75    5.3\n",
       "76    9.2\n",
       "77    6.1\n",
       "Name: Weight loss, Length: 78, dtype: float64"
      ]
     },
     "execution_count": 5,
     "metadata": {},
     "output_type": "execute_result"
    }
   ],
   "source": [
    "# The dependent variable.\n",
    "dependent = df['Weight loss']\n",
    "dependent"
   ]
  },
  {
   "cell_type": "code",
   "execution_count": 6,
   "id": "7fc6a14b-bfba-4abc-a510-e10e97abd68f",
   "metadata": {},
   "outputs": [
    {
     "data": {
      "text/plain": [
       "count    78.000000\n",
       "mean      3.844872\n",
       "std       2.551478\n",
       "min      -2.100000\n",
       "25%       2.000000\n",
       "50%       3.600000\n",
       "75%       5.550000\n",
       "max       9.200000\n",
       "Name: Weight loss, dtype: float64"
      ]
     },
     "execution_count": 6,
     "metadata": {},
     "output_type": "execute_result"
    }
   ],
   "source": [
    "dependent.describe()"
   ]
  },
  {
   "cell_type": "markdown",
   "id": "2327fe73-76b4-4587-97c1-978cd2c4fe02",
   "metadata": {},
   "source": [
    "### Assumption 2: Independent variable\n",
    "*************************************\n",
    "This should consist of 2 or more categorical independent groups/ "
   ]
  },
  {
   "cell_type": "code",
   "execution_count": 7,
   "id": "4525683b-223f-4814-9a37-e57c830911a5",
   "metadata": {},
   "outputs": [
    {
     "data": {
      "text/plain": [
       "0     2\n",
       "1     2\n",
       "2     1\n",
       "3     1\n",
       "4     1\n",
       "     ..\n",
       "73    3\n",
       "74    3\n",
       "75    3\n",
       "76    3\n",
       "77    3\n",
       "Name: Diet, Length: 78, dtype: int64"
      ]
     },
     "execution_count": 7,
     "metadata": {},
     "output_type": "execute_result"
    }
   ],
   "source": [
    "# Independent variable.\n",
    "independent1 = df['Diet']\n",
    "independent1"
   ]
  },
  {
   "cell_type": "markdown",
   "id": "f46520e6-b10d-48fe-be42-7c5cf698b272",
   "metadata": {},
   "source": [
    "### Assumption 3: Independence of Observations\n",
    "\n",
    "\n",
    "*************************************************\n",
    "\n",
    "There is no relationship between the observations in each group or between the groups themselves. So for example , each participant in the diet test , should only be on one of the diets. This assumption is true. This should be taken into account at the start or at the design phase before testing. \n"
   ]
  },
  {
   "cell_type": "markdown",
   "id": "65ff7880-8fe4-4d7e-9769-e320e609fe0b",
   "metadata": {},
   "source": [
    "### Assumption 4: Outliers\n",
    "*************************************************"
   ]
  },
  {
   "cell_type": "markdown",
   "id": "d9297adb-90b5-40a8-816a-30b807001f15",
   "metadata": {},
   "source": [
    "Reference #https://statisticsbyjim.com/basics/graph-groups-boxplots-individual-values/"
   ]
  },
  {
   "attachments": {
    "8171567f-3539-4920-b62a-546271cc8dd2.png": {
     "image/png": "[encoded data removed]"
    }
   },
   "cell_type": "markdown",
   "id": "8eb82734-68c1-4288-957b-e9f035bd44c9",
   "metadata": {},
   "source": [
    "We draw a box plot to show distributions by breaking down the data in to quartiles. The boxplot shows the quartiles of the dataset while the whiskers extend to show the rest of the distribution, then symbols are displayed for outliers that fall outside the whiskers.Outliers are the unusual values in a dataset and can have a negative effect on the ANOVA statistical analysis- leading to distortion of results or unsure findings\n",
    "Boxplots is a good method if you have multiple distributions\n",
    "\n",
    "![image.png](attachment:8171567f-3539-4920-b62a-546271cc8dd2.png)! \n",
    "\n",
    "What does a boxplot tell us apart from the presence or not of outliers ?\n",
    "\n",
    "- if a distribution is symmetrical  , the length of the box and whiskers on both sides of the median should be approx equal \n",
    "if not the data distribution is skewed\n",
    "\n",
    "So looking at the box plot of out diet dataset variables  , we see that diet 1 and 2 have the same median but diet 2 has more variability . Diet 3 median value is greater than 1 and 2 and has more variability in weight loss. There is also the appearance of 2 outliers for diet 1. "
   ]
  },
  {
   "cell_type": "code",
   "execution_count": 8,
   "id": "468686c2-3f09-434f-bb10-ddc702ed09de",
   "metadata": {},
   "outputs": [
    {
     "ename": "NameError",
     "evalue": "name 'independent' is not defined",
     "output_type": "error",
     "traceback": [
      "\u001b[1;31m---------------------------------------------------------------------------\u001b[0m",
      "\u001b[1;31mNameError\u001b[0m                                 Traceback (most recent call last)",
      "\u001b[1;32m<ipython-input-8-152b980e49f8>\u001b[0m in \u001b[0;36m<module>\u001b[1;34m\u001b[0m\n\u001b[0;32m      1\u001b[0m \u001b[1;31m# https://seaborn.pydata.org/generated/seaborn.boxplot.html\u001b[0m\u001b[1;33m\u001b[0m\u001b[1;33m\u001b[0m\u001b[1;33m\u001b[0m\u001b[0m\n\u001b[1;32m----> 2\u001b[1;33m \u001b[0msns\u001b[0m\u001b[1;33m.\u001b[0m\u001b[0mboxplot\u001b[0m\u001b[1;33m(\u001b[0m\u001b[0mx\u001b[0m\u001b[1;33m=\u001b[0m\u001b[0mindependent\u001b[0m\u001b[1;33m,\u001b[0m \u001b[0my\u001b[0m\u001b[1;33m=\u001b[0m\u001b[0mdependent\u001b[0m\u001b[1;33m,\u001b[0m \u001b[0mhue\u001b[0m\u001b[1;33m=\u001b[0m\u001b[0mindependent2\u001b[0m\u001b[1;33m)\u001b[0m\u001b[1;33m\u001b[0m\u001b[1;33m\u001b[0m\u001b[0m\n\u001b[0m",
      "\u001b[1;31mNameError\u001b[0m: name 'independent' is not defined"
     ]
    }
   ],
   "source": [
    "# https://seaborn.pydata.org/generated/seaborn.boxplot.html\n",
    "sns.boxplot(x=independent, y=dependent, hue=independent2)"
   ]
  },
  {
   "cell_type": "markdown",
   "id": "373d5277-fcfb-4ef5-89ee-26f70c7c7097",
   "metadata": {},
   "source": [
    "Using the plotly express package in python , we created a boxplot with go.Box from the plotly.graph objects.Its just another way of illustrating the variables\n",
    "\n",
    "reference : https://plotly.com/python/box-plots/"
   ]
  },
  {
   "cell_type": "code",
   "execution_count": null,
   "id": "64cd7303-19a6-4990-b60b-5d0055b713ed",
   "metadata": {},
   "outputs": [],
   "source": [
    "fig = go.Figure()\n",
    "\n",
    "fig.add_trace(go.Box(y=df.Age.values, name = \"Age\"))\n",
    "fig.add_trace(go.Box(y=df.Height.values, name = \"Height\"))\n",
    "fig.add_trace(go.Box(y=df[\"pre.weight\"].values, name = \"Start weight\"))\n",
    "fig.add_trace(go.Box(y=df[\"Weight loss\"].values, name = \"Finish weight\"))\n",
    "\n",
    "fig.show()"
   ]
  },
  {
   "cell_type": "code",
   "execution_count": null,
   "id": "10d98a09-0a09-49cd-915f-d0ffed7cd098",
   "metadata": {},
   "outputs": [],
   "source": [
    "_ = df.boxplot('Weight loss', by='Diet')"
   ]
  },
  {
   "cell_type": "code",
   "execution_count": null,
   "id": "f831f48e-3322-4338-8472-058de172a2a0",
   "metadata": {},
   "outputs": [],
   "source": []
  },
  {
   "cell_type": "markdown",
   "id": "e1570a1d-a994-4811-805a-e15d5442d5ab",
   "metadata": {},
   "source": [
    "### Assumption 5: Normality\n",
    "*******************************************"
   ]
  },
  {
   "cell_type": "markdown",
   "id": "73b3260c-56cf-42ea-85ca-844684f1f3e5",
   "metadata": {},
   "source": [
    "reference : https://towardsdatascience.com/6-ways-to-test-for-a-normal-distribution-which-one-to-use-9dcf47d8fa93\n",
    "\n",
    "\n",
    "\n",
    "Anova assumes that each samples was drawn from a normally distributed population. To check this assumption we look at 2 approaches : \n",
    "\n",
    "1. Visually using histograms or Q-Q plots\n",
    "\n",
    "\n",
    "\n",
    "\n",
    "\n",
    "2. Formal statisticals test : Shapiro-Wilk \n",
    "\n",
    "This is the most powerful test when testing for a normal distribution. Developed specifically for the normal distribution. \n",
    "Normal distribution is assumed if the P-value >0.05  \n"
   ]
  },
  {
   "cell_type": "code",
   "execution_count": null,
   "id": "0c2cf6b2-a508-402f-a435-6211e0e79347",
   "metadata": {},
   "outputs": [],
   "source": [
    "# KDEs of the three categories.\n",
    "sns.displot(x=dependent, hue=independent1, kind=\"kde\")"
   ]
  },
  {
   "cell_type": "code",
   "execution_count": null,
   "id": "4a75293c-882a-4610-b8d3-e135328a0412",
   "metadata": {},
   "outputs": [],
   "source": []
  },
  {
   "cell_type": "code",
   "execution_count": null,
   "id": "7e4e738f-3403-4766-97e7-a2af22a40fe9",
   "metadata": {},
   "outputs": [],
   "source": [
    "# Extract the weight losses for diet 1.\n",
    "Weightloss_1 = dependent[independent1 == 1]\n",
    "Weightloss_1"
   ]
  },
  {
   "cell_type": "code",
   "execution_count": null,
   "id": "6401b18e-a6cb-48cb-9aa0-a5e0e550454d",
   "metadata": {},
   "outputs": [],
   "source": [
    "Weightloss_f = dependent[independent2 == 0]\n",
    "Weightloss_f"
   ]
  },
  {
   "cell_type": "code",
   "execution_count": null,
   "id": "46d996e2-3558-474c-9051-7a8fb15a89a5",
   "metadata": {},
   "outputs": [],
   "source": [
    "# Extract the weight losses for diet 1.\n",
    "Weightloss_2 = dependent[independent1 == 2]\n",
    "Weightloss_2"
   ]
  },
  {
   "cell_type": "code",
   "execution_count": null,
   "id": "15a1b770-8507-4da0-929c-cd40a80e2e92",
   "metadata": {},
   "outputs": [],
   "source": [
    "# Extract the weight losses for diet 1.\n",
    "Weightloss_3 = dependent[independent1 == 3]\n",
    "Weightloss_3"
   ]
  },
  {
   "cell_type": "code",
   "execution_count": null,
   "id": "39b7a643-3f65-4f93-a968-7596506cc278",
   "metadata": {},
   "outputs": [],
   "source": [
    "# Run the Shapiro-Wilk test.\n",
    "ss.shapiro(dependent[independent1 == 1])"
   ]
  },
  {
   "cell_type": "code",
   "execution_count": null,
   "id": "c0e957c7-2288-41da-bc54-5e017a55d50c",
   "metadata": {},
   "outputs": [],
   "source": [
    "ss.shapiro(dependent[independent1 == 2])"
   ]
  },
  {
   "cell_type": "code",
   "execution_count": null,
   "id": "aaffd4b6-f6b9-456b-9942-ae6cca86a823",
   "metadata": {},
   "outputs": [],
   "source": [
    "# Run the test for the virginica.\n",
    "ss.shapiro(dependent[independent1 == 3])"
   ]
  },
  {
   "cell_type": "markdown",
   "id": "022f6acf-fe8a-4a45-bf19-d102befc640b",
   "metadata": {},
   "source": [
    "### Assumption 6: Homogeneity of Variances\n",
    "**************************************************"
   ]
  },
  {
   "cell_type": "markdown",
   "id": "18c27fbc-9085-4986-89fb-77bf867c74a0",
   "metadata": {},
   "source": [
    "reference :https://www.statisticssolutions.com/the-assumption-of-homogeneity-of-variance/\n",
    "\n",
    "This is the assumption that all comparison groups have the same variance. If they dont , as long as the group sizes are equal , anova can go ahead a utilize F statistics without the fear of violation of this assumption. If the group sizes are not equal and homogeneity is violated then the F statistic is deemed biased. Large sample variances are associated with small groups sizes , causing the significance level to be underestimated and the null hypothesis to be rejected in error.However if large sample variances are associated with large group sizes , then this leads to overestimated significance level and may in turn lead to reducing the power of the test. \n",
    "There are several tests that can be used to test this assumption : Levene;s test . It assesses if the groups have equal variances by using F-test. A p value less than 0.05 indicates a violation of the assumption "
   ]
  },
  {
   "cell_type": "code",
   "execution_count": null,
   "id": "c835b977-0bbc-453b-a1bd-e665698c4fef",
   "metadata": {},
   "outputs": [],
   "source": [
    "# Test for equal variances.\n",
    "ss.levene(\n",
    "    dependent[independent == 1],\n",
    "    dependent[independent == 2],\n",
    "    dependent[independent == 3]\n",
    ")"
   ]
  },
  {
   "cell_type": "markdown",
   "id": "a27305aa-d68d-40b9-8fd8-913477c7c5ab",
   "metadata": {},
   "source": [
    "The result is greater than 0.05 , therefore equal variances can be assumed and the anova results are valid"
   ]
  },
  {
   "cell_type": "markdown",
   "id": "4f62d54c-984b-43db-a3ab-4f46221bace1",
   "metadata": {},
   "source": [
    "### One-way ANOVA\n",
    "\n",
    "*****************************************************************************************************"
   ]
  },
  {
   "cell_type": "code",
   "execution_count": null,
   "id": "87e377b1-4c72-475c-bf63-d740984d0dde",
   "metadata": {},
   "outputs": [],
   "source": [
    "# ANOVA.\n",
    "ss.f_oneway(\n",
    "    dependent[independent1 == 1],\n",
    "    dependent[independent1 == 2],\n",
    "    dependent[independent1 == 3]\n",
    ")"
   ]
  },
  {
   "cell_type": "code",
   "execution_count": null,
   "id": "add43a53-a6cc-472b-95d7-06198082358c",
   "metadata": {},
   "outputs": [],
   "source": [
    "ss.kruskal(\n",
    "    dependent[independent1 == 1],\n",
    "    dependent[independent1 == 2],\n",
    "    dependent[independent1 == 3]\n",
    ")"
   ]
  },
  {
   "cell_type": "code",
   "execution_count": 9,
   "id": "e6f38ada-fe35-4593-82ad-0f1e523fdbb5",
   "metadata": {},
   "outputs": [
    {
     "ename": "SyntaxError",
     "evalue": "invalid syntax (<ipython-input-9-7fcf909ca81b>, line 3)",
     "output_type": "error",
     "traceback": [
      "\u001b[1;36m  File \u001b[1;32m\"<ipython-input-9-7fcf909ca81b>\"\u001b[1;36m, line \u001b[1;32m3\u001b[0m\n\u001b[1;33m    model = ols('Weight loss' ~ 'diet', data=df).fit()\u001b[0m\n\u001b[1;37m                              ^\u001b[0m\n\u001b[1;31mSyntaxError\u001b[0m\u001b[1;31m:\u001b[0m invalid syntax\n"
     ]
    }
   ],
   "source": [
    "\n",
    "https://ariepratama.github.io/How-to-Use-1-Way-Anova-in-Python/"
   ]
  },
  {
   "cell_type": "markdown",
   "id": "6cfdc5dd-4ba7-4021-b4d8-bd8957465001",
   "metadata": {},
   "source": [
    "the following rules to determine if the categorical variable has any influence on the numerical variable:\n",
    "if p < 0.05, this means that the categorical variable has significant influence on the numerical variable\n",
    "if p > 0.05, this means that the categorical variable has no significant influence on the numerical variable"
   ]
  },
  {
   "cell_type": "code",
   "execution_count": null,
   "id": "595070bb-4799-463b-a8ec-e1f506c1f1db",
   "metadata": {},
   "outputs": [],
   "source": [
    "df.groupby(\"Diet\")['gender', 'Weight loss'].describe()"
   ]
  },
  {
   "cell_type": "markdown",
   "id": "b4bfa25c-624e-4149-84b9-b106b954fc47",
   "metadata": {},
   "source": [
    "### Plot the interaction plot between the two variables and comment on the extent of interaction between the two categorical variables.¶"
   ]
  },
  {
   "cell_type": "code",
   "execution_count": null,
   "id": "39d661bc-7ac5-42a9-9e71-a7a4271bd620",
   "metadata": {},
   "outputs": [],
   "source": [
    "f, ax = plt.subplots(figsize=(11,9))\n",
    "plt.title('Weight Distributions Between Sample')\n",
    "plt.ylabel('pdf')\n",
    "sns.distplot(df.Weight loss) "
   ]
  },
  {
   "cell_type": "code",
   "execution_count": null,
   "id": "379499eb-05b2-4b2e-bb76-7d0033cc4df2",
   "metadata": {},
   "outputs": [],
   "source": [
    "sns.catplot(x='Diet', y='Weight loss', data=df, hue='gender');"
   ]
  },
  {
   "cell_type": "code",
   "execution_count": null,
   "id": "bf114dbb-d313-4042-a13e-ab47d5e6f650",
   "metadata": {},
   "outputs": [],
   "source": [
    "f, ax = plt.subplots(figsize=(11,9))\n",
    "sns.distplot(df[df.gender == '1'].weight6weeks, ax=ax, label='Male')\n",
    "sns.distplot(df[df.gender == '0'].weight6weeks, ax=ax, label='Female')\n",
    "plt.title('Weight Distribution for Each Gender')\n",
    "plt.legend()"
   ]
  },
  {
   "cell_type": "code",
   "execution_count": null,
   "id": "9f4a9888-e084-455b-ac21-87ad58824b74",
   "metadata": {},
   "outputs": [],
   "source": [
    "df.groupby(['gender', 'Diet']).agg(\n",
    "    [np.mean, np.median, np.count_nonzero, np.std]\n",
    ").weight6weeks"
   ]
  },
  {
   "cell_type": "markdown",
   "id": "0454a66a-6171-467a-a4a9-855d6a15636e",
   "metadata": {},
   "source": [
    "### Two-way ANOVA\n",
    "\n",
    "reference : https://www.statisticshowto.com/probability-and-statistics/hypothesis-testing/anova/#TwoWay\n",
    "***************************************************************\n",
    "\n",
    "To look at the interaction between weight loss and gender for each diet. The weight loss is the outcome or the variable that can be measuered , gender and diet are the two catergorical variables. These are also the independent variables , known as factors in a two way ANOVA. The factor diet is split into 3 types and gender is split into 2, male and female. \n",
    "Results from a 2 way ANOVA calculates the main effect and the interaction effect. \n",
    "There are 2 null hypotheses : \n",
    "H1 - The weight loss mean for each of the 3 diets are equal \n",
    "H2 - the weight loss mean for both genders are equal\n",
    "\n",
    "Assumptions for the 2- way ANOVA \n",
    "The population must be close to a normal distribution.\n",
    "Samples must be independent.\n",
    "Population variances must be equal (i.e. homoscedastic).\n",
    "Groups must have equal sample sizes.\n"
   ]
  }
 ],
 "metadata": {
  "kernelspec": {
   "display_name": "Python 3",
   "language": "python",
   "name": "python3"
  },
  "language_info": {
   "codemirror_mode": {
    "name": "ipython",
    "version": 3
   },
   "file_extension": ".py",
   "mimetype": "text/x-python",
   "name": "python",
   "nbconvert_exporter": "python",
   "pygments_lexer": "ipython3",
   "version": "3.8.8"
  }
 },
 "nbformat": 4,
 "nbformat_minor": 5
}
