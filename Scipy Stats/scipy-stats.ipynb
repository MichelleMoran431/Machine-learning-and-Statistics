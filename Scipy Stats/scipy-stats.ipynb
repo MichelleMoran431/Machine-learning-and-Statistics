{
 "cells": [
  {
   "cell_type": "markdown",
   "id": "37d94f98-5418-4a3d-bf74-c894f01746e2",
   "metadata": {},
   "source": [
    "## An Overview of Scipy-Stats Python Library"
   ]
  },
  {
   "cell_type": "markdown",
   "id": "49b41dec-ba24-49c5-a9f8-615ba4fc0117",
   "metadata": {},
   "source": [
    "Scipy-stats is the statistical Functions subpackage of the SciPy library.It consists of a large number of probability distribution and statistical functions.\n",
    "\n",
    "Purpose  : \n",
    "\n",
    "1. Has functions for both Discrete and Continuous variables\n",
    "\n",
    "2. Descriptive Statistical values - the values of observation in a variable\n",
    "\n",
    "4. Different types of distributions such as :\n",
    "\n",
    "        .  Uniform ( continous or discrete )-  distribution describes an experiment where there is an arbitrary outcome that lies between certain parameters or  \"discrete uniform distribution\" would be \"a known, finite number of outcomes equally likely to happen\".\n",
    "       . Continuous - A probability distribution in which the random variable X can take on any value (is continuous)\n",
    "       . Binomial -distribution type that has two possible outcomes e.g, a coin toss has only two possible outcomes: heads or   tails \n",
    "\n",
    "5. Perform T-tests on data to evaluate the difference between the mean (average) values of two arrays.\n",
    "\n",
    "\n",
    "SciPy Stats consists of the following three generic base classes:\n",
    "\n",
    "\n",
    "1. rv_continuous\n",
    "\n",
    " - construction of a specific distribution sub-classes and instances for continuous random variables. It can take any value\n",
    "\n",
    "2. rv_discrete\n",
    "\n",
    " - construction of a specific distribution sub-classes and instances for discrete random variables.Example distribution of this would be bionmial \n",
    "\n",
    "3. rv_histogram\n",
    "  - used  to generate specific distribution histograms. It can also be inherited from the class.\n",
    "\n"
   ]
  },
  {
   "cell_type": "code",
   "execution_count": null,
   "id": "33edae33-5d3c-47dc-9779-025f987c6abf",
   "metadata": {},
   "outputs": [],
   "source": [
    "# Data frames.\n",
    "import pandas as pd\n",
    "\n",
    "# Plotting.\n",
    "import seaborn as sns\n",
    "\n",
    "# Stats.\n",
    "import scipy.stats as ss\n",
    "\n",
    "# Numerical arrays.\n",
    "import numpy as np\n",
    "\n",
    "# Collections.\n",
    "import collections as co\n",
    "\n",
    "# Specials.\n",
    "import scipy.special as spec"
   ]
  },
  {
   "cell_type": "code",
   "execution_count": 1,
   "id": "67a6d900-a5da-4f14-acb9-3bf5e4990078",
   "metadata": {},
   "outputs": [
    {
     "ename": "SyntaxError",
     "evalue": "(unicode error) 'unicodeescape' codec can't decode bytes in position 2-3: truncated \\UXXXXXXXX escape (<ipython-input-1-4fa1d69ac3ba>, line 1)",
     "output_type": "error",
     "traceback": [
      "\u001b[1;36m  File \u001b[1;32m\"<ipython-input-1-4fa1d69ac3ba>\"\u001b[1;36m, line \u001b[1;32m1\u001b[0m\n\u001b[1;33m    df = pd.read_csv('C:\\Users\\User\\Desktop\\repo\\Machine-learning-and-Statistics\\Scipy Stats\\Diet_R.csv')\u001b[0m\n\u001b[1;37m                     ^\u001b[0m\n\u001b[1;31mSyntaxError\u001b[0m\u001b[1;31m:\u001b[0m (unicode error) 'unicodeescape' codec can't decode bytes in position 2-3: truncated \\UXXXXXXXX escape\n"
     ]
    }
   ],
   "source": [
    "df = pd.read_csv(rC:\\Users\\User\\Desktop\\repo\\Machine-learning-and-Statistics\\Scipy Stats\\Diet_R.csv')\n",
    "df"
   ]
  },
  {
   "cell_type": "code",
   "execution_count": null,
   "id": "e7ed0c50-ca70-434a-a93f-73657996d4b6",
   "metadata": {},
   "outputs": [],
   "source": []
  },
  {
   "cell_type": "code",
   "execution_count": null,
   "id": "01f53d9a-bca0-4be1-8118-0d593fc5696d",
   "metadata": {},
   "outputs": [],
   "source": []
  },
  {
   "cell_type": "code",
   "execution_count": null,
   "id": "7fc6a14b-bfba-4abc-a510-e10e97abd68f",
   "metadata": {},
   "outputs": [],
   "source": []
  },
  {
   "cell_type": "code",
   "execution_count": null,
   "id": "f0c2e430-7434-480d-a0ae-c321d4cbdb6c",
   "metadata": {},
   "outputs": [],
   "source": []
  }
 ],
 "metadata": {
  "kernelspec": {
   "display_name": "Python 3",
   "language": "python",
   "name": "python3"
  },
  "language_info": {
   "codemirror_mode": {
    "name": "ipython",
    "version": 3
   },
   "file_extension": ".py",
   "mimetype": "text/x-python",
   "name": "python",
   "nbconvert_exporter": "python",
   "pygments_lexer": "ipython3",
   "version": "3.8.8"
  }
 },
 "nbformat": 4,
 "nbformat_minor": 5
}
