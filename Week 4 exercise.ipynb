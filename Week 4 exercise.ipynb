{
 "cells": [
  {
   "cell_type": "markdown",
   "id": "9c9b1198-d18c-4acb-857d-7ccf185278b1",
   "metadata": {},
   "source": [
    "## Data Set Information:\n",
    "\n",
    "Reference : https://archive.ics.uci.edu/ml/datasets/wine\n",
    "\n",
    "These data are the results of a chemical analysis of wines grown in the same region in Italy but derived from three different cultivars. The analysis determined the quantities of 13 constituents found in each of the three types of wines.\n",
    "\n",
    "I think that the initial data set had around 30 variables, but for some reason I only have the 13 dimensional version. I had a list of what the 30 or so variables were, but a.) I lost it, and b.), I would not know which 13 variables are included in the set.\n",
    "\n",
    "The attributes are (dontated by Riccardo Leardi, riclea '@' anchem.unige.it )\n",
    "1) Alcohol\n",
    "2) Malic acid\n",
    "3) Ash\n",
    "4) Alcalinity of ash\n",
    "5) Magnesium\n",
    "6) Total phenols\n",
    "7) Flavanoids\n",
    "8) Nonflavanoid phenols\n",
    "9) Proanthocyanins\n",
    "10)Color intensity\n",
    "11)Hue\n",
    "12)OD280/OD315 of diluted wines\n",
    "13)Proline\n",
    "\n",
    "In a classification context, this is a well posed problem with \"well behaved\" class structures. A good data set for first testing of a new classifier, but not very challenging."
   ]
  },
  {
   "cell_type": "code",
   "execution_count": null,
   "id": "7ca7fff7-4952-4d40-a90d-0419d9b38a45",
   "metadata": {},
   "outputs": [],
   "source": [
    "# Numerical Arrays\n",
    "import numpy as np"
   ]
  },
  {
   "cell_type": "code",
   "execution_count": null,
   "id": "c4e1d71e-8737-425f-a650-b3c8c2f54ca8",
   "metadata": {},
   "outputs": [],
   "source": [
    "# DataFrames\n",
    "import pandas as pd"
   ]
  },
  {
   "cell_type": "code",
   "execution_count": null,
   "id": "6864e4d3-20ff-4cdb-9492-42ea4253f333",
   "metadata": {},
   "outputs": [],
   "source": [
    "#Plotting\n",
    "import matplotlib.pyplot as plt"
   ]
  },
  {
   "cell_type": "code",
   "execution_count": null,
   "id": "2d6e1e68-8957-47d9-8790-e485041339f7",
   "metadata": {},
   "outputs": [],
   "source": [
    "#Logistic regression\n",
    "import sklearn.linear_model  as lm"
   ]
  },
  {
   "cell_type": "code",
   "execution_count": null,
   "id": "21415760-776a-483f-ba9d-961215f1ef2f",
   "metadata": {},
   "outputs": [],
   "source": [
    "# k nearest neighbours.\n",
    "import sklearn.neighbors  as nei"
   ]
  },
  {
   "cell_type": "code",
   "execution_count": null,
   "id": "0d87a053-52a7-483e-b5e8-5a6f89c04f9c",
   "metadata": {},
   "outputs": [],
   "source": [
    "#helper functions\n",
    "import sklearn.model_selection as mod\n"
   ]
  },
  {
   "cell_type": "code",
   "execution_count": null,
   "id": "d7ecca92-5072-46c7-9af8-26e0c4441c13",
   "metadata": {},
   "outputs": [],
   "source": [
    "#Fancier, statistical plots\n",
    "import seaborn as sns"
   ]
  },
  {
   "cell_type": "code",
   "execution_count": null,
   "id": "af27741a-9909-4b8d-8466-9c574dacbfe4",
   "metadata": {},
   "outputs": [],
   "source": [
    "#standard plot size\n",
    "plt.rcParams['figure.figsize'] = (15,10)"
   ]
  },
  {
   "cell_type": "code",
   "execution_count": null,
   "id": "fc3be16e-3973-4bbf-aa6e-8e48ff599158",
   "metadata": {},
   "outputs": [],
   "source": [
    "#standard colour scheme.\n",
    "plt.style.use ('ggplot')"
   ]
  },
  {
   "cell_type": "markdown",
   "id": "6626d0ac-0fe7-4437-8d9e-b249d44c3734",
   "metadata": {},
   "source": [
    "## The Wine Dataset"
   ]
  },
  {
   "cell_type": "code",
   "execution_count": 2,
   "id": "8d74fab4-caf1-44ac-95f8-41a84ee996dd",
   "metadata": {},
   "outputs": [
    {
     "ename": "SyntaxError",
     "evalue": "(unicode error) 'unicodeescape' codec can't decode bytes in position 2-3: truncated \\UXXXXXXXX escape (<ipython-input-2-5149cb642de2>, line 2)",
     "output_type": "error",
     "traceback": [
      "\u001b[1;36m  File \u001b[1;32m\"<ipython-input-2-5149cb642de2>\"\u001b[1;36m, line \u001b[1;32m2\u001b[0m\n\u001b[1;33m    df = pd.read_csv(\"C:\\Users\\User\\Desktop\\repo\\Machine-learning-and-Statistics\\wine(2).csv\")\u001b[0m\n\u001b[1;37m                     ^\u001b[0m\n\u001b[1;31mSyntaxError\u001b[0m\u001b[1;31m:\u001b[0m (unicode error) 'unicodeescape' codec can't decode bytes in position 2-3: truncated \\UXXXXXXXX escape\n"
     ]
    }
   ],
   "source": [
    "# Load the iris data set from a URL.\n",
    "df = pd.read_csv(\"C:\\Users\\User\\Desktop\\repo\\Machine-learning-and-Statistics\\wine(2).csv\")\n"
   ]
  },
  {
   "cell_type": "code",
   "execution_count": null,
   "id": "67155d17-858a-4d35-9611-430431e3f97b",
   "metadata": {},
   "outputs": [],
   "source": [
    "\n",
    "\n",
    "\n",
    "\n",
    "\n",
    "\n",
    "\n"
   ]
  },
  {
   "cell_type": "code",
   "execution_count": null,
   "id": "1a2c6ef0-9543-4cbc-8572-bfa0bd75b0f2",
   "metadata": {},
   "outputs": [],
   "source": []
  },
  {
   "cell_type": "code",
   "execution_count": null,
   "id": "5ecaf389-3cd2-4af1-81fe-46b45f397d72",
   "metadata": {},
   "outputs": [],
   "source": []
  },
  {
   "cell_type": "code",
   "execution_count": null,
   "id": "32e3c5e7-c6a3-49e4-b4f0-39fe4588d7bf",
   "metadata": {},
   "outputs": [],
   "source": []
  },
  {
   "cell_type": "code",
   "execution_count": null,
   "id": "a73a8d35-db33-4f1d-a667-e5fccc2d37ec",
   "metadata": {},
   "outputs": [],
   "source": []
  },
  {
   "cell_type": "code",
   "execution_count": null,
   "id": "257bf785-15d8-46e8-b2ae-260cd211b569",
   "metadata": {},
   "outputs": [],
   "source": []
  },
  {
   "cell_type": "code",
   "execution_count": null,
   "id": "6069c018-0406-4584-98a6-974fda732e94",
   "metadata": {},
   "outputs": [],
   "source": []
  }
 ],
 "metadata": {
  "kernelspec": {
   "display_name": "Python 3",
   "language": "python",
   "name": "python3"
  },
  "language_info": {
   "codemirror_mode": {
    "name": "ipython",
    "version": 3
   },
   "file_extension": ".py",
   "mimetype": "text/x-python",
   "name": "python",
   "nbconvert_exporter": "python",
   "pygments_lexer": "ipython3",
   "version": "3.8.8"
  }
 },
 "nbformat": 4,
 "nbformat_minor": 5
}
