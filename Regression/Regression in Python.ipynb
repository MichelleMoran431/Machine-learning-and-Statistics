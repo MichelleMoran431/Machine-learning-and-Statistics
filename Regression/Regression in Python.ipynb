{
 "cells": [
  {
   "cell_type": "markdown",
   "id": "b0be2377-7714-4c1c-8d37-cb88db302617",
   "metadata": {},
   "source": [
    "## REGRESSION ##"
   ]
  },
  {
   "cell_type": "code",
   "execution_count": null,
   "id": "ae75b509-85c5-4071-a34e-b7b56876c9ff",
   "metadata": {},
   "outputs": [],
   "source": [
    "REFERENCE : https://realpython.com/linear-regression-in-python/"
   ]
  },
  {
   "cell_type": "code",
   "execution_count": null,
   "id": "5614108b-11ce-433c-912e-4e2df444e57a",
   "metadata": {},
   "outputs": [],
   "source": [
    "Why use regression  ?\n",
    "\n",
    "Regression is needed to answer whether and how some phenonmenon influences the other or how several variables are related. \n",
    "Regression is useful when you want to forecast a response using a new set of predictors \n",
    "\n",
    "Regression is used in many different fields: economy, computer science , social sciences, and so o.\n",
    "\n",
    "\n",
    "Main advantages it the ease of interpreting results - linear regression.\n",
    "\n",
    "\n",
    "\n"
   ]
  },
  {
   "cell_type": "code",
   "execution_count": null,
   "id": "2c885cbe-171a-4270-afae-eacf284ee129",
   "metadata": {},
   "outputs": [],
   "source": []
  },
  {
   "cell_type": "code",
   "execution_count": null,
   "id": "873d6cff-e00e-4815-b223-47d3be38871d",
   "metadata": {},
   "outputs": [],
   "source": []
  },
  {
   "cell_type": "code",
   "execution_count": 1,
   "id": "ae83f696-330b-415d-be9f-6d825876dea2",
   "metadata": {},
   "outputs": [],
   "source": [
    "# Numerical arrays\n",
    "import numpy as np\n",
    "\n",
    "# Plotting.\n",
    "import matplotlib.pyplot as plt"
   ]
  },
  {
   "cell_type": "code",
   "execution_count": 2,
   "id": "ef171fd5-3644-46e4-9516-b8f8a91ee11c",
   "metadata": {},
   "outputs": [],
   "source": [
    "# Numerical arrays\n",
    "import numpy as np\n",
    "\n",
    "# Plotting.\n",
    "import matplotlib.pyplot as plt"
   ]
  },
  {
   "cell_type": "code",
   "execution_count": 3,
   "id": "79b79e12-5e74-40fb-b284-5ff080f76244",
   "metadata": {},
   "outputs": [
    {
     "data": {
      "text/plain": [
       "(array([ 4., 16.]), array([ 6., 12.]))"
      ]
     },
     "execution_count": 3,
     "metadata": {},
     "output_type": "execute_result"
    }
   ],
   "source": [
    "# Create two points.\n",
    "x = np.array([4.0, 16.0])\n",
    "y = np.array([6.0, 12.0])\n",
    "x, y"
   ]
  },
  {
   "cell_type": "code",
   "execution_count": 4,
   "id": "fa2b9148-73e0-4fa6-b131-8e7dd1e43d51",
   "metadata": {},
   "outputs": [
    {
     "data": {
      "image/png": "[encoded data removed]",
      "text/plain": [
       "<Figure size 432x288 with 1 Axes>"
      ]
     },
     "metadata": {
      "needs_background": "light"
     },
     "output_type": "display_data"
    }
   ],
   "source": [
    "# Plot the points.\n",
    "plt.plot(x, y, 'ro')\n",
    "\n",
    "# Give ourselves some space.\n",
    "plt.xlim([-5.0, 25.0])\n",
    "plt.ylim([-5.0, 25.0]);"
   ]
  },
  {
   "cell_type": "code",
   "execution_count": 5,
   "id": "1d185882-f971-44b6-a93a-bb76bceeedc3",
   "metadata": {},
   "outputs": [
    {
     "data": {
      "image/png": "[encoded data removed]",
      "text/plain": [
       "<Figure size 432x288 with 1 Axes>"
      ]
     },
     "metadata": {
      "needs_background": "light"
     },
     "output_type": "display_data"
    }
   ],
   "source": [
    "# Plot a straight line.\n",
    "l = np.linspace(-5.0, 25.0, 100)\n",
    "plt.plot(l, 0.5 * l + 4.0, 'g--')\n",
    "\n",
    "# Plot a straight line segment.\n",
    "l = np.linspace(4.0, 16.0, 10)\n",
    "plt.plot(l, 0.5 * l + 4.0, 'b-')\n",
    "\n",
    "# Plot the points.\n",
    "plt.plot(x, y, 'ro')\n",
    "\n",
    "# Give ourselves some space.\n",
    "plt.xlim([-5.0, 25.0])\n",
    "plt.ylim([-5.0, 25.0]);"
   ]
  },
  {
   "cell_type": "markdown",
   "id": "385be183-8992-4b4a-a1cd-f6d79cf05be8",
   "metadata": {},
   "source": [
    "notes: regression , in a ideal world , infer values within the data set - highest and lowest value in the data set and within that. interpolation. Using the model to infer values beyond the x values ,this is called exstrapolation. the green dotted line. for the same two points - theres choice of lines that can go through it , curve is a possibility."
   ]
  },
  {
   "cell_type": "code",
   "execution_count": 6,
   "id": "49625915-d97d-4348-af37-621cbdf3e98e",
   "metadata": {},
   "outputs": [
    {
     "data": {
      "image/png": "[encoded data removed]",
      "text/plain": [
       "<Figure size 432x288 with 1 Axes>"
      ]
     },
     "metadata": {
      "needs_background": "light"
     },
     "output_type": "display_data"
    }
   ],
   "source": [
    "# Plot a straight line.\n",
    "l = np.linspace(-3.0, 20.0, 100)\n",
    "plt.plot(l, 0.5 * l + 4.0, 'g-')\n",
    "\n",
    "# Plot a parabola.\n",
    "plt.plot(l, 10.0 * (l**2) - 199.5 * l + 644.0, 'b-')\n",
    "\n",
    "# Plot a cubic.\n",
    "plt.plot(l, (l**3)  - 20.0625 * l**2  + 65.75 * l, 'y-')\n",
    "\n",
    "# Plot the points.\n",
    "plt.plot(x, y, 'ro');\n"
   ]
  },
  {
   "cell_type": "markdown",
   "id": "f1002bd3-bb0c-4e9a-8a0d-1a80aca00265",
   "metadata": {},
   "source": [
    "notes : which line is the better line  ?  in regression , going from data to an equation  , u have to be pickier. what does the model/equation suits the data better , linear is the obvious the better one. Generally use where possible , use numpy polyfit to infer to use a straight line to model the x data we have, highest degree of x , "
   ]
  },
  {
   "cell_type": "markdown",
   "id": "7bae8b3f-d7d1-4d1b-9358-3e98790766d5",
   "metadata": {},
   "source": [
    "## Lines ##"
   ]
  },
  {
   "cell_type": "code",
   "execution_count": 7,
   "id": "8f41cd75-e951-4a7b-82ec-862d6795369b",
   "metadata": {},
   "outputs": [
    {
     "data": {
      "text/plain": [
       "array([ 0.        ,  0.01001001,  0.02002002,  0.03003003,  0.04004004,\n",
       "        0.05005005,  0.06006006,  0.07007007,  0.08008008,  0.09009009,\n",
       "        0.1001001 ,  0.11011011,  0.12012012,  0.13013013,  0.14014014,\n",
       "        0.15015015,  0.16016016,  0.17017017,  0.18018018,  0.19019019,\n",
       "        0.2002002 ,  0.21021021,  0.22022022,  0.23023023,  0.24024024,\n",
       "        0.25025025,  0.26026026,  0.27027027,  0.28028028,  0.29029029,\n",
       "        0.3003003 ,  0.31031031,  0.32032032,  0.33033033,  0.34034034,\n",
       "        0.35035035,  0.36036036,  0.37037037,  0.38038038,  0.39039039,\n",
       "        0.4004004 ,  0.41041041,  0.42042042,  0.43043043,  0.44044044,\n",
       "        0.45045045,  0.46046046,  0.47047047,  0.48048048,  0.49049049,\n",
       "        0.5005005 ,  0.51051051,  0.52052052,  0.53053053,  0.54054054,\n",
       "        0.55055055,  0.56056056,  0.57057057,  0.58058058,  0.59059059,\n",
       "        0.6006006 ,  0.61061061,  0.62062062,  0.63063063,  0.64064064,\n",
       "        0.65065065,  0.66066066,  0.67067067,  0.68068068,  0.69069069,\n",
       "        0.7007007 ,  0.71071071,  0.72072072,  0.73073073,  0.74074074,\n",
       "        0.75075075,  0.76076076,  0.77077077,  0.78078078,  0.79079079,\n",
       "        0.8008008 ,  0.81081081,  0.82082082,  0.83083083,  0.84084084,\n",
       "        0.85085085,  0.86086086,  0.87087087,  0.88088088,  0.89089089,\n",
       "        0.9009009 ,  0.91091091,  0.92092092,  0.93093093,  0.94094094,\n",
       "        0.95095095,  0.96096096,  0.97097097,  0.98098098,  0.99099099,\n",
       "        1.001001  ,  1.01101101,  1.02102102,  1.03103103,  1.04104104,\n",
       "        1.05105105,  1.06106106,  1.07107107,  1.08108108,  1.09109109,\n",
       "        1.1011011 ,  1.11111111,  1.12112112,  1.13113113,  1.14114114,\n",
       "        1.15115115,  1.16116116,  1.17117117,  1.18118118,  1.19119119,\n",
       "        1.2012012 ,  1.21121121,  1.22122122,  1.23123123,  1.24124124,\n",
       "        1.25125125,  1.26126126,  1.27127127,  1.28128128,  1.29129129,\n",
       "        1.3013013 ,  1.31131131,  1.32132132,  1.33133133,  1.34134134,\n",
       "        1.35135135,  1.36136136,  1.37137137,  1.38138138,  1.39139139,\n",
       "        1.4014014 ,  1.41141141,  1.42142142,  1.43143143,  1.44144144,\n",
       "        1.45145145,  1.46146146,  1.47147147,  1.48148148,  1.49149149,\n",
       "        1.5015015 ,  1.51151151,  1.52152152,  1.53153153,  1.54154154,\n",
       "        1.55155155,  1.56156156,  1.57157157,  1.58158158,  1.59159159,\n",
       "        1.6016016 ,  1.61161161,  1.62162162,  1.63163163,  1.64164164,\n",
       "        1.65165165,  1.66166166,  1.67167167,  1.68168168,  1.69169169,\n",
       "        1.7017017 ,  1.71171171,  1.72172172,  1.73173173,  1.74174174,\n",
       "        1.75175175,  1.76176176,  1.77177177,  1.78178178,  1.79179179,\n",
       "        1.8018018 ,  1.81181181,  1.82182182,  1.83183183,  1.84184184,\n",
       "        1.85185185,  1.86186186,  1.87187187,  1.88188188,  1.89189189,\n",
       "        1.9019019 ,  1.91191191,  1.92192192,  1.93193193,  1.94194194,\n",
       "        1.95195195,  1.96196196,  1.97197197,  1.98198198,  1.99199199,\n",
       "        2.002002  ,  2.01201201,  2.02202202,  2.03203203,  2.04204204,\n",
       "        2.05205205,  2.06206206,  2.07207207,  2.08208208,  2.09209209,\n",
       "        2.1021021 ,  2.11211211,  2.12212212,  2.13213213,  2.14214214,\n",
       "        2.15215215,  2.16216216,  2.17217217,  2.18218218,  2.19219219,\n",
       "        2.2022022 ,  2.21221221,  2.22222222,  2.23223223,  2.24224224,\n",
       "        2.25225225,  2.26226226,  2.27227227,  2.28228228,  2.29229229,\n",
       "        2.3023023 ,  2.31231231,  2.32232232,  2.33233233,  2.34234234,\n",
       "        2.35235235,  2.36236236,  2.37237237,  2.38238238,  2.39239239,\n",
       "        2.4024024 ,  2.41241241,  2.42242242,  2.43243243,  2.44244244,\n",
       "        2.45245245,  2.46246246,  2.47247247,  2.48248248,  2.49249249,\n",
       "        2.5025025 ,  2.51251251,  2.52252252,  2.53253253,  2.54254254,\n",
       "        2.55255255,  2.56256256,  2.57257257,  2.58258258,  2.59259259,\n",
       "        2.6026026 ,  2.61261261,  2.62262262,  2.63263263,  2.64264264,\n",
       "        2.65265265,  2.66266266,  2.67267267,  2.68268268,  2.69269269,\n",
       "        2.7027027 ,  2.71271271,  2.72272272,  2.73273273,  2.74274274,\n",
       "        2.75275275,  2.76276276,  2.77277277,  2.78278278,  2.79279279,\n",
       "        2.8028028 ,  2.81281281,  2.82282282,  2.83283283,  2.84284284,\n",
       "        2.85285285,  2.86286286,  2.87287287,  2.88288288,  2.89289289,\n",
       "        2.9029029 ,  2.91291291,  2.92292292,  2.93293293,  2.94294294,\n",
       "        2.95295295,  2.96296296,  2.97297297,  2.98298298,  2.99299299,\n",
       "        3.003003  ,  3.01301301,  3.02302302,  3.03303303,  3.04304304,\n",
       "        3.05305305,  3.06306306,  3.07307307,  3.08308308,  3.09309309,\n",
       "        3.1031031 ,  3.11311311,  3.12312312,  3.13313313,  3.14314314,\n",
       "        3.15315315,  3.16316316,  3.17317317,  3.18318318,  3.19319319,\n",
       "        3.2032032 ,  3.21321321,  3.22322322,  3.23323323,  3.24324324,\n",
       "        3.25325325,  3.26326326,  3.27327327,  3.28328328,  3.29329329,\n",
       "        3.3033033 ,  3.31331331,  3.32332332,  3.33333333,  3.34334334,\n",
       "        3.35335335,  3.36336336,  3.37337337,  3.38338338,  3.39339339,\n",
       "        3.4034034 ,  3.41341341,  3.42342342,  3.43343343,  3.44344344,\n",
       "        3.45345345,  3.46346346,  3.47347347,  3.48348348,  3.49349349,\n",
       "        3.5035035 ,  3.51351351,  3.52352352,  3.53353353,  3.54354354,\n",
       "        3.55355355,  3.56356356,  3.57357357,  3.58358358,  3.59359359,\n",
       "        3.6036036 ,  3.61361361,  3.62362362,  3.63363363,  3.64364364,\n",
       "        3.65365365,  3.66366366,  3.67367367,  3.68368368,  3.69369369,\n",
       "        3.7037037 ,  3.71371371,  3.72372372,  3.73373373,  3.74374374,\n",
       "        3.75375375,  3.76376376,  3.77377377,  3.78378378,  3.79379379,\n",
       "        3.8038038 ,  3.81381381,  3.82382382,  3.83383383,  3.84384384,\n",
       "        3.85385385,  3.86386386,  3.87387387,  3.88388388,  3.89389389,\n",
       "        3.9039039 ,  3.91391391,  3.92392392,  3.93393393,  3.94394394,\n",
       "        3.95395395,  3.96396396,  3.97397397,  3.98398398,  3.99399399,\n",
       "        4.004004  ,  4.01401401,  4.02402402,  4.03403403,  4.04404404,\n",
       "        4.05405405,  4.06406406,  4.07407407,  4.08408408,  4.09409409,\n",
       "        4.1041041 ,  4.11411411,  4.12412412,  4.13413413,  4.14414414,\n",
       "        4.15415415,  4.16416416,  4.17417417,  4.18418418,  4.19419419,\n",
       "        4.2042042 ,  4.21421421,  4.22422422,  4.23423423,  4.24424424,\n",
       "        4.25425425,  4.26426426,  4.27427427,  4.28428428,  4.29429429,\n",
       "        4.3043043 ,  4.31431431,  4.32432432,  4.33433433,  4.34434434,\n",
       "        4.35435435,  4.36436436,  4.37437437,  4.38438438,  4.39439439,\n",
       "        4.4044044 ,  4.41441441,  4.42442442,  4.43443443,  4.44444444,\n",
       "        4.45445445,  4.46446446,  4.47447447,  4.48448448,  4.49449449,\n",
       "        4.5045045 ,  4.51451451,  4.52452452,  4.53453453,  4.54454454,\n",
       "        4.55455455,  4.56456456,  4.57457457,  4.58458458,  4.59459459,\n",
       "        4.6046046 ,  4.61461461,  4.62462462,  4.63463463,  4.64464464,\n",
       "        4.65465465,  4.66466466,  4.67467467,  4.68468468,  4.69469469,\n",
       "        4.7047047 ,  4.71471471,  4.72472472,  4.73473473,  4.74474474,\n",
       "        4.75475475,  4.76476476,  4.77477477,  4.78478478,  4.79479479,\n",
       "        4.8048048 ,  4.81481481,  4.82482482,  4.83483483,  4.84484484,\n",
       "        4.85485485,  4.86486486,  4.87487487,  4.88488488,  4.89489489,\n",
       "        4.9049049 ,  4.91491491,  4.92492492,  4.93493493,  4.94494494,\n",
       "        4.95495495,  4.96496496,  4.97497497,  4.98498498,  4.99499499,\n",
       "        5.00500501,  5.01501502,  5.02502503,  5.03503504,  5.04504505,\n",
       "        5.05505506,  5.06506507,  5.07507508,  5.08508509,  5.0950951 ,\n",
       "        5.10510511,  5.11511512,  5.12512513,  5.13513514,  5.14514515,\n",
       "        5.15515516,  5.16516517,  5.17517518,  5.18518519,  5.1951952 ,\n",
       "        5.20520521,  5.21521522,  5.22522523,  5.23523524,  5.24524525,\n",
       "        5.25525526,  5.26526527,  5.27527528,  5.28528529,  5.2952953 ,\n",
       "        5.30530531,  5.31531532,  5.32532533,  5.33533534,  5.34534535,\n",
       "        5.35535536,  5.36536537,  5.37537538,  5.38538539,  5.3953954 ,\n",
       "        5.40540541,  5.41541542,  5.42542543,  5.43543544,  5.44544545,\n",
       "        5.45545546,  5.46546547,  5.47547548,  5.48548549,  5.4954955 ,\n",
       "        5.50550551,  5.51551552,  5.52552553,  5.53553554,  5.54554555,\n",
       "        5.55555556,  5.56556557,  5.57557558,  5.58558559,  5.5955956 ,\n",
       "        5.60560561,  5.61561562,  5.62562563,  5.63563564,  5.64564565,\n",
       "        5.65565566,  5.66566567,  5.67567568,  5.68568569,  5.6956957 ,\n",
       "        5.70570571,  5.71571572,  5.72572573,  5.73573574,  5.74574575,\n",
       "        5.75575576,  5.76576577,  5.77577578,  5.78578579,  5.7957958 ,\n",
       "        5.80580581,  5.81581582,  5.82582583,  5.83583584,  5.84584585,\n",
       "        5.85585586,  5.86586587,  5.87587588,  5.88588589,  5.8958959 ,\n",
       "        5.90590591,  5.91591592,  5.92592593,  5.93593594,  5.94594595,\n",
       "        5.95595596,  5.96596597,  5.97597598,  5.98598599,  5.995996  ,\n",
       "        6.00600601,  6.01601602,  6.02602603,  6.03603604,  6.04604605,\n",
       "        6.05605606,  6.06606607,  6.07607608,  6.08608609,  6.0960961 ,\n",
       "        6.10610611,  6.11611612,  6.12612613,  6.13613614,  6.14614615,\n",
       "        6.15615616,  6.16616617,  6.17617618,  6.18618619,  6.1961962 ,\n",
       "        6.20620621,  6.21621622,  6.22622623,  6.23623624,  6.24624625,\n",
       "        6.25625626,  6.26626627,  6.27627628,  6.28628629,  6.2962963 ,\n",
       "        6.30630631,  6.31631632,  6.32632633,  6.33633634,  6.34634635,\n",
       "        6.35635636,  6.36636637,  6.37637638,  6.38638639,  6.3963964 ,\n",
       "        6.40640641,  6.41641642,  6.42642643,  6.43643644,  6.44644645,\n",
       "        6.45645646,  6.46646647,  6.47647648,  6.48648649,  6.4964965 ,\n",
       "        6.50650651,  6.51651652,  6.52652653,  6.53653654,  6.54654655,\n",
       "        6.55655656,  6.56656657,  6.57657658,  6.58658659,  6.5965966 ,\n",
       "        6.60660661,  6.61661662,  6.62662663,  6.63663664,  6.64664665,\n",
       "        6.65665666,  6.66666667,  6.67667668,  6.68668669,  6.6966967 ,\n",
       "        6.70670671,  6.71671672,  6.72672673,  6.73673674,  6.74674675,\n",
       "        6.75675676,  6.76676677,  6.77677678,  6.78678679,  6.7967968 ,\n",
       "        6.80680681,  6.81681682,  6.82682683,  6.83683684,  6.84684685,\n",
       "        6.85685686,  6.86686687,  6.87687688,  6.88688689,  6.8968969 ,\n",
       "        6.90690691,  6.91691692,  6.92692693,  6.93693694,  6.94694695,\n",
       "        6.95695696,  6.96696697,  6.97697698,  6.98698699,  6.996997  ,\n",
       "        7.00700701,  7.01701702,  7.02702703,  7.03703704,  7.04704705,\n",
       "        7.05705706,  7.06706707,  7.07707708,  7.08708709,  7.0970971 ,\n",
       "        7.10710711,  7.11711712,  7.12712713,  7.13713714,  7.14714715,\n",
       "        7.15715716,  7.16716717,  7.17717718,  7.18718719,  7.1971972 ,\n",
       "        7.20720721,  7.21721722,  7.22722723,  7.23723724,  7.24724725,\n",
       "        7.25725726,  7.26726727,  7.27727728,  7.28728729,  7.2972973 ,\n",
       "        7.30730731,  7.31731732,  7.32732733,  7.33733734,  7.34734735,\n",
       "        7.35735736,  7.36736737,  7.37737738,  7.38738739,  7.3973974 ,\n",
       "        7.40740741,  7.41741742,  7.42742743,  7.43743744,  7.44744745,\n",
       "        7.45745746,  7.46746747,  7.47747748,  7.48748749,  7.4974975 ,\n",
       "        7.50750751,  7.51751752,  7.52752753,  7.53753754,  7.54754755,\n",
       "        7.55755756,  7.56756757,  7.57757758,  7.58758759,  7.5975976 ,\n",
       "        7.60760761,  7.61761762,  7.62762763,  7.63763764,  7.64764765,\n",
       "        7.65765766,  7.66766767,  7.67767768,  7.68768769,  7.6976977 ,\n",
       "        7.70770771,  7.71771772,  7.72772773,  7.73773774,  7.74774775,\n",
       "        7.75775776,  7.76776777,  7.77777778,  7.78778779,  7.7977978 ,\n",
       "        7.80780781,  7.81781782,  7.82782783,  7.83783784,  7.84784785,\n",
       "        7.85785786,  7.86786787,  7.87787788,  7.88788789,  7.8978979 ,\n",
       "        7.90790791,  7.91791792,  7.92792793,  7.93793794,  7.94794795,\n",
       "        7.95795796,  7.96796797,  7.97797798,  7.98798799,  7.997998  ,\n",
       "        8.00800801,  8.01801802,  8.02802803,  8.03803804,  8.04804805,\n",
       "        8.05805806,  8.06806807,  8.07807808,  8.08808809,  8.0980981 ,\n",
       "        8.10810811,  8.11811812,  8.12812813,  8.13813814,  8.14814815,\n",
       "        8.15815816,  8.16816817,  8.17817818,  8.18818819,  8.1981982 ,\n",
       "        8.20820821,  8.21821822,  8.22822823,  8.23823824,  8.24824825,\n",
       "        8.25825826,  8.26826827,  8.27827828,  8.28828829,  8.2982983 ,\n",
       "        8.30830831,  8.31831832,  8.32832833,  8.33833834,  8.34834835,\n",
       "        8.35835836,  8.36836837,  8.37837838,  8.38838839,  8.3983984 ,\n",
       "        8.40840841,  8.41841842,  8.42842843,  8.43843844,  8.44844845,\n",
       "        8.45845846,  8.46846847,  8.47847848,  8.48848849,  8.4984985 ,\n",
       "        8.50850851,  8.51851852,  8.52852853,  8.53853854,  8.54854855,\n",
       "        8.55855856,  8.56856857,  8.57857858,  8.58858859,  8.5985986 ,\n",
       "        8.60860861,  8.61861862,  8.62862863,  8.63863864,  8.64864865,\n",
       "        8.65865866,  8.66866867,  8.67867868,  8.68868869,  8.6986987 ,\n",
       "        8.70870871,  8.71871872,  8.72872873,  8.73873874,  8.74874875,\n",
       "        8.75875876,  8.76876877,  8.77877878,  8.78878879,  8.7987988 ,\n",
       "        8.80880881,  8.81881882,  8.82882883,  8.83883884,  8.84884885,\n",
       "        8.85885886,  8.86886887,  8.87887888,  8.88888889,  8.8988989 ,\n",
       "        8.90890891,  8.91891892,  8.92892893,  8.93893894,  8.94894895,\n",
       "        8.95895896,  8.96896897,  8.97897898,  8.98898899,  8.998999  ,\n",
       "        9.00900901,  9.01901902,  9.02902903,  9.03903904,  9.04904905,\n",
       "        9.05905906,  9.06906907,  9.07907908,  9.08908909,  9.0990991 ,\n",
       "        9.10910911,  9.11911912,  9.12912913,  9.13913914,  9.14914915,\n",
       "        9.15915916,  9.16916917,  9.17917918,  9.18918919,  9.1991992 ,\n",
       "        9.20920921,  9.21921922,  9.22922923,  9.23923924,  9.24924925,\n",
       "        9.25925926,  9.26926927,  9.27927928,  9.28928929,  9.2992993 ,\n",
       "        9.30930931,  9.31931932,  9.32932933,  9.33933934,  9.34934935,\n",
       "        9.35935936,  9.36936937,  9.37937938,  9.38938939,  9.3993994 ,\n",
       "        9.40940941,  9.41941942,  9.42942943,  9.43943944,  9.44944945,\n",
       "        9.45945946,  9.46946947,  9.47947948,  9.48948949,  9.4994995 ,\n",
       "        9.50950951,  9.51951952,  9.52952953,  9.53953954,  9.54954955,\n",
       "        9.55955956,  9.56956957,  9.57957958,  9.58958959,  9.5995996 ,\n",
       "        9.60960961,  9.61961962,  9.62962963,  9.63963964,  9.64964965,\n",
       "        9.65965966,  9.66966967,  9.67967968,  9.68968969,  9.6996997 ,\n",
       "        9.70970971,  9.71971972,  9.72972973,  9.73973974,  9.74974975,\n",
       "        9.75975976,  9.76976977,  9.77977978,  9.78978979,  9.7997998 ,\n",
       "        9.80980981,  9.81981982,  9.82982983,  9.83983984,  9.84984985,\n",
       "        9.85985986,  9.86986987,  9.87987988,  9.88988989,  9.8998999 ,\n",
       "        9.90990991,  9.91991992,  9.92992993,  9.93993994,  9.94994995,\n",
       "        9.95995996,  9.96996997,  9.97997998,  9.98998999, 10.        ])"
      ]
     },
     "execution_count": 7,
     "metadata": {},
     "output_type": "execute_result"
    }
   ],
   "source": [
    "# Set up some x values.\n",
    "x = np.linspace(0.0, 10.0, 1000)\n",
    "x"
   ]
  },
  {
   "cell_type": "code",
   "execution_count": 8,
   "id": "3f952321-7dec-402c-9c8f-ec41fa78ef47",
   "metadata": {},
   "outputs": [],
   "source": [
    "# Create y - note numpy's element-wise operations.\n",
    "y = 5.0 * x + 2.0"
   ]
  },
  {
   "cell_type": "code",
   "execution_count": 9,
   "id": "78b66849-3442-4c3c-823a-4da5c5e63318",
   "metadata": {},
   "outputs": [
    {
     "data": {
      "text/plain": [
       "array([ 2.        ,  2.05005005,  2.1001001 ,  2.15015015,  2.2002002 ,\n",
       "        2.25025025,  2.3003003 ,  2.35035035,  2.4004004 ,  2.45045045,\n",
       "        2.5005005 ,  2.55055055,  2.6006006 ,  2.65065065,  2.7007007 ,\n",
       "        2.75075075,  2.8008008 ,  2.85085085,  2.9009009 ,  2.95095095,\n",
       "        3.001001  ,  3.05105105,  3.1011011 ,  3.15115115,  3.2012012 ,\n",
       "        3.25125125,  3.3013013 ,  3.35135135,  3.4014014 ,  3.45145145,\n",
       "        3.5015015 ,  3.55155155,  3.6016016 ,  3.65165165,  3.7017017 ,\n",
       "        3.75175175,  3.8018018 ,  3.85185185,  3.9019019 ,  3.95195195,\n",
       "        4.002002  ,  4.05205205,  4.1021021 ,  4.15215215,  4.2022022 ,\n",
       "        4.25225225,  4.3023023 ,  4.35235235,  4.4024024 ,  4.45245245,\n",
       "        4.5025025 ,  4.55255255,  4.6026026 ,  4.65265265,  4.7027027 ,\n",
       "        4.75275275,  4.8028028 ,  4.85285285,  4.9029029 ,  4.95295295,\n",
       "        5.003003  ,  5.05305305,  5.1031031 ,  5.15315315,  5.2032032 ,\n",
       "        5.25325325,  5.3033033 ,  5.35335335,  5.4034034 ,  5.45345345,\n",
       "        5.5035035 ,  5.55355355,  5.6036036 ,  5.65365365,  5.7037037 ,\n",
       "        5.75375375,  5.8038038 ,  5.85385385,  5.9039039 ,  5.95395395,\n",
       "        6.004004  ,  6.05405405,  6.1041041 ,  6.15415415,  6.2042042 ,\n",
       "        6.25425425,  6.3043043 ,  6.35435435,  6.4044044 ,  6.45445445,\n",
       "        6.5045045 ,  6.55455455,  6.6046046 ,  6.65465465,  6.7047047 ,\n",
       "        6.75475475,  6.8048048 ,  6.85485485,  6.9049049 ,  6.95495495,\n",
       "        7.00500501,  7.05505506,  7.10510511,  7.15515516,  7.20520521,\n",
       "        7.25525526,  7.30530531,  7.35535536,  7.40540541,  7.45545546,\n",
       "        7.50550551,  7.55555556,  7.60560561,  7.65565566,  7.70570571,\n",
       "        7.75575576,  7.80580581,  7.85585586,  7.90590591,  7.95595596,\n",
       "        8.00600601,  8.05605606,  8.10610611,  8.15615616,  8.20620621,\n",
       "        8.25625626,  8.30630631,  8.35635636,  8.40640641,  8.45645646,\n",
       "        8.50650651,  8.55655656,  8.60660661,  8.65665666,  8.70670671,\n",
       "        8.75675676,  8.80680681,  8.85685686,  8.90690691,  8.95695696,\n",
       "        9.00700701,  9.05705706,  9.10710711,  9.15715716,  9.20720721,\n",
       "        9.25725726,  9.30730731,  9.35735736,  9.40740741,  9.45745746,\n",
       "        9.50750751,  9.55755756,  9.60760761,  9.65765766,  9.70770771,\n",
       "        9.75775776,  9.80780781,  9.85785786,  9.90790791,  9.95795796,\n",
       "       10.00800801, 10.05805806, 10.10810811, 10.15815816, 10.20820821,\n",
       "       10.25825826, 10.30830831, 10.35835836, 10.40840841, 10.45845846,\n",
       "       10.50850851, 10.55855856, 10.60860861, 10.65865866, 10.70870871,\n",
       "       10.75875876, 10.80880881, 10.85885886, 10.90890891, 10.95895896,\n",
       "       11.00900901, 11.05905906, 11.10910911, 11.15915916, 11.20920921,\n",
       "       11.25925926, 11.30930931, 11.35935936, 11.40940941, 11.45945946,\n",
       "       11.50950951, 11.55955956, 11.60960961, 11.65965966, 11.70970971,\n",
       "       11.75975976, 11.80980981, 11.85985986, 11.90990991, 11.95995996,\n",
       "       12.01001001, 12.06006006, 12.11011011, 12.16016016, 12.21021021,\n",
       "       12.26026026, 12.31031031, 12.36036036, 12.41041041, 12.46046046,\n",
       "       12.51051051, 12.56056056, 12.61061061, 12.66066066, 12.71071071,\n",
       "       12.76076076, 12.81081081, 12.86086086, 12.91091091, 12.96096096,\n",
       "       13.01101101, 13.06106106, 13.11111111, 13.16116116, 13.21121121,\n",
       "       13.26126126, 13.31131131, 13.36136136, 13.41141141, 13.46146146,\n",
       "       13.51151151, 13.56156156, 13.61161161, 13.66166166, 13.71171171,\n",
       "       13.76176176, 13.81181181, 13.86186186, 13.91191191, 13.96196196,\n",
       "       14.01201201, 14.06206206, 14.11211211, 14.16216216, 14.21221221,\n",
       "       14.26226226, 14.31231231, 14.36236236, 14.41241241, 14.46246246,\n",
       "       14.51251251, 14.56256256, 14.61261261, 14.66266266, 14.71271271,\n",
       "       14.76276276, 14.81281281, 14.86286286, 14.91291291, 14.96296296,\n",
       "       15.01301301, 15.06306306, 15.11311311, 15.16316316, 15.21321321,\n",
       "       15.26326326, 15.31331331, 15.36336336, 15.41341341, 15.46346346,\n",
       "       15.51351351, 15.56356356, 15.61361361, 15.66366366, 15.71371371,\n",
       "       15.76376376, 15.81381381, 15.86386386, 15.91391391, 15.96396396,\n",
       "       16.01401401, 16.06406406, 16.11411411, 16.16416416, 16.21421421,\n",
       "       16.26426426, 16.31431431, 16.36436436, 16.41441441, 16.46446446,\n",
       "       16.51451451, 16.56456456, 16.61461461, 16.66466466, 16.71471471,\n",
       "       16.76476476, 16.81481481, 16.86486486, 16.91491491, 16.96496496,\n",
       "       17.01501502, 17.06506507, 17.11511512, 17.16516517, 17.21521522,\n",
       "       17.26526527, 17.31531532, 17.36536537, 17.41541542, 17.46546547,\n",
       "       17.51551552, 17.56556557, 17.61561562, 17.66566567, 17.71571572,\n",
       "       17.76576577, 17.81581582, 17.86586587, 17.91591592, 17.96596597,\n",
       "       18.01601602, 18.06606607, 18.11611612, 18.16616617, 18.21621622,\n",
       "       18.26626627, 18.31631632, 18.36636637, 18.41641642, 18.46646647,\n",
       "       18.51651652, 18.56656657, 18.61661662, 18.66666667, 18.71671672,\n",
       "       18.76676677, 18.81681682, 18.86686687, 18.91691692, 18.96696697,\n",
       "       19.01701702, 19.06706707, 19.11711712, 19.16716717, 19.21721722,\n",
       "       19.26726727, 19.31731732, 19.36736737, 19.41741742, 19.46746747,\n",
       "       19.51751752, 19.56756757, 19.61761762, 19.66766767, 19.71771772,\n",
       "       19.76776777, 19.81781782, 19.86786787, 19.91791792, 19.96796797,\n",
       "       20.01801802, 20.06806807, 20.11811812, 20.16816817, 20.21821822,\n",
       "       20.26826827, 20.31831832, 20.36836837, 20.41841842, 20.46846847,\n",
       "       20.51851852, 20.56856857, 20.61861862, 20.66866867, 20.71871872,\n",
       "       20.76876877, 20.81881882, 20.86886887, 20.91891892, 20.96896897,\n",
       "       21.01901902, 21.06906907, 21.11911912, 21.16916917, 21.21921922,\n",
       "       21.26926927, 21.31931932, 21.36936937, 21.41941942, 21.46946947,\n",
       "       21.51951952, 21.56956957, 21.61961962, 21.66966967, 21.71971972,\n",
       "       21.76976977, 21.81981982, 21.86986987, 21.91991992, 21.96996997,\n",
       "       22.02002002, 22.07007007, 22.12012012, 22.17017017, 22.22022022,\n",
       "       22.27027027, 22.32032032, 22.37037037, 22.42042042, 22.47047047,\n",
       "       22.52052052, 22.57057057, 22.62062062, 22.67067067, 22.72072072,\n",
       "       22.77077077, 22.82082082, 22.87087087, 22.92092092, 22.97097097,\n",
       "       23.02102102, 23.07107107, 23.12112112, 23.17117117, 23.22122122,\n",
       "       23.27127127, 23.32132132, 23.37137137, 23.42142142, 23.47147147,\n",
       "       23.52152152, 23.57157157, 23.62162162, 23.67167167, 23.72172172,\n",
       "       23.77177177, 23.82182182, 23.87187187, 23.92192192, 23.97197197,\n",
       "       24.02202202, 24.07207207, 24.12212212, 24.17217217, 24.22222222,\n",
       "       24.27227227, 24.32232232, 24.37237237, 24.42242242, 24.47247247,\n",
       "       24.52252252, 24.57257257, 24.62262262, 24.67267267, 24.72272272,\n",
       "       24.77277277, 24.82282282, 24.87287287, 24.92292292, 24.97297297,\n",
       "       25.02302302, 25.07307307, 25.12312312, 25.17317317, 25.22322322,\n",
       "       25.27327327, 25.32332332, 25.37337337, 25.42342342, 25.47347347,\n",
       "       25.52352352, 25.57357357, 25.62362362, 25.67367367, 25.72372372,\n",
       "       25.77377377, 25.82382382, 25.87387387, 25.92392392, 25.97397397,\n",
       "       26.02402402, 26.07407407, 26.12412412, 26.17417417, 26.22422422,\n",
       "       26.27427427, 26.32432432, 26.37437437, 26.42442442, 26.47447447,\n",
       "       26.52452452, 26.57457457, 26.62462462, 26.67467467, 26.72472472,\n",
       "       26.77477477, 26.82482482, 26.87487487, 26.92492492, 26.97497497,\n",
       "       27.02502503, 27.07507508, 27.12512513, 27.17517518, 27.22522523,\n",
       "       27.27527528, 27.32532533, 27.37537538, 27.42542543, 27.47547548,\n",
       "       27.52552553, 27.57557558, 27.62562563, 27.67567568, 27.72572573,\n",
       "       27.77577578, 27.82582583, 27.87587588, 27.92592593, 27.97597598,\n",
       "       28.02602603, 28.07607608, 28.12612613, 28.17617618, 28.22622623,\n",
       "       28.27627628, 28.32632633, 28.37637638, 28.42642643, 28.47647648,\n",
       "       28.52652653, 28.57657658, 28.62662663, 28.67667668, 28.72672673,\n",
       "       28.77677678, 28.82682683, 28.87687688, 28.92692693, 28.97697698,\n",
       "       29.02702703, 29.07707708, 29.12712713, 29.17717718, 29.22722723,\n",
       "       29.27727728, 29.32732733, 29.37737738, 29.42742743, 29.47747748,\n",
       "       29.52752753, 29.57757758, 29.62762763, 29.67767768, 29.72772773,\n",
       "       29.77777778, 29.82782783, 29.87787788, 29.92792793, 29.97797798,\n",
       "       30.02802803, 30.07807808, 30.12812813, 30.17817818, 30.22822823,\n",
       "       30.27827828, 30.32832833, 30.37837838, 30.42842843, 30.47847848,\n",
       "       30.52852853, 30.57857858, 30.62862863, 30.67867868, 30.72872873,\n",
       "       30.77877878, 30.82882883, 30.87887888, 30.92892893, 30.97897898,\n",
       "       31.02902903, 31.07907908, 31.12912913, 31.17917918, 31.22922923,\n",
       "       31.27927928, 31.32932933, 31.37937938, 31.42942943, 31.47947948,\n",
       "       31.52952953, 31.57957958, 31.62962963, 31.67967968, 31.72972973,\n",
       "       31.77977978, 31.82982983, 31.87987988, 31.92992993, 31.97997998,\n",
       "       32.03003003, 32.08008008, 32.13013013, 32.18018018, 32.23023023,\n",
       "       32.28028028, 32.33033033, 32.38038038, 32.43043043, 32.48048048,\n",
       "       32.53053053, 32.58058058, 32.63063063, 32.68068068, 32.73073073,\n",
       "       32.78078078, 32.83083083, 32.88088088, 32.93093093, 32.98098098,\n",
       "       33.03103103, 33.08108108, 33.13113113, 33.18118118, 33.23123123,\n",
       "       33.28128128, 33.33133133, 33.38138138, 33.43143143, 33.48148148,\n",
       "       33.53153153, 33.58158158, 33.63163163, 33.68168168, 33.73173173,\n",
       "       33.78178178, 33.83183183, 33.88188188, 33.93193193, 33.98198198,\n",
       "       34.03203203, 34.08208208, 34.13213213, 34.18218218, 34.23223223,\n",
       "       34.28228228, 34.33233233, 34.38238238, 34.43243243, 34.48248248,\n",
       "       34.53253253, 34.58258258, 34.63263263, 34.68268268, 34.73273273,\n",
       "       34.78278278, 34.83283283, 34.88288288, 34.93293293, 34.98298298,\n",
       "       35.03303303, 35.08308308, 35.13313313, 35.18318318, 35.23323323,\n",
       "       35.28328328, 35.33333333, 35.38338338, 35.43343343, 35.48348348,\n",
       "       35.53353353, 35.58358358, 35.63363363, 35.68368368, 35.73373373,\n",
       "       35.78378378, 35.83383383, 35.88388388, 35.93393393, 35.98398398,\n",
       "       36.03403403, 36.08408408, 36.13413413, 36.18418418, 36.23423423,\n",
       "       36.28428428, 36.33433433, 36.38438438, 36.43443443, 36.48448448,\n",
       "       36.53453453, 36.58458458, 36.63463463, 36.68468468, 36.73473473,\n",
       "       36.78478478, 36.83483483, 36.88488488, 36.93493493, 36.98498498,\n",
       "       37.03503504, 37.08508509, 37.13513514, 37.18518519, 37.23523524,\n",
       "       37.28528529, 37.33533534, 37.38538539, 37.43543544, 37.48548549,\n",
       "       37.53553554, 37.58558559, 37.63563564, 37.68568569, 37.73573574,\n",
       "       37.78578579, 37.83583584, 37.88588589, 37.93593594, 37.98598599,\n",
       "       38.03603604, 38.08608609, 38.13613614, 38.18618619, 38.23623624,\n",
       "       38.28628629, 38.33633634, 38.38638639, 38.43643644, 38.48648649,\n",
       "       38.53653654, 38.58658659, 38.63663664, 38.68668669, 38.73673674,\n",
       "       38.78678679, 38.83683684, 38.88688689, 38.93693694, 38.98698699,\n",
       "       39.03703704, 39.08708709, 39.13713714, 39.18718719, 39.23723724,\n",
       "       39.28728729, 39.33733734, 39.38738739, 39.43743744, 39.48748749,\n",
       "       39.53753754, 39.58758759, 39.63763764, 39.68768769, 39.73773774,\n",
       "       39.78778779, 39.83783784, 39.88788789, 39.93793794, 39.98798799,\n",
       "       40.03803804, 40.08808809, 40.13813814, 40.18818819, 40.23823824,\n",
       "       40.28828829, 40.33833834, 40.38838839, 40.43843844, 40.48848849,\n",
       "       40.53853854, 40.58858859, 40.63863864, 40.68868869, 40.73873874,\n",
       "       40.78878879, 40.83883884, 40.88888889, 40.93893894, 40.98898899,\n",
       "       41.03903904, 41.08908909, 41.13913914, 41.18918919, 41.23923924,\n",
       "       41.28928929, 41.33933934, 41.38938939, 41.43943944, 41.48948949,\n",
       "       41.53953954, 41.58958959, 41.63963964, 41.68968969, 41.73973974,\n",
       "       41.78978979, 41.83983984, 41.88988989, 41.93993994, 41.98998999,\n",
       "       42.04004004, 42.09009009, 42.14014014, 42.19019019, 42.24024024,\n",
       "       42.29029029, 42.34034034, 42.39039039, 42.44044044, 42.49049049,\n",
       "       42.54054054, 42.59059059, 42.64064064, 42.69069069, 42.74074074,\n",
       "       42.79079079, 42.84084084, 42.89089089, 42.94094094, 42.99099099,\n",
       "       43.04104104, 43.09109109, 43.14114114, 43.19119119, 43.24124124,\n",
       "       43.29129129, 43.34134134, 43.39139139, 43.44144144, 43.49149149,\n",
       "       43.54154154, 43.59159159, 43.64164164, 43.69169169, 43.74174174,\n",
       "       43.79179179, 43.84184184, 43.89189189, 43.94194194, 43.99199199,\n",
       "       44.04204204, 44.09209209, 44.14214214, 44.19219219, 44.24224224,\n",
       "       44.29229229, 44.34234234, 44.39239239, 44.44244244, 44.49249249,\n",
       "       44.54254254, 44.59259259, 44.64264264, 44.69269269, 44.74274274,\n",
       "       44.79279279, 44.84284284, 44.89289289, 44.94294294, 44.99299299,\n",
       "       45.04304304, 45.09309309, 45.14314314, 45.19319319, 45.24324324,\n",
       "       45.29329329, 45.34334334, 45.39339339, 45.44344344, 45.49349349,\n",
       "       45.54354354, 45.59359359, 45.64364364, 45.69369369, 45.74374374,\n",
       "       45.79379379, 45.84384384, 45.89389389, 45.94394394, 45.99399399,\n",
       "       46.04404404, 46.09409409, 46.14414414, 46.19419419, 46.24424424,\n",
       "       46.29429429, 46.34434434, 46.39439439, 46.44444444, 46.49449449,\n",
       "       46.54454454, 46.59459459, 46.64464464, 46.69469469, 46.74474474,\n",
       "       46.79479479, 46.84484484, 46.89489489, 46.94494494, 46.99499499,\n",
       "       47.04504505, 47.0950951 , 47.14514515, 47.1951952 , 47.24524525,\n",
       "       47.2952953 , 47.34534535, 47.3953954 , 47.44544545, 47.4954955 ,\n",
       "       47.54554555, 47.5955956 , 47.64564565, 47.6956957 , 47.74574575,\n",
       "       47.7957958 , 47.84584585, 47.8958959 , 47.94594595, 47.995996  ,\n",
       "       48.04604605, 48.0960961 , 48.14614615, 48.1961962 , 48.24624625,\n",
       "       48.2962963 , 48.34634635, 48.3963964 , 48.44644645, 48.4964965 ,\n",
       "       48.54654655, 48.5965966 , 48.64664665, 48.6966967 , 48.74674675,\n",
       "       48.7967968 , 48.84684685, 48.8968969 , 48.94694695, 48.996997  ,\n",
       "       49.04704705, 49.0970971 , 49.14714715, 49.1971972 , 49.24724725,\n",
       "       49.2972973 , 49.34734735, 49.3973974 , 49.44744745, 49.4974975 ,\n",
       "       49.54754755, 49.5975976 , 49.64764765, 49.6976977 , 49.74774775,\n",
       "       49.7977978 , 49.84784785, 49.8978979 , 49.94794795, 49.997998  ,\n",
       "       50.04804805, 50.0980981 , 50.14814815, 50.1981982 , 50.24824825,\n",
       "       50.2982983 , 50.34834835, 50.3983984 , 50.44844845, 50.4984985 ,\n",
       "       50.54854855, 50.5985986 , 50.64864865, 50.6986987 , 50.74874875,\n",
       "       50.7987988 , 50.84884885, 50.8988989 , 50.94894895, 50.998999  ,\n",
       "       51.04904905, 51.0990991 , 51.14914915, 51.1991992 , 51.24924925,\n",
       "       51.2992993 , 51.34934935, 51.3993994 , 51.44944945, 51.4994995 ,\n",
       "       51.54954955, 51.5995996 , 51.64964965, 51.6996997 , 51.74974975,\n",
       "       51.7997998 , 51.84984985, 51.8998999 , 51.94994995, 52.        ])"
      ]
     },
     "execution_count": 9,
     "metadata": {},
     "output_type": "execute_result"
    }
   ],
   "source": [
    "# Look at y.\n",
    "y"
   ]
  },
  {
   "cell_type": "code",
   "execution_count": 10,
   "id": "e8eca063-63d6-40de-8014-0a06f27f57cf",
   "metadata": {},
   "outputs": [
    {
     "data": {
      "text/plain": [
       "[<matplotlib.lines.Line2D at 0x237b9cbd670>]"
      ]
     },
     "execution_count": 10,
     "metadata": {},
     "output_type": "execute_result"
    },
    {
     "data": {
      "image/png": "[encoded data removed]",
      "text/plain": [
       "<Figure size 432x288 with 1 Axes>"
      ]
     },
     "metadata": {
      "needs_background": "light"
     },
     "output_type": "display_data"
    }
   ],
   "source": [
    "\n",
    "# Plot x versus y.\n",
    "plt.plot(x, y, 'k.')"
   ]
  },
  {
   "cell_type": "code",
   "execution_count": 11,
   "id": "bbf21748-ba78-421d-b141-66fb7a9f00e9",
   "metadata": {},
   "outputs": [
    {
     "data": {
      "text/plain": [
       "array([5., 2.])"
      ]
     },
     "execution_count": 11,
     "metadata": {},
     "output_type": "execute_result"
    }
   ],
   "source": [
    "# Do regression on the x and y arrays using numpy.\n",
    "np.polyfit(x, y, 1)"
   ]
  },
  {
   "cell_type": "code",
   "execution_count": 12,
   "id": "d69eab5a-beb6-46a3-befa-6b8d021a0481",
   "metadata": {},
   "outputs": [],
   "source": [
    "# Create a y with noise.\n",
    "y = 3.0 * x - 1.0 + np.random.normal(0.0, 1.0, len(x))"
   ]
  },
  {
   "cell_type": "markdown",
   "id": "4790aacf-5b17-4c57-99ee-24be1f6c4104",
   "metadata": {},
   "source": [
    "Notes : adding noise to the data - using equation y=3x-1+ epsilon. In the real world you will be gathering the x and y data , and u wouldnt know the noise that could effect this data. "
   ]
  },
  {
   "cell_type": "code",
   "execution_count": 13,
   "id": "6bd62f70-cebc-4351-b737-208662bab4d0",
   "metadata": {},
   "outputs": [
    {
     "data": {
      "text/plain": [
       "array([ 2.99803723, -0.9557192 ])"
      ]
     },
     "execution_count": 13,
     "metadata": {},
     "output_type": "execute_result"
    }
   ],
   "source": [
    "# Do regression on the x and y arrays using numpy.\n",
    "np.polyfit(x, y, 1)"
   ]
  },
  {
   "cell_type": "code",
   "execution_count": 14,
   "id": "05c1e050-c35a-43c9-bb63-1da66bec6747",
   "metadata": {},
   "outputs": [
    {
     "data": {
      "text/plain": [
       "(2.998037231742879, -0.9557191966945997)"
      ]
     },
     "execution_count": 14,
     "metadata": {},
     "output_type": "execute_result"
    }
   ],
   "source": [
    "# Create variables with those values.\n",
    "m, c = np.polyfit(x, y, 1)\n",
    "# Have a look at m and c.\n",
    "m, c"
   ]
  },
  {
   "cell_type": "code",
   "execution_count": 15,
   "id": "883a9cf3-123e-4c62-b91a-3f112ace7bda",
   "metadata": {},
   "outputs": [
    {
     "data": {
      "text/plain": [
       "[<matplotlib.lines.Line2D at 0x237b9d1eb80>]"
      ]
     },
     "execution_count": 15,
     "metadata": {},
     "output_type": "execute_result"
    },
    {
     "data": {
      "image/png": "[encoded data removed]",
      "text/plain": [
       "<Figure size 432x288 with 1 Axes>"
      ]
     },
     "metadata": {
      "needs_background": "light"
     },
     "output_type": "display_data"
    }
   ],
   "source": [
    "# Plot x and y and the regression line in red.\n",
    "plt.plot(x, y, 'k.')\n",
    "plt.plot(x, m * x + c, 'r-')"
   ]
  },
  {
   "cell_type": "markdown",
   "id": "b8e0e307-1cd6-4abe-a01c-c417c39a7ca1",
   "metadata": {},
   "source": [
    "note :that we can easily calculate the best m and c ourselves"
   ]
  },
  {
   "cell_type": "code",
   "execution_count": null,
   "id": "0c6567c7-df81-42f5-afa4-e3c06a9da651",
   "metadata": {},
   "outputs": [],
   "source": [
    "# Calculate mean x and mean y.\n",
    "x_avg = np.mean(x)\n",
    "y_avg = np.mean(y)\n",
    "\n",
    "# Subtract means from x and y.\n",
    "x_zero = x - x_avg\n",
    "y_zero = y - y_avg\n",
    "\n",
    "# Dot product of mean-adjusted x and y divided by dot product of mean adjusted x with itself.\n",
    "m = np.sum(x_zero * y_zero) / np.sum(x_zero * x_zero)\n",
    "# Subtract m times average x from average y.\n",
    "c = y_avg - m * x_avg\n",
    "\n",
    "# Let's have a look - same values as above.\n",
    "m, c"
   ]
  },
  {
   "cell_type": "markdown",
   "id": "82352c19-e70b-494a-ac48-8028a545fbff",
   "metadata": {},
   "source": [
    "note : y = 2x2 +5x+1+epsilon"
   ]
  },
  {
   "cell_type": "code",
   "execution_count": 16,
   "id": "10746527-c0ce-420d-ad25-e799dbf5dcfe",
   "metadata": {},
   "outputs": [],
   "source": [
    "# Create y from a polynomial in x.\n",
    "y =  2.0 * x * x + 5.0 * x + 1.0 + np.random.normal(0.0, 1.0, len(x))"
   ]
  },
  {
   "cell_type": "code",
   "execution_count": 17,
   "id": "ff932705-de41-45bf-b598-6f92e2b02af7",
   "metadata": {},
   "outputs": [
    {
     "data": {
      "text/plain": [
       "array([ 2.92358605e-01,  1.47796036e+00, -5.05827689e-01,  3.21332786e+00,\n",
       "        9.09661523e-01, -1.62253135e-01,  1.32219059e+00,  1.87233370e+00,\n",
       "        1.43144887e+00,  4.39639296e+00,  2.30379461e+00,  8.94847558e-01,\n",
       "       -1.72368878e-01,  1.79802250e+00,  1.95161949e+00,  2.69839679e+00,\n",
       "        2.02059618e+00,  2.62307254e+00,  2.00802468e+00,  1.03122760e+00,\n",
       "        3.00487037e+00,  3.46977399e+00,  4.85465936e+00,  4.23544472e+00,\n",
       "        4.17707849e+00,  2.10517791e+00,  1.87117083e-01,  3.50092978e+00,\n",
       "        1.86582372e+00,  2.01837220e+00,  1.66656558e+00,  3.22957895e+00,\n",
       "        3.51808874e+00,  3.88166892e+00,  2.12354255e+00,  3.60037807e+00,\n",
       "        3.09987640e+00,  2.39212868e+00,  4.33145527e+00,  4.07419175e+00,\n",
       "        3.52470802e+00,  3.46614492e+00,  5.00137523e+00,  3.98280604e+00,\n",
       "        4.57713024e+00,  3.31245397e+00,  3.76227986e+00,  4.56650064e+00,\n",
       "        5.42628079e+00,  3.80805989e+00,  3.80619676e+00,  5.06598534e+00,\n",
       "        5.76484592e+00,  3.96161905e+00,  5.00082989e+00,  4.54772263e+00,\n",
       "        3.63287512e+00,  4.64724895e+00,  6.54859190e+00,  3.28976600e+00,\n",
       "        4.40519038e+00,  3.01578051e+00,  5.94340748e+00,  7.20257997e+00,\n",
       "        4.33947555e+00,  3.89951862e+00,  6.05158874e+00,  6.30150760e+00,\n",
       "        6.75814983e+00,  6.61102079e+00,  5.65343886e+00,  4.68637679e+00,\n",
       "        5.98457811e+00,  5.33534480e+00,  6.33651309e+00,  5.58240361e+00,\n",
       "        5.63732770e+00,  5.88284250e+00,  6.80754052e+00,  6.07306821e+00,\n",
       "        6.92489221e+00,  7.07578004e+00,  8.21145067e+00,  5.10591497e+00,\n",
       "        5.10860791e+00,  7.47964143e+00,  6.29085661e+00,  5.95035446e+00,\n",
       "        7.07669659e+00,  6.32261373e+00,  7.95926492e+00,  8.17046132e+00,\n",
       "        7.32363718e+00,  6.57196458e+00,  8.34602020e+00,  7.90046219e+00,\n",
       "        9.21289373e+00,  7.59810789e+00,  8.38498141e+00,  8.31086020e+00,\n",
       "        8.67042020e+00,  8.46886486e+00,  8.23563513e+00,  7.35216990e+00,\n",
       "        9.94212715e+00,  9.82986648e+00,  9.13079442e+00,  7.76189191e+00,\n",
       "        1.03188865e+01,  7.46373010e+00,  8.24517831e+00,  8.65544656e+00,\n",
       "        8.41949597e+00,  9.39374766e+00,  8.78891679e+00,  8.74526270e+00,\n",
       "        9.71664167e+00,  1.04205347e+01,  9.26386612e+00,  1.01127070e+01,\n",
       "        1.00585337e+01,  8.49890396e+00,  9.50304452e+00,  9.85554656e+00,\n",
       "        9.75667589e+00,  1.03779103e+01,  1.11156190e+01,  1.03173899e+01,\n",
       "        1.08209615e+01,  1.04325489e+01,  1.21261890e+01,  1.26290753e+01,\n",
       "        1.15931945e+01,  1.10955831e+01,  1.23294564e+01,  1.16944836e+01,\n",
       "        1.22927207e+01,  9.99706400e+00,  1.24193874e+01,  1.23937804e+01,\n",
       "        1.26340916e+01,  1.09401806e+01,  1.29217974e+01,  1.36159100e+01,\n",
       "        1.15021129e+01,  1.12602316e+01,  1.16777780e+01,  1.05498964e+01,\n",
       "        1.36634404e+01,  1.06920223e+01,  1.22318205e+01,  1.35947290e+01,\n",
       "        1.30181988e+01,  1.27249926e+01,  1.21292661e+01,  1.32279510e+01,\n",
       "        1.32825021e+01,  1.36863117e+01,  1.43186498e+01,  1.34387031e+01,\n",
       "        1.37361209e+01,  1.43188162e+01,  1.41821833e+01,  1.40990593e+01,\n",
       "        1.46507677e+01,  1.46156451e+01,  1.44787731e+01,  1.51504373e+01,\n",
       "        1.53895121e+01,  1.62713411e+01,  1.55622900e+01,  1.35004242e+01,\n",
       "        1.50121505e+01,  1.70585007e+01,  1.55346652e+01,  1.70517665e+01,\n",
       "        1.45120975e+01,  1.53151477e+01,  1.67675045e+01,  1.69350318e+01,\n",
       "        1.79099327e+01,  1.70130761e+01,  1.68920540e+01,  1.70383810e+01,\n",
       "        1.83097611e+01,  1.85347237e+01,  1.55419692e+01,  1.72077529e+01,\n",
       "        1.83456581e+01,  1.84776594e+01,  1.78130127e+01,  1.80187310e+01,\n",
       "        1.72513672e+01,  1.94566282e+01,  2.00167330e+01,  1.73041166e+01,\n",
       "        1.79835037e+01,  1.85927100e+01,  1.79105927e+01,  1.91835076e+01,\n",
       "        1.90559098e+01,  2.00238054e+01,  1.77250044e+01,  2.04980916e+01,\n",
       "        2.16626729e+01,  1.85056804e+01,  1.97668475e+01,  1.97584649e+01,\n",
       "        2.03429943e+01,  2.03534627e+01,  2.01245945e+01,  1.95472342e+01,\n",
       "        2.21664669e+01,  2.07489699e+01,  2.24232003e+01,  1.97688916e+01,\n",
       "        2.15581115e+01,  2.16700817e+01,  2.14574108e+01,  1.93430434e+01,\n",
       "        2.25536839e+01,  2.21833659e+01,  2.25525262e+01,  2.19303781e+01,\n",
       "        2.02122117e+01,  2.15007447e+01,  2.24076038e+01,  2.11286548e+01,\n",
       "        2.23829386e+01,  2.40954987e+01,  2.39196943e+01,  2.45168488e+01,\n",
       "        2.26357556e+01,  2.32749094e+01,  2.38748353e+01,  2.30069738e+01,\n",
       "        2.29586455e+01,  2.40146073e+01,  2.37580051e+01,  2.48473776e+01,\n",
       "        2.37988258e+01,  2.45031225e+01,  2.35077909e+01,  2.54894180e+01,\n",
       "        2.46271313e+01,  2.43245278e+01,  2.60581889e+01,  2.42948763e+01,\n",
       "        2.56591839e+01,  2.40343849e+01,  2.61281340e+01,  2.58418663e+01,\n",
       "        2.76256309e+01,  2.54832081e+01,  2.63819028e+01,  2.78129083e+01,\n",
       "        2.66251666e+01,  2.78169064e+01,  2.83481834e+01,  2.76714682e+01,\n",
       "        2.81259425e+01,  2.99605536e+01,  2.81140614e+01,  2.73207836e+01,\n",
       "        2.77750137e+01,  2.97276390e+01,  3.14337602e+01,  2.77156410e+01,\n",
       "        2.81068342e+01,  3.03690175e+01,  2.89122250e+01,  2.84605067e+01,\n",
       "        2.92791923e+01,  2.96092250e+01,  2.94275207e+01,  3.12140167e+01,\n",
       "        2.94389233e+01,  2.94331655e+01,  3.13767226e+01,  3.05893721e+01,\n",
       "        3.02472975e+01,  2.98788626e+01,  3.21832753e+01,  3.18104416e+01,\n",
       "        3.06819515e+01,  3.39376636e+01,  3.20488708e+01,  3.33938526e+01,\n",
       "        2.96305614e+01,  2.96338413e+01,  3.14339557e+01,  3.29248517e+01,\n",
       "        3.36202699e+01,  3.37260854e+01,  3.23020919e+01,  3.20052505e+01,\n",
       "        3.41229257e+01,  3.44861983e+01,  3.34057332e+01,  3.36213936e+01,\n",
       "        3.50734091e+01,  3.37218538e+01,  3.43902004e+01,  3.40729827e+01,\n",
       "        3.38615902e+01,  3.49272718e+01,  3.54286359e+01,  3.51733073e+01,\n",
       "        3.45282626e+01,  3.42938009e+01,  3.51991796e+01,  3.54656092e+01,\n",
       "        3.68777758e+01,  3.53613868e+01,  3.59668877e+01,  3.80269249e+01,\n",
       "        3.46285365e+01,  3.57437603e+01,  3.73164511e+01,  3.68519502e+01,\n",
       "        3.79594882e+01,  3.79358909e+01,  3.91082877e+01,  3.93420469e+01,\n",
       "        3.84748063e+01,  3.98993722e+01,  3.89805600e+01,  3.81025481e+01,\n",
       "        3.87446532e+01,  3.89736056e+01,  3.98544065e+01,  3.84308288e+01,\n",
       "        3.87074495e+01,  3.90314404e+01,  4.00058256e+01,  3.86311354e+01,\n",
       "        3.88516610e+01,  4.02260848e+01,  3.99585032e+01,  4.31085870e+01,\n",
       "        4.20847895e+01,  4.07314080e+01,  4.20032635e+01,  4.32273328e+01,\n",
       "        4.16451714e+01,  3.96497429e+01,  4.17839132e+01,  4.21655090e+01,\n",
       "        4.44222058e+01,  4.27192502e+01,  4.43090473e+01,  4.29717384e+01,\n",
       "        4.43417818e+01,  4.13599330e+01,  4.42614775e+01,  4.46532140e+01,\n",
       "        4.40426172e+01,  4.29639885e+01,  4.36978924e+01,  4.27775839e+01,\n",
       "        4.53569673e+01,  4.48619292e+01,  4.55582297e+01,  4.70784304e+01,\n",
       "        4.51955130e+01,  4.56008531e+01,  4.63873817e+01,  4.61007625e+01,\n",
       "        4.62429286e+01,  4.62743086e+01,  4.75601334e+01,  4.78659798e+01,\n",
       "        4.62585890e+01,  4.86873322e+01,  4.73903697e+01,  4.78029901e+01,\n",
       "        4.72539884e+01,  4.80361966e+01,  4.74699580e+01,  4.97978389e+01,\n",
       "        4.96740771e+01,  5.10309866e+01,  5.03704894e+01,  4.95928508e+01,\n",
       "        4.87848205e+01,  4.98252441e+01,  4.97909291e+01,  4.88159347e+01,\n",
       "        5.20119827e+01,  5.09659042e+01,  5.17995283e+01,  5.12062032e+01,\n",
       "        5.10283771e+01,  5.22800211e+01,  5.11060229e+01,  5.38735622e+01,\n",
       "        5.26377593e+01,  5.28131523e+01,  5.20616180e+01,  5.13999280e+01,\n",
       "        5.33064028e+01,  5.26556532e+01,  5.31011560e+01,  5.52585711e+01,\n",
       "        5.21719656e+01,  5.33672425e+01,  5.30771826e+01,  5.34623030e+01,\n",
       "        5.62920274e+01,  5.53759857e+01,  5.42805307e+01,  5.48713332e+01,\n",
       "        5.44693110e+01,  5.88925223e+01,  5.84696806e+01,  5.68548877e+01,\n",
       "        5.85347037e+01,  5.66438441e+01,  5.63137671e+01,  5.79900804e+01,\n",
       "        5.85530315e+01,  5.66938493e+01,  5.76402759e+01,  5.74601475e+01,\n",
       "        5.89367265e+01,  5.69080839e+01,  5.82835874e+01,  6.04246105e+01,\n",
       "        5.90222978e+01,  5.90190016e+01,  6.04064772e+01,  5.82142096e+01,\n",
       "        5.91543526e+01,  5.95933687e+01,  5.95361695e+01,  6.19175200e+01,\n",
       "        6.04283084e+01,  6.11129845e+01,  6.05988959e+01,  6.15880494e+01,\n",
       "        6.18307336e+01,  6.18843389e+01,  6.24270709e+01,  6.33611912e+01,\n",
       "        6.22401264e+01,  6.38704395e+01,  6.39499924e+01,  6.44963157e+01,\n",
       "        6.41839759e+01,  6.22336539e+01,  6.31567529e+01,  6.29552146e+01,\n",
       "        6.51723850e+01,  6.44140767e+01,  6.42116162e+01,  6.58486860e+01,\n",
       "        6.59078578e+01,  6.52959035e+01,  6.61033287e+01,  6.74029946e+01,\n",
       "        6.69864042e+01,  6.40597552e+01,  6.86709992e+01,  6.64983572e+01,\n",
       "        6.98221692e+01,  6.78664005e+01,  6.75444937e+01,  6.92634675e+01,\n",
       "        6.93399156e+01,  6.80729530e+01,  7.02860386e+01,  6.87045756e+01,\n",
       "        6.95500471e+01,  7.12793496e+01,  6.92996053e+01,  7.09925473e+01,\n",
       "        6.96793535e+01,  6.90645872e+01,  7.16128773e+01,  7.16234924e+01,\n",
       "        7.11306741e+01,  7.23597552e+01,  7.21462327e+01,  7.14141522e+01,\n",
       "        7.07890340e+01,  7.09079515e+01,  7.40757774e+01,  7.16329441e+01,\n",
       "        7.21088878e+01,  7.32521494e+01,  7.38696898e+01,  7.48912500e+01,\n",
       "        7.37533772e+01,  7.35541034e+01,  7.48215608e+01,  7.52473237e+01,\n",
       "        7.50740354e+01,  7.51831860e+01,  7.55613805e+01,  7.71872309e+01,\n",
       "        7.68536589e+01,  7.62225517e+01,  7.62323509e+01,  7.71758164e+01,\n",
       "        7.72134423e+01,  7.80226412e+01,  7.99505291e+01,  7.83787739e+01,\n",
       "        7.89938232e+01,  7.80463846e+01,  7.95475717e+01,  7.76376112e+01,\n",
       "        7.85107117e+01,  7.95353735e+01,  7.90139036e+01,  7.82038911e+01,\n",
       "        8.02408894e+01,  7.94667996e+01,  8.04922619e+01,  8.21433488e+01,\n",
       "        8.11144635e+01,  8.16709697e+01,  8.04052543e+01,  8.33798835e+01,\n",
       "        8.37479470e+01,  8.27177383e+01,  8.34804825e+01,  8.38326014e+01,\n",
       "        8.23061402e+01,  8.28397819e+01,  8.33793680e+01,  8.51345969e+01,\n",
       "        8.43398876e+01,  8.51225903e+01,  8.38531927e+01,  8.63347547e+01,\n",
       "        8.66744307e+01,  8.50649030e+01,  8.80516172e+01,  8.63294004e+01,\n",
       "        8.48695225e+01,  8.53562181e+01,  8.69537119e+01,  8.70004028e+01,\n",
       "        8.76978909e+01,  8.80950099e+01,  9.08473781e+01,  8.96539618e+01,\n",
       "        8.81407188e+01,  8.92534817e+01,  8.80915394e+01,  9.04438608e+01,\n",
       "        8.93267721e+01,  8.99155836e+01,  9.04943943e+01,  9.09992099e+01,\n",
       "        9.04919681e+01,  8.96788811e+01,  9.01202451e+01,  9.10041703e+01,\n",
       "        9.20609471e+01,  9.13482972e+01,  9.23194274e+01,  9.24347670e+01,\n",
       "        9.56206064e+01,  9.37709419e+01,  9.40423702e+01,  9.34800515e+01,\n",
       "        9.23314749e+01,  9.44341307e+01,  9.52445221e+01,  9.57195749e+01,\n",
       "        9.41478035e+01,  9.48666859e+01,  9.67460616e+01,  9.70147403e+01,\n",
       "        9.64077569e+01,  9.63006099e+01,  9.79846220e+01,  9.61865201e+01,\n",
       "        9.73626696e+01,  9.86368586e+01,  9.76599290e+01,  9.74205769e+01,\n",
       "        9.86463247e+01,  9.85694269e+01,  9.77304802e+01,  9.95919990e+01,\n",
       "        9.90953522e+01,  9.84039060e+01,  9.96073573e+01,  1.01568236e+02,\n",
       "        1.01872487e+02,  1.00574164e+02,  1.00589434e+02,  1.02629450e+02,\n",
       "        1.04613574e+02,  1.00253342e+02,  1.02749433e+02,  1.02695109e+02,\n",
       "        1.02382549e+02,  1.04339838e+02,  1.05149986e+02,  1.03630123e+02,\n",
       "        1.02935410e+02,  1.02429276e+02,  1.05798359e+02,  1.04749196e+02,\n",
       "        1.04716457e+02,  1.04671309e+02,  1.07061921e+02,  1.06868259e+02,\n",
       "        1.04298263e+02,  1.07240207e+02,  1.05925257e+02,  1.07899926e+02,\n",
       "        1.07574259e+02,  1.08420879e+02,  1.08536827e+02,  1.08704225e+02,\n",
       "        1.10133032e+02,  1.09776120e+02,  1.11556013e+02,  1.09728549e+02,\n",
       "        1.13233288e+02,  1.10501097e+02,  1.12081153e+02,  1.12314840e+02,\n",
       "        1.10723080e+02,  1.08830847e+02,  1.11688440e+02,  1.12681254e+02,\n",
       "        1.13505013e+02,  1.12441587e+02,  1.15308133e+02,  1.14417171e+02,\n",
       "        1.13957856e+02,  1.14440603e+02,  1.13889610e+02,  1.15886263e+02,\n",
       "        1.14826653e+02,  1.15727308e+02,  1.14758461e+02,  1.17060655e+02,\n",
       "        1.16201482e+02,  1.17225548e+02,  1.18075900e+02,  1.16698493e+02,\n",
       "        1.18911290e+02,  1.16739232e+02,  1.18098254e+02,  1.17898262e+02,\n",
       "        1.17909856e+02,  1.19795708e+02,  1.21748543e+02,  1.18455687e+02,\n",
       "        1.20416226e+02,  1.20121165e+02,  1.19116134e+02,  1.19279103e+02,\n",
       "        1.22152003e+02,  1.21071223e+02,  1.22021737e+02,  1.22077161e+02,\n",
       "        1.22908035e+02,  1.24318660e+02,  1.24107475e+02,  1.22962940e+02,\n",
       "        1.23727744e+02,  1.24170685e+02,  1.23048897e+02,  1.23916350e+02,\n",
       "        1.25040370e+02,  1.24995604e+02,  1.25992856e+02,  1.28190758e+02,\n",
       "        1.24891508e+02,  1.26607175e+02,  1.28034416e+02,  1.26245043e+02,\n",
       "        1.26381830e+02,  1.28669454e+02,  1.28823773e+02,  1.29000725e+02,\n",
       "        1.29522992e+02,  1.29097169e+02,  1.30052650e+02,  1.29560981e+02,\n",
       "        1.29516682e+02,  1.30976288e+02,  1.31848587e+02,  1.31406840e+02,\n",
       "        1.31811924e+02,  1.32319542e+02,  1.32697555e+02,  1.32320027e+02,\n",
       "        1.31775118e+02,  1.32350674e+02,  1.33301595e+02,  1.32344215e+02,\n",
       "        1.35444442e+02,  1.33764950e+02,  1.34637076e+02,  1.34679343e+02,\n",
       "        1.35455419e+02,  1.35153110e+02,  1.37529118e+02,  1.36984546e+02,\n",
       "        1.35390176e+02,  1.37790562e+02,  1.37473507e+02,  1.36200363e+02,\n",
       "        1.37351376e+02,  1.37091174e+02,  1.37507497e+02,  1.39057963e+02,\n",
       "        1.42717878e+02,  1.39674086e+02,  1.37787962e+02,  1.38941368e+02,\n",
       "        1.41755423e+02,  1.40387384e+02,  1.41016237e+02,  1.41063159e+02,\n",
       "        1.42241559e+02,  1.42639068e+02,  1.41379312e+02,  1.44020622e+02,\n",
       "        1.44565129e+02,  1.44719092e+02,  1.44754565e+02,  1.43828815e+02,\n",
       "        1.42291616e+02,  1.46062318e+02,  1.46674557e+02,  1.47183750e+02,\n",
       "        1.45711427e+02,  1.46428218e+02,  1.47184596e+02,  1.47399158e+02,\n",
       "        1.47714357e+02,  1.49930335e+02,  1.47789618e+02,  1.49712654e+02,\n",
       "        1.48592687e+02,  1.49974590e+02,  1.50301631e+02,  1.49918419e+02,\n",
       "        1.51092429e+02,  1.49817351e+02,  1.51500979e+02,  1.52579325e+02,\n",
       "        1.51333892e+02,  1.53562121e+02,  1.52579433e+02,  1.54434479e+02,\n",
       "        1.52993453e+02,  1.54375519e+02,  1.53812248e+02,  1.53208593e+02,\n",
       "        1.53989015e+02,  1.55738326e+02,  1.55556019e+02,  1.55196477e+02,\n",
       "        1.55927839e+02,  1.57411482e+02,  1.56062064e+02,  1.57387166e+02,\n",
       "        1.58996530e+02,  1.58403624e+02,  1.58597961e+02,  1.60111471e+02,\n",
       "        1.59485285e+02,  1.59402904e+02,  1.59357751e+02,  1.59859860e+02,\n",
       "        1.62058933e+02,  1.60421429e+02,  1.59970729e+02,  1.63067282e+02,\n",
       "        1.63649550e+02,  1.61986033e+02,  1.62924856e+02,  1.64450203e+02,\n",
       "        1.62890542e+02,  1.63450029e+02,  1.65367424e+02,  1.64538565e+02,\n",
       "        1.65301847e+02,  1.65765949e+02,  1.64228860e+02,  1.67630082e+02,\n",
       "        1.65830146e+02,  1.65845075e+02,  1.65225367e+02,  1.67013440e+02,\n",
       "        1.68543634e+02,  1.69335554e+02,  1.68556692e+02,  1.69467657e+02,\n",
       "        1.70577421e+02,  1.68137638e+02,  1.69871489e+02,  1.68737715e+02,\n",
       "        1.71364972e+02,  1.69398079e+02,  1.72779116e+02,  1.71540307e+02,\n",
       "        1.72067280e+02,  1.71974269e+02,  1.72634747e+02,  1.72676167e+02,\n",
       "        1.73570261e+02,  1.73383364e+02,  1.74549606e+02,  1.73987167e+02,\n",
       "        1.75872666e+02,  1.77039456e+02,  1.75734295e+02,  1.77127729e+02,\n",
       "        1.76790441e+02,  1.75825771e+02,  1.78041523e+02,  1.76893377e+02,\n",
       "        1.78340379e+02,  1.77887366e+02,  1.78555817e+02,  1.81917571e+02,\n",
       "        1.80053591e+02,  1.80941710e+02,  1.81223399e+02,  1.81779215e+02,\n",
       "        1.82173641e+02,  1.83402291e+02,  1.82245746e+02,  1.82210681e+02,\n",
       "        1.82294714e+02,  1.82400261e+02,  1.81806664e+02,  1.83918625e+02,\n",
       "        1.84980258e+02,  1.84536939e+02,  1.83395533e+02,  1.85021228e+02,\n",
       "        1.87649213e+02,  1.85746470e+02,  1.87622672e+02,  1.86739318e+02,\n",
       "        1.87980548e+02,  1.89443847e+02,  1.88943077e+02,  1.88988523e+02,\n",
       "        1.89655726e+02,  1.90951397e+02,  1.90164410e+02,  1.89374886e+02,\n",
       "        1.89424025e+02,  1.91356248e+02,  1.92275964e+02,  1.92291864e+02,\n",
       "        1.93545423e+02,  1.91410567e+02,  1.93671953e+02,  1.92442935e+02,\n",
       "        1.93072421e+02,  1.95025992e+02,  1.94723148e+02,  1.95532690e+02,\n",
       "        1.96486537e+02,  1.96205553e+02,  1.97481149e+02,  1.97813360e+02,\n",
       "        1.96161622e+02,  1.98287917e+02,  1.99063910e+02,  1.98843472e+02,\n",
       "        1.98553517e+02,  1.99813741e+02,  2.01125911e+02,  2.00680329e+02,\n",
       "        2.01584035e+02,  1.99645948e+02,  2.01394009e+02,  1.99628076e+02,\n",
       "        1.99804345e+02,  2.02082585e+02,  2.01901525e+02,  2.02161159e+02,\n",
       "        2.03501624e+02,  2.04992831e+02,  2.05175800e+02,  2.05250655e+02,\n",
       "        2.04710587e+02,  2.06791010e+02,  2.07417561e+02,  2.04741677e+02,\n",
       "        2.06833544e+02,  2.08359521e+02,  2.05280125e+02,  2.08353075e+02,\n",
       "        2.08939859e+02,  2.08550765e+02,  2.09490053e+02,  2.09320335e+02,\n",
       "        2.09875490e+02,  2.10990862e+02,  2.12420822e+02,  2.11046164e+02,\n",
       "        2.11268891e+02,  2.11419517e+02,  2.12387689e+02,  2.12739093e+02,\n",
       "        2.13554581e+02,  2.13330264e+02,  2.12649461e+02,  2.15683703e+02,\n",
       "        2.15896069e+02,  2.16753122e+02,  2.14986169e+02,  2.15868415e+02,\n",
       "        2.17063626e+02,  2.17626238e+02,  2.16907476e+02,  2.17839380e+02,\n",
       "        2.17926404e+02,  2.18043558e+02,  2.18590063e+02,  2.19645772e+02,\n",
       "        2.20712987e+02,  2.20961282e+02,  2.22989549e+02,  2.22252443e+02,\n",
       "        2.21434525e+02,  2.22126321e+02,  2.22158151e+02,  2.21660348e+02,\n",
       "        2.25057453e+02,  2.23638742e+02,  2.23969415e+02,  2.23077565e+02,\n",
       "        2.25547758e+02,  2.25108665e+02,  2.27389048e+02,  2.25698394e+02,\n",
       "        2.27097193e+02,  2.27255547e+02,  2.27623015e+02,  2.26368411e+02,\n",
       "        2.28740535e+02,  2.29169122e+02,  2.29015028e+02,  2.28891138e+02,\n",
       "        2.29176444e+02,  2.30194837e+02,  2.31310051e+02,  2.31716530e+02,\n",
       "        2.30552954e+02,  2.33483537e+02,  2.33557270e+02,  2.33731220e+02,\n",
       "        2.32131150e+02,  2.34811377e+02,  2.34873637e+02,  2.34843205e+02,\n",
       "        2.35164691e+02,  2.36970493e+02,  2.37470573e+02,  2.37613801e+02,\n",
       "        2.35864056e+02,  2.38687976e+02,  2.37635876e+02,  2.38740658e+02,\n",
       "        2.38889678e+02,  2.39430730e+02,  2.38944996e+02,  2.39048864e+02,\n",
       "        2.41276892e+02,  2.39598217e+02,  2.41959868e+02,  2.41389593e+02,\n",
       "        2.43088136e+02,  2.42508367e+02,  2.43835073e+02,  2.44403859e+02,\n",
       "        2.43232949e+02,  2.44202313e+02,  2.44120283e+02,  2.47025208e+02,\n",
       "        2.45710561e+02,  2.46676252e+02,  2.47134785e+02,  2.47234904e+02,\n",
       "        2.47654212e+02,  2.49021577e+02,  2.47514473e+02,  2.49993565e+02,\n",
       "        2.48222309e+02,  2.50440740e+02,  2.48042579e+02,  2.49879817e+02])"
      ]
     },
     "execution_count": 17,
     "metadata": {},
     "output_type": "execute_result"
    }
   ],
   "source": [
    "# Look at y.\n",
    "y"
   ]
  },
  {
   "cell_type": "code",
   "execution_count": 18,
   "id": "6cbc8a2e-f715-4eff-b3f7-1023961a71cb",
   "metadata": {},
   "outputs": [
    {
     "data": {
      "text/plain": [
       "(24.98799784133755, -32.21741015148253)"
      ]
     },
     "execution_count": 18,
     "metadata": {},
     "output_type": "execute_result"
    }
   ],
   "source": [
    "# Blindly try the regression - we get answers.\n",
    "# Create variables with those values.\n",
    "m, c = np.polyfit(x, y, 1)\n",
    "# Have a look at m and c.\n",
    "m, c"
   ]
  },
  {
   "cell_type": "code",
   "execution_count": 19,
   "id": "dfb2a6c8-8994-4a77-9e02-78dbfe118d2f",
   "metadata": {},
   "outputs": [
    {
     "data": {
      "text/plain": [
       "[<matplotlib.lines.Line2D at 0x237b9dbb2e0>]"
      ]
     },
     "execution_count": 19,
     "metadata": {},
     "output_type": "execute_result"
    },
    {
     "data": {
      "image/png": "[encoded data removed]",
      "text/plain": [
       "<Figure size 432x288 with 1 Axes>"
      ]
     },
     "metadata": {
      "needs_background": "light"
     },
     "output_type": "display_data"
    }
   ],
   "source": [
    "# Plot the line and the points.\n",
    "plt.plot(x, y, 'k.')\n",
    "plt.plot(x, m * x + c, 'r-')"
   ]
  },
  {
   "cell_type": "code",
   "execution_count": 20,
   "id": "ea875846-6c8b-4669-9859-0f4fefd1a1d5",
   "metadata": {},
   "outputs": [
    {
     "data": {
      "text/plain": [
       "[<matplotlib.lines.Line2D at 0x237b9df2310>]"
      ]
     },
     "execution_count": 20,
     "metadata": {},
     "output_type": "execute_result"
    },
    {
     "data": {
      "image/png": "[encoded data removed]",
      "text/plain": [
       "<Figure size 432x288 with 1 Axes>"
      ]
     },
     "metadata": {
      "needs_background": "light"
     },
     "output_type": "display_data"
    }
   ],
   "source": [
    "# Create variables with those values.\n",
    "a, b, c = np.polyfit(x, y, 2)\n",
    "\n",
    "# Plot the line and the points.\n",
    "plt.plot(x, y, 'k.')\n",
    "plt.plot(x, a * x * x + b * x + c, 'r-')"
   ]
  },
  {
   "cell_type": "markdown",
   "id": "627b6294-7e02-4bf3-a930-607eff0f29ee",
   "metadata": {},
   "source": [
    "Note how the points below the line are bunched in a specific $x$ range."
   ]
  },
  {
   "cell_type": "markdown",
   "id": "d4fdbef1-1c8d-47fd-bea6-2b0ecb694876",
   "metadata": {},
   "source": [
    "## Multiple linear regression ##\n",
    "Let's try multiple linear regression using sklearn. https://scikit-learn.org/stable/"
   ]
  },
  {
   "cell_type": "code",
   "execution_count": 21,
   "id": "9dc7d0dc-5b39-4170-9851-7ff438e3e384",
   "metadata": {},
   "outputs": [],
   "source": [
    "# Import linear_model from sklearn.\n",
    "import sklearn.linear_model as lm"
   ]
  },
  {
   "cell_type": "code",
   "execution_count": 22,
   "id": "c47136de-737e-4feb-93ad-b2aee6f4b62d",
   "metadata": {},
   "outputs": [],
   "source": [
    "# Create a linear regression model instance.\n",
    "m = lm.LinearRegression()"
   ]
  },
  {
   "cell_type": "code",
   "execution_count": 23,
   "id": "2ca78acb-14b6-4d43-bdad-935c0d71a438",
   "metadata": {},
   "outputs": [],
   "source": [
    "# Let's use pandas to read a csv file and organise our data.\n",
    "import pandas as pd"
   ]
  },
  {
   "cell_type": "code",
   "execution_count": 24,
   "id": "7fae0ebd-8e6e-47e5-acde-59fd6d1165f6",
   "metadata": {},
   "outputs": [],
   "source": [
    "# Read the iris csv from online.\n",
    "df = pd.read_csv('https://datahub.io/machine-learning/iris/r/iris.csv')"
   ]
  },
  {
   "cell_type": "code",
   "execution_count": 25,
   "id": "81253135-8e41-4917-a718-1757d11d8b86",
   "metadata": {},
   "outputs": [
    {
     "data": {
      "text/html": [
       "<div>\n",
       "<style scoped>\n",
       "    .dataframe tbody tr th:only-of-type {\n",
       "        vertical-align: middle;\n",
       "    }\n",
       "\n",
       "    .dataframe tbody tr th {\n",
       "        vertical-align: top;\n",
       "    }\n",
       "\n",
       "    .dataframe thead th {\n",
       "        text-align: right;\n",
       "    }\n",
       "</style>\n",
       "<table border=\"1\" class=\"dataframe\">\n",
       "  <thead>\n",
       "    <tr style=\"text-align: right;\">\n",
       "      <th></th>\n",
       "      <th>sepallength</th>\n",
       "      <th>sepalwidth</th>\n",
       "      <th>petallength</th>\n",
       "      <th>petalwidth</th>\n",
       "      <th>class</th>\n",
       "    </tr>\n",
       "  </thead>\n",
       "  <tbody>\n",
       "    <tr>\n",
       "      <th>0</th>\n",
       "      <td>5.1</td>\n",
       "      <td>3.5</td>\n",
       "      <td>1.4</td>\n",
       "      <td>0.2</td>\n",
       "      <td>Iris-setosa</td>\n",
       "    </tr>\n",
       "    <tr>\n",
       "      <th>1</th>\n",
       "      <td>4.9</td>\n",
       "      <td>3.0</td>\n",
       "      <td>1.4</td>\n",
       "      <td>0.2</td>\n",
       "      <td>Iris-setosa</td>\n",
       "    </tr>\n",
       "    <tr>\n",
       "      <th>2</th>\n",
       "      <td>4.7</td>\n",
       "      <td>3.2</td>\n",
       "      <td>1.3</td>\n",
       "      <td>0.2</td>\n",
       "      <td>Iris-setosa</td>\n",
       "    </tr>\n",
       "    <tr>\n",
       "      <th>3</th>\n",
       "      <td>4.6</td>\n",
       "      <td>3.1</td>\n",
       "      <td>1.5</td>\n",
       "      <td>0.2</td>\n",
       "      <td>Iris-setosa</td>\n",
       "    </tr>\n",
       "    <tr>\n",
       "      <th>4</th>\n",
       "      <td>5.0</td>\n",
       "      <td>3.6</td>\n",
       "      <td>1.4</td>\n",
       "      <td>0.2</td>\n",
       "      <td>Iris-setosa</td>\n",
       "    </tr>\n",
       "    <tr>\n",
       "      <th>...</th>\n",
       "      <td>...</td>\n",
       "      <td>...</td>\n",
       "      <td>...</td>\n",
       "      <td>...</td>\n",
       "      <td>...</td>\n",
       "    </tr>\n",
       "    <tr>\n",
       "      <th>145</th>\n",
       "      <td>6.7</td>\n",
       "      <td>3.0</td>\n",
       "      <td>5.2</td>\n",
       "      <td>2.3</td>\n",
       "      <td>Iris-virginica</td>\n",
       "    </tr>\n",
       "    <tr>\n",
       "      <th>146</th>\n",
       "      <td>6.3</td>\n",
       "      <td>2.5</td>\n",
       "      <td>5.0</td>\n",
       "      <td>1.9</td>\n",
       "      <td>Iris-virginica</td>\n",
       "    </tr>\n",
       "    <tr>\n",
       "      <th>147</th>\n",
       "      <td>6.5</td>\n",
       "      <td>3.0</td>\n",
       "      <td>5.2</td>\n",
       "      <td>2.0</td>\n",
       "      <td>Iris-virginica</td>\n",
       "    </tr>\n",
       "    <tr>\n",
       "      <th>148</th>\n",
       "      <td>6.2</td>\n",
       "      <td>3.4</td>\n",
       "      <td>5.4</td>\n",
       "      <td>2.3</td>\n",
       "      <td>Iris-virginica</td>\n",
       "    </tr>\n",
       "    <tr>\n",
       "      <th>149</th>\n",
       "      <td>5.9</td>\n",
       "      <td>3.0</td>\n",
       "      <td>5.1</td>\n",
       "      <td>1.8</td>\n",
       "      <td>Iris-virginica</td>\n",
       "    </tr>\n",
       "  </tbody>\n",
       "</table>\n",
       "<p>150 rows × 5 columns</p>\n",
       "</div>"
      ],
      "text/plain": [
       "     sepallength  sepalwidth  petallength  petalwidth           class\n",
       "0            5.1         3.5          1.4         0.2     Iris-setosa\n",
       "1            4.9         3.0          1.4         0.2     Iris-setosa\n",
       "2            4.7         3.2          1.3         0.2     Iris-setosa\n",
       "3            4.6         3.1          1.5         0.2     Iris-setosa\n",
       "4            5.0         3.6          1.4         0.2     Iris-setosa\n",
       "..           ...         ...          ...         ...             ...\n",
       "145          6.7         3.0          5.2         2.3  Iris-virginica\n",
       "146          6.3         2.5          5.0         1.9  Iris-virginica\n",
       "147          6.5         3.0          5.2         2.0  Iris-virginica\n",
       "148          6.2         3.4          5.4         2.3  Iris-virginica\n",
       "149          5.9         3.0          5.1         1.8  Iris-virginica\n",
       "\n",
       "[150 rows x 5 columns]"
      ]
     },
     "execution_count": 25,
     "metadata": {},
     "output_type": "execute_result"
    }
   ],
   "source": [
    "\n",
    "df"
   ]
  },
  {
   "cell_type": "markdown",
   "id": "e87de42a-4a6b-4b6e-92d0-63242f7fe165",
   "metadata": {},
   "source": [
    "petalwidth = t(sepallength)+u(sepalwidth)+v(petallength)+c\n",
    "\n",
    "more than one x value\n",
    "\n",
    "fitting exercise : using m for model, fit x and y values to the model in the sklearn. "
   ]
  },
  {
   "cell_type": "code",
   "execution_count": 26,
   "id": "2258538c-3499-42f0-bf2f-7a98601b40aa",
   "metadata": {},
   "outputs": [],
   "source": [
    "# Let's pretend we want to do linear regression on these variables to predict petal width.\n",
    "x = df[['sepallength', 'sepalwidth', 'petallength']]"
   ]
  },
  {
   "cell_type": "code",
   "execution_count": 27,
   "id": "31a6fbf3-90b8-4012-8f1c-50d516e4b601",
   "metadata": {},
   "outputs": [],
   "source": [
    "# Here's petal width.\n",
    "y = df['petalwidth']"
   ]
  },
  {
   "cell_type": "code",
   "execution_count": 34,
   "id": "bbea4054-1533-462d-8a08-25b0479ffbd3",
   "metadata": {},
   "outputs": [
    {
     "data": {
      "text/plain": [
       "LinearRegression()"
      ]
     },
     "execution_count": 34,
     "metadata": {},
     "output_type": "execute_result"
    }
   ],
   "source": [
    "# Ask our model to fit the data.\n",
    "m.fit(x, y)"
   ]
  },
  {
   "cell_type": "code",
   "execution_count": 29,
   "id": "a4e4d1a9-dfff-4814-bfb3-5a53d02c36a1",
   "metadata": {},
   "outputs": [
    {
     "data": {
      "text/plain": [
       "-0.248723586024455"
      ]
     },
     "execution_count": 29,
     "metadata": {},
     "output_type": "execute_result"
    }
   ],
   "source": [
    "# Here's our intercept.\n",
    "m.intercept_"
   ]
  },
  {
   "cell_type": "code",
   "execution_count": 30,
   "id": "4548cfb3-3604-41ce-bd6d-57042eaa1a23",
   "metadata": {},
   "outputs": [
    {
     "data": {
      "text/plain": [
       "array([-0.21027133,  0.22877721,  0.52608818])"
      ]
     },
     "execution_count": 30,
     "metadata": {},
     "output_type": "execute_result"
    }
   ],
   "source": [
    "# Here's our coefficients, in order. each result should be multiplied by \n",
    "m.coef_"
   ]
  },
  {
   "cell_type": "code",
   "execution_count": 31,
   "id": "b504f66a-8000-4b7f-945b-a490f29070d2",
   "metadata": {},
   "outputs": [
    {
     "data": {
      "text/plain": [
       "0.9380481344518986"
      ]
     },
     "execution_count": 31,
     "metadata": {},
     "output_type": "execute_result"
    }
   ],
   "source": [
    "# See how good our fit is.\n",
    "m.score(x, y)"
   ]
  },
  {
   "cell_type": "code",
   "execution_count": 32,
   "id": "2c78b762-bc92-48bc-b9fd-dbf1be645f85",
   "metadata": {},
   "outputs": [
    {
     "data": {
      "text/plain": [
       "0.9380481344518986"
      ]
     },
     "execution_count": 32,
     "metadata": {},
     "output_type": "execute_result"
    }
   ],
   "source": [
    "# Calculating the score by hand.\n",
    "t, u, v = m.coef_\n",
    "c = m.intercept_\n",
    "\n",
    "y_avg = y.mean()\n",
    "\n",
    "u = ((y - (t * x['sepallength'] + u * x['sepalwidth'] + v * x['petallength'] + c))**2).sum()\n",
    "v = ((y - y.mean())**2).sum()\n",
    "\n",
    "1 - (u/v)"
   ]
  },
  {
   "cell_type": "markdown",
   "id": "978b999b-2ce3-48ad-b694-db2035274c54",
   "metadata": {},
   "source": [
    "## Using statsmodels ##"
   ]
  },
  {
   "cell_type": "code",
   "execution_count": 33,
   "id": "3b4b6583-aa0d-4662-91ce-77e4ee842e7a",
   "metadata": {},
   "outputs": [
    {
     "name": "stdout",
     "output_type": "stream",
     "text": [
      "                            OLS Regression Results                            \n",
      "==============================================================================\n",
      "Dep. Variable:             petalwidth   R-squared:                       0.938\n",
      "Model:                            OLS   Adj. R-squared:                  0.937\n",
      "Method:                 Least Squares   F-statistic:                     736.9\n",
      "Date:                Tue, 26 Oct 2021   Prob (F-statistic):           6.20e-88\n",
      "Time:                        13:02:35   Log-Likelihood:                 36.809\n",
      "No. Observations:                 150   AIC:                            -65.62\n",
      "Df Residuals:                     146   BIC:                            -53.57\n",
      "Df Model:                           3                                         \n",
      "Covariance Type:            nonrobust                                         \n",
      "===============================================================================\n",
      "                  coef    std err          t      P>|t|      [0.025      0.975]\n",
      "-------------------------------------------------------------------------------\n",
      "const          -0.2487      0.178     -1.396      0.165      -0.601       0.103\n",
      "sepallength    -0.2103      0.048     -4.426      0.000      -0.304      -0.116\n",
      "sepalwidth      0.2288      0.049      4.669      0.000       0.132       0.326\n",
      "petallength     0.5261      0.024     21.536      0.000       0.478       0.574\n",
      "==============================================================================\n",
      "Omnibus:                        5.603   Durbin-Watson:                   1.577\n",
      "Prob(Omnibus):                  0.061   Jarque-Bera (JB):                6.817\n",
      "Skew:                           0.222   Prob(JB):                       0.0331\n",
      "Kurtosis:                       3.945   Cond. No.                         90.0\n",
      "==============================================================================\n",
      "\n",
      "Notes:\n",
      "[1] Standard Errors assume that the covariance matrix of the errors is correctly specified.\n"
     ]
    }
   ],
   "source": [
    "# Using statsmodels.\n",
    "import statsmodels.api as sm\n",
    "\n",
    "# Tell statmodels to include an intercept.\n",
    "xwithc = sm.add_constant(x)\n",
    "\n",
    "# Create a model.\n",
    "msm = sm.OLS(y, xwithc)\n",
    "# Fit the data.\n",
    "rsm = msm.fit()\n",
    "# Print a summary.\n",
    "print(rsm.summary())"
   ]
  },
  {
   "cell_type": "markdown",
   "id": "0f3e1570-bca3-414f-844f-0b2b859f71c5",
   "metadata": {},
   "source": [
    "## End ##"
   ]
  },
  {
   "cell_type": "code",
   "execution_count": null,
   "id": "5911b505-3207-4103-8205-706db1ce83b2",
   "metadata": {},
   "outputs": [],
   "source": []
  },
  {
   "cell_type": "markdown",
   "id": "f82b0562-16f9-49da-baa0-d8f89810a986",
   "metadata": {},
   "source": [
    "Notes  from video : go to scikit learn : \n",
    "\n",
    "go to linear models section  : \n",
    "\n",
    "go through example\n",
    "look up score  ???\n",
    "packages : Statmodels - regression \n",
    "loads of ways to do regression - common in machine learning - ridge and lasso regression types. penalise big coefficients. stop one of the variables taking other . how do they improve regression ? generalise from the data sets. turning inputs into ouputs using machine learning. telling the machine what kind of model you want  ? approximation ?? are you sure that this is the solution ? is it good ? pick one data set suitable for regression !!! classification and regression topics . next unsupervised learning "
   ]
  },
  {
   "cell_type": "markdown",
   "id": "a6708e8c-cf52-4654-b3fd-1c9c3b77b507",
   "metadata": {},
   "source": [
    "## Ridge regression and classification ##\n",
    "\n",
    "Reference : https://scikit-learn.org/stable/modules/linear_model.html#ridge-regression-and-classification\n",
    "\n",
    "\n",
    "Ridge regression addresses some of the problems of Ordinary Least Squares by imposing a penalty on the size of the coefficients.\n",
    "The ridge coefficients minimize a penalized residual sum of squares : \n",
    "\n",
    "As with other linear models, Ridge will take in its fit method arrays X, y and will store the coefficients  of the linear model in its coef_ member:"
   ]
  },
  {
   "cell_type": "code",
   "execution_count": 10,
   "id": "9b0bf08f-b110-4ef2-be14-2fcbbf91eb0f",
   "metadata": {},
   "outputs": [
    {
     "data": {
      "text/plain": [
       "Ridge(alpha=0.5)"
      ]
     },
     "execution_count": 10,
     "metadata": {},
     "output_type": "execute_result"
    }
   ],
   "source": [
    "from sklearn import linear_model\n",
    "reg = linear_model.Ridge (alpha = .5)\n",
    "reg.fit([[0, 0],[0, 0],[1, 1]],[0,.1,1])\n"
   ]
  },
  {
   "cell_type": "code",
   "execution_count": 11,
   "id": "a74ae6c5-3cb1-42da-885f-85f4c62bfead",
   "metadata": {},
   "outputs": [
    {
     "data": {
      "text/plain": [
       "array([0.34545455, 0.34545455])"
      ]
     },
     "execution_count": 11,
     "metadata": {},
     "output_type": "execute_result"
    }
   ],
   "source": [
    "reg.coef_"
   ]
  },
  {
   "cell_type": "code",
   "execution_count": 12,
   "id": "b0ec6a9f-5fd2-4ef7-9c5b-045bf634976d",
   "metadata": {},
   "outputs": [
    {
     "data": {
      "text/plain": [
       "0.1363636363636364"
      ]
     },
     "execution_count": 12,
     "metadata": {},
     "output_type": "execute_result"
    }
   ],
   "source": [
    "reg.intercept_"
   ]
  },
  {
   "cell_type": "markdown",
   "id": "7c594275-3407-47cc-964c-963984ea1907",
   "metadata": {},
   "source": [
    "## Classification ##\n",
    "\n",
    "The ridge regressor has a classifier variant : RidgeClassifier.\n",
    "It converts binary targetsto [-1,1] and then treats the problem as a regression task, optimizing the same objective as above.\n",
    "For multiclass classification, the problem is treated as multi-output regression, and the predicted class corresponds to the output with the highest value.\n",
    "\n",
    "advantages : \n",
    "1. t might seem questionable to use a (penalized) Least Squares loss to fit a classification model instead of the more traditional logistic or hinge losses. However, in practice, all those models can lead to similar cross-validation scores in terms of accuracy or precision/recall, while the penalized least squares loss used by the RidgeClassifier allows for a very different choice of the numerical solvers with distinct computational performance profiles.\n",
    "2. RidgeClassifier faster than logistic Regression with a high number of classes because it can compute the projection matrix only once\n",
    "This classifier is sometimes referred to as a Least Squares Support Vector Machines with a linear kernel."
   ]
  },
  {
   "cell_type": "markdown",
   "id": "6db8c8b5-ac44-456b-9f98-ab3dc228762a",
   "metadata": {},
   "source": [
    "## Ridge Complexity¶ ##"
   ]
  },
  {
   "cell_type": "code",
   "execution_count": null,
   "id": "201ae378-cae8-417d-b46f-8ec1a0bf03c4",
   "metadata": {},
   "outputs": [],
   "source": [
    "This method has the same order of complexity as Ordinary Least Squares."
   ]
  },
  {
   "cell_type": "markdown",
   "id": "5fdbfb39-5456-4e2a-ad00-612628ff1ac8",
   "metadata": {},
   "source": [
    "## Setting the regularization parameter: leave-one-out Cross-Validation¶ ##"
   ]
  },
  {
   "cell_type": "markdown",
   "id": "ac61ac08-b09d-424c-b548-0c2379207413",
   "metadata": {},
   "source": [
    "RidgeCV implements ridge regression with built-in cross-validation of the alpha parameter. The object works in the same way as GridSearchCV except that it defaults to Leave-One-Out Cross-Validation:"
   ]
  },
  {
   "cell_type": "code",
   "execution_count": 14,
   "id": "337ee071-1794-4350-9318-a85427d16a7e",
   "metadata": {},
   "outputs": [
    {
     "data": {
      "text/plain": [
       "RidgeCV(alphas=array([1.e-06, 1.e-05, 1.e-04, 1.e-03, 1.e-02, 1.e-01, 1.e+00, 1.e+01,\n",
       "       1.e+02, 1.e+03, 1.e+04, 1.e+05, 1.e+06]))"
      ]
     },
     "execution_count": 14,
     "metadata": {},
     "output_type": "execute_result"
    }
   ],
   "source": [
    "import numpy as np\n",
    "from sklearn import linear_model\n",
    "reg = linear_model.RidgeCV(alphas=np.logspace(-6, 6, 13))\n",
    "reg.fit([[0, 0], [0, 0], [1, 1]], [0, .1, 1])\n",
    "\n"
   ]
  },
  {
   "cell_type": "code",
   "execution_count": 15,
   "id": "043b14b3-4e1e-46fb-8d84-2233bf1c6d46",
   "metadata": {},
   "outputs": [
    {
     "data": {
      "text/plain": [
       "0.01"
      ]
     },
     "execution_count": 15,
     "metadata": {},
     "output_type": "execute_result"
    }
   ],
   "source": [
    "reg.alpha_"
   ]
  },
  {
   "cell_type": "markdown",
   "id": "b97c4dcb-71de-4f0b-a8d3-7e81a6e03f49",
   "metadata": {},
   "source": [
    "Specifying the value of the cv attribute will trigger the use of cross-validation with GridSearchCV, for example cv=10 for 10-fold cross-validation, rather than Leave-One-Out Cross-Validation."
   ]
  },
  {
   "cell_type": "markdown",
   "id": "91446153-4631-44b1-8674-596fbfd94bf7",
   "metadata": {},
   "source": [
    "reference:  https://machinelearningmastery.com/ridge-regression-with-python/"
   ]
  },
  {
   "cell_type": "markdown",
   "id": "57d91115-ce2e-4eb4-8007-f200c3b3fc7c",
   "metadata": {},
   "source": [
    "Example : Ridge regression"
   ]
  },
  {
   "cell_type": "markdown",
   "id": "f7179d38-4bc6-4f2d-89cc-3c64618833f6",
   "metadata": {},
   "source": [
    "1.Ridge Regression is an extension of linear regression that adds a regularization penalty to the loss function during training.\n",
    "2. How to evaluate a Ridge Regression model and use a final model to make predictions for new data.\n",
    "3. How to configure the Ridge Regression model for a new dataset via grid search and automatically."
   ]
  },
  {
   "cell_type": "markdown",
   "id": "fc67d62a-9495-47e9-9fda-ed0d168ba4a9",
   "metadata": {},
   "source": [
    "A problem with linear regresssion is that estimated coefficients of the model can be come large , making the model sensitive to inputs and be unstable\n",
    "To overcome this unstability  is to change the loss function to include additional costs for a model that has large coefficients this is otherwise known as penalized linear regression. A popular penalty is to penalize a model based on the sum of the squared coefficient values. L2 penalty. \n",
    "L2 minimises the size of all coeffients , also preventing them from being removed from the model by allowing their value to become zero. \n",
    "\n",
    "This penalty is added to the cost function for linear regression making it known as Ridge regression . \n",
    " A hyper parameter is used called Lambda and this controls the weighting of the penalty to the loss function. \n",
    " \n",
    " 1.0 - default value fully weight the penalty\n",
    " 0 - excludes the penalty\n",
    " but smaller values are also common \n",
    "\n"
   ]
  },
  {
   "cell_type": "markdown",
   "id": "cc3a38b4-11af-428b-9b1f-6b475824a569",
   "metadata": {},
   "source": [
    "## Worked example : ##\n",
    "\n",
    "The housing dataset is a standard machine learning dataset comprising 506 rows of data with 13 numerical input variables and a numerical target variable.\n",
    "\n",
    "Using a test harness of repeated stratified 10-fold cross-validation with three repeats, a naive model can achieve a mean absolute error (MAE) of about 6.6. A top-performing model can achieve a MAE on this same test harness of about 1.9. This provides the bounds of expected performance on this dataset."
   ]
  },
  {
   "cell_type": "code",
   "execution_count": 16,
   "id": "cd61111a-63ce-4bf7-8889-5d090843a8b6",
   "metadata": {},
   "outputs": [
    {
     "name": "stdout",
     "output_type": "stream",
     "text": [
      "(506, 14)\n",
      "        0     1     2   3      4      5     6       7   8      9     10  \\\n",
      "0  0.00632  18.0  2.31   0  0.538  6.575  65.2  4.0900   1  296.0  15.3   \n",
      "1  0.02731   0.0  7.07   0  0.469  6.421  78.9  4.9671   2  242.0  17.8   \n",
      "2  0.02729   0.0  7.07   0  0.469  7.185  61.1  4.9671   2  242.0  17.8   \n",
      "3  0.03237   0.0  2.18   0  0.458  6.998  45.8  6.0622   3  222.0  18.7   \n",
      "4  0.06905   0.0  2.18   0  0.458  7.147  54.2  6.0622   3  222.0  18.7   \n",
      "\n",
      "       11    12    13  \n",
      "0  396.90  4.98  24.0  \n",
      "1  396.90  9.14  21.6  \n",
      "2  392.83  4.03  34.7  \n",
      "3  394.63  2.94  33.4  \n",
      "4  396.90  5.33  36.2  \n"
     ]
    }
   ],
   "source": [
    "# load and summarize the housing dataset\n",
    "from pandas import read_csv\n",
    "from matplotlib import pyplot\n",
    "# load dataset\n",
    "url = 'https://raw.githubusercontent.com/jbrownlee/Datasets/master/housing.csv'\n",
    "dataframe = read_csv(url, header=None)\n",
    "# summarize shape\n",
    "print(dataframe.shape)\n",
    "# summarize first few lines\n",
    "print(dataframe.head())"
   ]
  },
  {
   "cell_type": "markdown",
   "id": "86f3670e-de70-4b4d-bf42-fb64d69ec2ab",
   "metadata": {},
   "source": [
    "The scikit-learn Python machine learning library provides an implementation of the Ridge Regression algorithm via the Ridge class.\n",
    "\n",
    "Confusingly, the lambda term can be configured via the “alpha” argument when defining the class. The default value is 1.0 or a full penalty."
   ]
  },
  {
   "cell_type": "code",
   "execution_count": null,
   "id": "f0545366-4c73-4e9e-94e5-d5a1311c8804",
   "metadata": {},
   "outputs": [],
   "source": [
    "# define model\n",
    "model = Ridge(alpha=1.0)"
   ]
  },
  {
   "cell_type": "markdown",
   "id": "91958771-0877-4fd6-bf6b-e91f67278ff8",
   "metadata": {},
   "source": [
    "We can evaluate the Ridge Regression model on the housing dataset using repeated 10-fold cross-validation and report the average mean absolute error (MAE) on the dataset."
   ]
  },
  {
   "cell_type": "markdown",
   "id": "07dd770c-a8d5-42ce-a7ce-fb3cdab4721d",
   "metadata": {},
   "source": [
    "### What is cross-validataion ? ###\n",
    "\n",
    "\n",
    "Reference : https://machinelearningmastery.com/k-fold-cross-validation/\n",
    "Cross-validation is a resampling procedure used to evaluate machine learning models on a limited data sample.\n",
    "\n",
    "The procedure has a single parameter called k that refers to the number of groups that a given data sample is to be split into. As such, the procedure is often called k-fold cross-validation. When a specific value for k is chosen, it may be used in place of k in the reference to the model, such as k=10 becoming 10-fold cross-validation.\n",
    "\n",
    "Cross-validation is primarily used in applied machine learning to estimate the skill of a machine learning model on unseen data. That is, to use a limited sample in order to estimate how the model is expected to perform in general when used to make predictions on data not used during the training of the model.\n",
    "\n",
    "It is a popular method because it is simple to understand and because it generally results in a less biased or less optimistic estimate of the model skill than other methods, such as a simple train/test split.\n",
    "\n",
    "The general procedure is as follows:\n",
    "\n",
    "Shuffle the dataset randomly.\n",
    "Split the dataset into k groups\n",
    "For each unique group:\n",
    "Take the group as a hold out or test data set\n",
    "Take the remaining groups as a training data set\n",
    "Fit a model on the training set and evaluate it on the test set\n",
    "Retain the evaluation score and discard the model\n",
    "Summarize the skill of the model using the sample of model evaluation scores\n"
   ]
  },
  {
   "cell_type": "code",
   "execution_count": null,
   "id": "7faa6d96-1ac2-4091-9af6-e0a5c2f4acef",
   "metadata": {},
   "outputs": [],
   "source": [
    "Simple example of this  : \n",
    "    \n",
    "  Imagine we have a data sample with 6 observations:\n",
    "\n",
    "[0.1, 0.2, 0.3, 0.4, 0.5, 0.6]\n",
    "The first step is to pick a value for k in order to determine the number of folds used to split the data. Here, we will use a value of k=3. That means we will shuffle the data and then split the data into 3 groups. Because we have 6 observations, each group will have an equal number of 2 observations.\n",
    "\n",
    "For example:\n",
    "\n",
    "Fold1: [0.5, 0.2]\n",
    "Fold2: [0.1, 0.3]\n",
    "Fold3: [0.4, 0.6]\n",
    "We can then make use of the sample, such as to evaluate the skill of a machine learning algorithm.\n",
    "\n",
    "Three models are trained and evaluated with each fold given a chance to be the held out test set.\n",
    "\n",
    "For example:\n",
    "\n",
    "Model1: Trained on Fold1 + Fold2, Tested on Fold3\n",
    "Model2: Trained on Fold2 + Fold3, Tested on Fold1\n",
    "Model3: Trained on Fold1 + Fold3, Tested on Fold2\n",
    "The models are then discarded after they are evaluated as they have served their purpose.\n",
    "\n",
    "The skill scores are collected for each model and summarized for use.  \n",
    "    "
   ]
  },
  {
   "cell_type": "code",
   "execution_count": 18,
   "id": "8465b3bb-caeb-4efc-8a2f-1d4ac874c8ce",
   "metadata": {},
   "outputs": [
    {
     "name": "stdout",
     "output_type": "stream",
     "text": [
      "Mean MAE: 3.382 (0.519)\n"
     ]
    }
   ],
   "source": [
    "# evaluate an ridge regression model on the dataset\n",
    "from numpy import mean\n",
    "from numpy import std\n",
    "from numpy import absolute\n",
    "from pandas import read_csv\n",
    "from sklearn.model_selection import cross_val_score\n",
    "from sklearn.model_selection import RepeatedKFold\n",
    "from sklearn.linear_model import Ridge\n",
    "# load the dataset\n",
    "url = 'https://raw.githubusercontent.com/jbrownlee/Datasets/master/housing.csv'\n",
    "dataframe = read_csv(url, header=None)\n",
    "data = dataframe.values\n",
    "X, y = data[:, :-1], data[:, -1]\n",
    "# define model\n",
    "model = Ridge(alpha=1.0)\n",
    "# define model evaluation method\n",
    "cv = RepeatedKFold(n_splits=10, n_repeats=3, random_state=1)\n",
    "# evaluate model\n",
    "scores = cross_val_score(model, X, y, scoring='neg_mean_absolute_error', cv=cv, n_jobs=-1)\n",
    "# force scores to be positive\n",
    "scores = absolute(scores)\n",
    "print('Mean MAE: %.3f (%.3f)' % (mean(scores), std(scores)))"
   ]
  },
  {
   "cell_type": "markdown",
   "id": "ae6cb24c-d75d-484e-ac1a-aea6bc10a0ab",
   "metadata": {},
   "source": [
    "Running the example evaluates the Ridge Regression algorithm on the housing dataset and reports the average MAE across the three repeats of 10-fold cross-validation.\n",
    "\n",
    "Your specific results may vary given the stochastic nature of the learning algorithm. Consider running the example a few times.\n",
    "\n",
    "In this case, we can see that the model achieved a MAE of about 3.382."
   ]
  },
  {
   "cell_type": "markdown",
   "id": "12b39607-59b5-4d19-b9f3-0967d91ffe2f",
   "metadata": {},
   "source": [
    "We may decide to use the Ridge Regression as our final model and make predictions on new data.\n",
    "\n",
    "This can be achieved by fitting the model on all available data and calling the predict() function, passing in a new row of data.\n",
    "\n",
    "We can demonstrate this with a complete example listed below."
   ]
  },
  {
   "cell_type": "code",
   "execution_count": null,
   "id": "e07f9df4-444c-4488-8d04-78b7821a55fa",
   "metadata": {},
   "outputs": [],
   "source": [
    "# make a prediction with a ridge regression model on the dataset\n",
    "from pandas import read_csv\n",
    "from sklearn.linear_model import Ridge\n",
    "# load the dataset\n",
    "url = 'https://raw.githubusercontent.com/jbrownlee/Datasets/master/housing.csv'\n",
    "dataframe = read_csv(url, header=None)\n",
    "data = dataframe.values\n",
    "X, y = data[:, :-1], data[:, -1]\n",
    "# define model\n",
    "model = Ridge(alpha=1.0)\n",
    "# fit model\n",
    "model.fit(X, y)\n",
    "# define new data\n",
    "row = [0.00632,18.00,2.310,0,0.5380,6.5750,65.20,4.0900,1,296.0,15.30,396.90,4.98]\n",
    "# make a prediction\n",
    "yhat = model.predict([row])\n",
    "# summarize prediction\n",
    "print('Predicted: %.3f' % yhat)"
   ]
  },
  {
   "cell_type": "markdown",
   "id": "d28ec0d5-dc20-427c-9f45-0502cfe4c615",
   "metadata": {},
   "source": [
    "Running the example fits the model and makes a prediction for the new rows of data."
   ]
  },
  {
   "cell_type": "markdown",
   "id": "26634952-1cb4-4bbb-b702-7c36d0c422d4",
   "metadata": {},
   "source": [
    "Tuning Ridge Hyperparameters"
   ]
  },
  {
   "cell_type": "markdown",
   "id": "08ea8ac7-4d51-4ea6-9768-604a681c1330",
   "metadata": {},
   "source": [
    "How do we know that the default hyperparameters of alpha=1.0 is appropriate for our dataset?\n",
    "\n",
    "We don’t.\n",
    "\n",
    "Instead, it is good practice to test a suite of different configurations and discover what works best for our dataset.\n",
    "\n",
    "One approach would be to grid search alpha values from perhaps 1e-5 to 100 on a log scale and discover what works best for a dataset. Another approach would be to test values between 0.0 and 1.0 with a grid separation of 0.01. We will try the latter in this case.\n",
    "\n",
    "The example below demonstrates this using the GridSearchCV class with a grid of values we have defined."
   ]
  },
  {
   "cell_type": "code",
   "execution_count": 21,
   "id": "89e06e11-c9c3-494d-bbe7-b752d51cc0d5",
   "metadata": {},
   "outputs": [
    {
     "name": "stdout",
     "output_type": "stream",
     "text": [
      "MAE: -3.379\n",
      "Config: {'alpha': 0.51}\n"
     ]
    }
   ],
   "source": [
    "# grid search hyperparameters for ridge regression\n",
    "from numpy import arange\n",
    "from pandas import read_csv\n",
    "from sklearn.model_selection import GridSearchCV\n",
    "from sklearn.model_selection import RepeatedKFold\n",
    "from sklearn.linear_model import Ridge\n",
    "# load the dataset\n",
    "url = 'https://raw.githubusercontent.com/jbrownlee/Datasets/master/housing.csv'\n",
    "dataframe = read_csv(url, header=None)\n",
    "data = dataframe.values\n",
    "X, y = data[:, :-1], data[:, -1]\n",
    "# define model\n",
    "model = Ridge()\n",
    "# define model evaluation method\n",
    "cv = RepeatedKFold(n_splits=10, n_repeats=3, random_state=1)\n",
    "# define grid\n",
    "grid = dict()\n",
    "grid['alpha'] = arange(0, 1, 0.01)\n",
    "# define search\n",
    "search = GridSearchCV(model, grid, scoring='neg_mean_absolute_error', cv=cv, n_jobs=-1)\n",
    "# perform the search\n",
    "results = search.fit(X, y)\n",
    "# summarize\n",
    "print('MAE: %.3f' % results.best_score_)\n",
    "print('Config: %s' % results.best_params_)"
   ]
  },
  {
   "cell_type": "markdown",
   "id": "619c49e2-8786-4096-b246-dfba85197592",
   "metadata": {},
   "source": [
    "Running the example will evaluate each combination of configurations using repeated cross-validation.\n",
    "\n",
    "Your specific results may vary given the stochastic nature of the learning algorithm. Try running the example a few times.\n",
    "\n",
    "In this case, we can see that we achieved slightly better results than the default 3.379 vs. 3.382. Ignore the sign; the library makes the MAE negative for optimization purposes.\n",
    "\n",
    "We can see that the model assigned an alpha weight of 0.51 to the penalty."
   ]
  },
  {
   "cell_type": "markdown",
   "id": "904ba860-e211-4f4e-a7a2-25989464deef",
   "metadata": {},
   "source": [
    "The scikit-learn library also provides a built-in version of the algorithm that automatically finds good hyperparameters via the RidgeCV class.\n",
    "\n",
    "To use this class, it is fit on the training dataset and used to make a prediction. During the training process, it automatically tunes the hyperparameter values.\n",
    "\n",
    "By default, the model will only test the alpha values (0.1, 1.0, 10.0). We can change this to a grid of values between 0 and 1 with a separation of 0.01 as we did on the previous example by setting the “alphas” argument.\n",
    "\n",
    "The example below demonstrates this."
   ]
  },
  {
   "cell_type": "code",
   "execution_count": 20,
   "id": "973b0c4a-407b-4a0f-a786-562853cb81ba",
   "metadata": {},
   "outputs": [
    {
     "name": "stdout",
     "output_type": "stream",
     "text": [
      "alpha: 0.510000\n"
     ]
    }
   ],
   "source": [
    "# use automatically configured the ridge regression algorithm\n",
    "from numpy import arange\n",
    "from pandas import read_csv\n",
    "from sklearn.linear_model import RidgeCV\n",
    "from sklearn.model_selection import RepeatedKFold\n",
    "# load the dataset\n",
    "url = 'https://raw.githubusercontent.com/jbrownlee/Datasets/master/housing.csv'\n",
    "dataframe = read_csv(url, header=None)\n",
    "data = dataframe.values\n",
    "X, y = data[:, :-1], data[:, -1]\n",
    "# define model evaluation method\n",
    "cv = RepeatedKFold(n_splits=10, n_repeats=3, random_state=1)\n",
    "# define model\n",
    "model = RidgeCV(alphas=arange(0, 1, 0.01), cv=cv, scoring='neg_mean_absolute_error')\n",
    "# fit model\n",
    "model.fit(X, y)\n",
    "# summarize chosen configuration\n",
    "print('alpha: %f' % model.alpha_)"
   ]
  },
  {
   "cell_type": "markdown",
   "id": "f92d7b57-8eb5-464e-bf02-35041722016f",
   "metadata": {},
   "source": [
    "Running the example fits the model and discovers the hyperparameters that give the best results using cross-validation.\n",
    "\n",
    "Your specific results may vary given the stochastic nature of the learning algorithm. Try running the example a few times.\n",
    "\n",
    "In this case, we can see that the model chose the identical hyperparameter of alpha=0.51 that we found via our manual grid search."
   ]
  },
  {
   "cell_type": "markdown",
   "id": "b782ebc0-0ff4-4c7b-940b-94c0fd50b060",
   "metadata": {},
   "source": [
    "## Lasso regression and classification ##\n",
    "\n",
    "Lasso is a linear model that estimates sparse coefficients\n",
    "\n"
   ]
  }
 ],
 "metadata": {
  "kernelspec": {
   "display_name": "Python 3",
   "language": "python",
   "name": "python3"
  },
  "language_info": {
   "codemirror_mode": {
    "name": "ipython",
    "version": 3
   },
   "file_extension": ".py",
   "mimetype": "text/x-python",
   "name": "python",
   "nbconvert_exporter": "python",
   "pygments_lexer": "ipython3",
   "version": "3.8.8"
  }
 },
 "nbformat": 4,
 "nbformat_minor": 5
}
