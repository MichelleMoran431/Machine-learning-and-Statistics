{
 "cells": [
  {
   "cell_type": "markdown",
   "id": "e40a9b3d-53eb-4d7e-b881-d5fd4c15b270",
   "metadata": {},
   "source": [
    "References : \n",
    "\n",
    "https://medium.com/analytics-vidhya/most-used-scikit-learn-algorithms-part-1-snehit-vaddi-7ec0c98e4edd\n",
    "\n",
    "Scikit-Learn Introduction: https://medium.com/@deepanshugaur1998/scikit-learn-part-1-introduction-fa05b19b76f1\n",
    "Linear Regression: https://towardsdatascience.com/a-beginners-guide-to-linear-regression-in-python-with-scikit-learn-83a8f7ae2b4f\n",
    "SVM: https://www.datacamp.com/community/tutorials/svm-classification-scikit-learn-python\n",
    "Random Forest: https://www.datacamp.com/community/tutorials/random-forests-classifier-python"
   ]
  },
  {
   "cell_type": "markdown",
   "id": "161b29d5-912a-4f17-84dd-16857c5079ab",
   "metadata": {},
   "source": [
    "Basics of Machine learning  : \n",
    "    \n",
    "split into 2 categories  ; \n",
    "\n",
    "Supervised learning - an algorithm is trained on a labeled dataset\n",
    "\n",
    "    - Classification - samples belong to 2 or more classes and we wenat to learn from already lableed data on hoe to predict the class of unlabelled data. \n",
    "    - Regression- if the desired output consists of one or more continous variables , the task is called regresssion. "
   ]
  },
  {
   "cell_type": "markdown",
   "id": "babedcfb-0f93-4e88-b990-f3a0dfb2c1a1",
   "metadata": {},
   "source": [
    "\"\" Introduction to Scikit Learn : \"\"\n",
    "\n",
    " Definition : A Python module for machine learning built on top of SciPy. Offering various important features for machine learning such as classification , regression and clustering algorithms\n",
    " \n",
    " \n",
    "Supervised Algorithms in Scikit-Learn\n",
    "\n",
    "Support Vector Machines\n",
    "Nearest Neighbors\n",
    "Generalized Linear Models\n",
    "Naive Bayes\n",
    "Decision Trees\n",
    "Stochastic Gradient Descent\n",
    "Neural network models (supervised)\n",
    "Multiclass and multilabel algorithms\n",
    "\n",
    "\n",
    "\n",
    "Unsupervised Algorithms In Scikit-Learn:🤠\n",
    "Scikit-learn also offers many useful unsupervised algorithms. Some of them are:\n",
    "-Clustering\n",
    "-Biclustering\n",
    "-Manifold learning\n",
    "-Gaussian mixture models\n",
    "-Novelty and Outlier Detection\n",
    "-Neural network models (unsupervised)."
   ]
  },
  {
   "cell_type": "code",
   "execution_count": null,
   "id": "f5036974-680b-4f6d-b596-c71891ad5e52",
   "metadata": {},
   "outputs": [],
   "source": []
  },
  {
   "cell_type": "markdown",
   "id": "197489f6-8a71-452a-a4a9-0392ad9655a8",
   "metadata": {},
   "source": [
    "## Model Selection and Evaluation in Scikit-Learn:🤓 ##\n",
    "\n",
    "Model selection is the process of choosing between different machine learning approaches — e.g. SVM, logistic regression, etc. Model Evaluation is a process to find the best model that represents our data and how well the chosen model will work in the future. Eg: To avoid Overfitting and Underfitting. Some of the methods offered by scikit-learn are:\n",
    "-Cross-validation: evaluating estimator performance\n",
    "-Tuning the hyper-parameters of an estimator\n",
    "-Model evaluation: quantifying the quality of predictions\n",
    "-Model persistence\n",
    "-Validation curves: plotting scores to evaluate models."
   ]
  },
  {
   "cell_type": "markdown",
   "id": "39ea35f0-7617-4da0-ab98-06b764869f40",
   "metadata": {},
   "source": [
    "Some Scikit-Learn Algorithms :  \n",
    "    \n",
    "    \n",
    "## Support Vector Machines ##\n",
    "Support Vector Machines(SVM) are among one of the most popular and talked about machine learning algorithms. SVM can be used for both Classification and Regression.\n",
    "The main objective of SVM is to find a hyperplane in an N-dimensional space that distinctly classifies the data points. SVM cannot be applied to the majority of large datasets since the classes must be separated by a boundary that should be linear. Detailed Explanation here.\n"
   ]
  },
  {
   "cell_type": "code",
   "execution_count": null,
   "id": "3c265f16-9bdf-48f7-8b60-00b6ecdcc42d",
   "metadata": {},
   "outputs": [],
   "source": [
    "A classification problem :\n",
    "    \n",
    "Use different evaluation metrics :\n",
    "    \n",
    "Accuracy: how often is the classifier correct?\n",
    "Precision: what percentage of positive tuples are labeled as such?\n",
    "What percentage of positive tuples are labeled as such?\n",
    "\n",
    "from sklearn import metrics\n",
    "\n",
    "# Model Accuracy, Model Recall, Model Precision\n",
    "print(\"Accuracy:\",metrics.accuracy_score(y_test, y_pred))\n",
    "print(\"Recall:\",metrics.recall_score(y_test, y_pred))\n",
    "print(\"Precision:\",metrics.precision_score(y_test, y_pred))"
   ]
  },
  {
   "cell_type": "markdown",
   "id": "0619c899-39a2-4460-be5d-75e72f3e179b",
   "metadata": {},
   "source": [
    "## Random Forest model:##\n",
    "Random forest is a supervised ensemble learning algorithm that is used for both classifications as well as regression problems. But however, it is mainly used for classification problems. As we know that a forest is made up of trees and more trees mean more robust forests. Similarly, the random forest algorithm creates decision trees on data samples and then gets the prediction from each of them and finally selects the best solution by means of voting.\n",
    "It is an ensemble method that is better than a single decision tree because it reduces the over-fitting by averaging the result.\n",
    "Why Random?🤔\n",
    "In the Random Forest model, random represents two features, one is a random sampling of training data set whole building trees and the other is random subsets of features considered when splitting nodes.\n",
    "How the Algorithm works?\n",
    "It involves four steps:\n",
    "Step-1: Select random samples from a given dataset.\n",
    "Step-2: Construct a decision tree for each sample and get a prediction result from each decision tree.\n",
    "Step-3: Perform a vote for each predicted result.\n",
    "Step-4: Select the prediction result with the most votes as the final prediction.\n",
    "\n",
    "\n",
    "Now we have a basic idea of working of Random Forests, lets try the algorithm on Iris data which is a built-in dataset of Scikit-learn."
   ]
  }
 ],
 "metadata": {
  "kernelspec": {
   "display_name": "Python 3",
   "language": "python",
   "name": "python3"
  },
  "language_info": {
   "codemirror_mode": {
    "name": "ipython",
    "version": 3
   },
   "file_extension": ".py",
   "mimetype": "text/x-python",
   "name": "python",
   "nbconvert_exporter": "python",
   "pygments_lexer": "ipython3",
   "version": "3.8.8"
  }
 },
 "nbformat": 4,
 "nbformat_minor": 5
}
