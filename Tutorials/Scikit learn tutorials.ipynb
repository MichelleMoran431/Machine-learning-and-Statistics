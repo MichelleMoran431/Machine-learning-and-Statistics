{
 "cells": [
  {
   "cell_type": "code",
   "execution_count": null,
   "id": "55dd03d8-3f69-4ca5-be84-8a2e19b45b47",
   "metadata": {},
   "outputs": [],
   "source": [
    "Reference : https://scikit-learn.org/stable/tutorial/basic/tutorial.html#machine-learning-the-problem-setting"
   ]
  },
  {
   "cell_type": "markdown",
   "id": "659c37c5-a789-4d80-bf01-b822bad87f65",
   "metadata": {},
   "source": [
    "Definitions : \n",
    "\n",
    "** Machine Learning** \n",
    "\n",
    "Defined as learning some properties of a data set and then testing those properties against another data set- evaluate an algorithm by splitting a data set into two : training and testing set.\n",
    "\n",
    "A learning problem that considers a set of n samples of data and then tries to predict properties of unknown data. These learning problems fall into a few categories : \n",
    "\n",
    "- Supervised learning- the data comes with additional attributes that we want to predict \n",
    "    - Classification - samples belong to one or more classes and we want to learn from already labeled data how to predict the class of unlabeled data\n",
    "    - Regression - if the desired output consists of one or more continous variables , then the task is called regression\n",
    "- Unsupervised learning - in which the training data consists of a set of input vectors x without any corresponding target values"
   ]
  },
  {
   "cell_type": "markdown",
   "id": "5c652fe2-5b2e-4dca-8bad-25fb69cd320b",
   "metadata": {},
   "source": [
    "Loading the required datasets : "
   ]
  },
  {
   "cell_type": "code",
   "execution_count": 1,
   "id": "cfcfeb0d-2f20-4783-abcb-5221546fe4cf",
   "metadata": {},
   "outputs": [
    {
     "name": "stdout",
     "output_type": "stream",
     "text": [
      "[[ 0.  0.  5. ...  0.  0.  0.]\n",
      " [ 0.  0.  0. ... 10.  0.  0.]\n",
      " [ 0.  0.  0. ... 16.  9.  0.]\n",
      " ...\n",
      " [ 0.  0.  1. ...  6.  0.  0.]\n",
      " [ 0.  0.  2. ... 12.  0.  0.]\n",
      " [ 0.  0. 10. ... 12.  1.  0.]]\n"
     ]
    }
   ],
   "source": [
    "from sklearn import datasets\n",
    "iris = datasets.load_iris()\n",
    "digits = datasets.load_digits()\n",
    "print(digits.data)"
   ]
  },
  {
   "cell_type": "code",
   "execution_count": 2,
   "id": "3f6149c3-0a79-44e2-ac90-2a2ecdbdcece",
   "metadata": {},
   "outputs": [
    {
     "data": {
      "text/plain": [
       "array([[ 0.,  0.,  5., 13.,  9.,  1.,  0.,  0.],\n",
       "       [ 0.,  0., 13., 15., 10., 15.,  5.,  0.],\n",
       "       [ 0.,  3., 15.,  2.,  0., 11.,  8.,  0.],\n",
       "       [ 0.,  4., 12.,  0.,  0.,  8.,  8.,  0.],\n",
       "       [ 0.,  5.,  8.,  0.,  0.,  9.,  8.,  0.],\n",
       "       [ 0.,  4., 11.,  0.,  1., 12.,  7.,  0.],\n",
       "       [ 0.,  2., 14.,  5., 10., 12.,  0.,  0.],\n",
       "       [ 0.,  0.,  6., 13., 10.,  0.,  0.,  0.]])"
      ]
     },
     "execution_count": 2,
     "metadata": {},
     "output_type": "execute_result"
    }
   ],
   "source": [
    "digits.images[0]"
   ]
  },
  {
   "cell_type": "markdown",
   "id": "8b14d033-70b0-45ff-a561-af7b28695745",
   "metadata": {},
   "source": [
    "data is always a 2D array , shape ( n_samples, n_features),although the original data may have had a different shape. "
   ]
  },
  {
   "cell_type": "markdown",
   "id": "a14b7787-85b1-4217-9472-440cec138b03",
   "metadata": {},
   "source": [
    "External datasets : loading\n",
    "Here are some recommended ways to load standard columnar data into a format usable by scikit-learn:\n",
    "\n",
    "pandas.io provides tools to read data from common formats including CSV, Excel, JSON and SQL. DataFrames may also be constructed from lists of tuples or dicts. Pandas handles heterogeneous data smoothly and provides tools for manipulation and conversion into a numeric array suitable for scikit-learn.\n",
    "\n",
    "scipy.io specializes in binary formats often used in scientific computing context such as .mat and .arff\n",
    "\n",
    "numpy/routines.io for standard loading of columnar data into numpy arrays\n",
    "\n",
    "scikit-learn’s datasets.load_svmlight_file for the svmlight or libSVM sparse format\n",
    "\n",
    "scikit-learn’s datasets.load_files for directories of text files where the name of each directory is the name of each category and each file inside of each directory corresponds to one sample from that category\n"
   ]
  },
  {
   "cell_type": "markdown",
   "id": "f31b5678-27f7-4ae4-a3f5-96e396445f2a",
   "metadata": {},
   "source": [
    "Learning and predicting :\n",
    "\n",
    "For the digits dataset , the task is to predict , given an image which it represents. Samples of each of the 10 possible classes on which we fit an estimator to be able to predict the classes to which unseen samples belong\n",
    "In SCIKIT-LEARN , an estimator for classification is a python object that implements support vector classification."
   ]
  },
  {
   "cell_type": "code",
   "execution_count": 8,
   "id": "841797c8-2c20-4902-a9ab-25f2e0d3e0aa",
   "metadata": {},
   "outputs": [],
   "source": [
    "from sklearn import svm\n",
    ">>> clf = svm.SVC(gamma=0.001, C=100.0)"
   ]
  },
  {
   "cell_type": "markdown",
   "id": "f569197e-5ca9-4bfd-bb7a-a8c41717f238",
   "metadata": {},
   "source": [
    "clf  is estimator instance fitted to the model- to learn from the model.\n",
    "The learning is done by passing our training set to the fit method - using images from our dataset , leaving out the last image which we reserve for our predicting. The training set withe [:-1] will product a new array that contains all but the last iteam from digits.data"
   ]
  },
  {
   "cell_type": "code",
   "execution_count": 10,
   "id": "2971e517-50a9-413c-9f3c-ced46ee4e4c0",
   "metadata": {},
   "outputs": [
    {
     "data": {
      "text/plain": [
       "SVC(C=100.0, gamma=0.001)"
      ]
     },
     "execution_count": 10,
     "metadata": {},
     "output_type": "execute_result"
    }
   ],
   "source": [
    "from sklearn import datasets\n",
    "digits = datasets.load_digits()\n",
    "\n",
    "from sklearn import svm\n",
    "clf = svm.SVC(gamma=0.001, C=100.)\n",
    "clf.fit(digits.data[:-1], digits.target[:-1])\n"
   ]
  },
  {
   "cell_type": "code",
   "execution_count": 9,
   "id": "72cbc85a-dfe1-4aae-8cd1-29fe7e6b5001",
   "metadata": {},
   "outputs": [
    {
     "data": {
      "text/plain": [
       "array([8])"
      ]
     },
     "execution_count": 9,
     "metadata": {},
     "output_type": "execute_result"
    }
   ],
   "source": [
    "import numpy as np\n",
    "clf.predict(digits.data[-1:])\n"
   ]
  },
  {
   "cell_type": "code",
   "execution_count": null,
   "id": "ea7493fa-b4a2-4124-a130-895233a4012e",
   "metadata": {},
   "outputs": [],
   "source": []
  }
 ],
 "metadata": {
  "kernelspec": {
   "display_name": "Python 3",
   "language": "python",
   "name": "python3"
  },
  "language_info": {
   "codemirror_mode": {
    "name": "ipython",
    "version": 3
   },
   "file_extension": ".py",
   "mimetype": "text/x-python",
   "name": "python",
   "nbconvert_exporter": "python",
   "pygments_lexer": "ipython3",
   "version": "3.8.8"
  }
 },
 "nbformat": 4,
 "nbformat_minor": 5
}
