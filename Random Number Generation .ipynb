{
 "cells": [
  {
   "cell_type": "markdown",
   "id": "51f82a72-3466-4144-9c43-23b94417d95a",
   "metadata": {},
   "source": [
    "## Random Values ##\n",
    "\n",
    "https://numpy.org/doc/stable/reference/random/index.html\n",
    "\n",
    "AIM: TO LEARN HOW TO GENERATE RANDOM NUMBERS USING NUMPY\n",
    "\n",
    "\n",
    "## Setup ##\n",
    "\n",
    "**********************"
   ]
  },
  {
   "cell_type": "markdown",
   "id": "6595b6ee-d7f7-4c17-8c5c-31fd4c50484a",
   "metadata": {},
   "source": [
    "Notes : Lots of ways of generating random numbers  : the following are examples"
   ]
  },
  {
   "cell_type": "code",
   "execution_count": 3,
   "id": "b4824c86-ddf1-47d5-ba25-802a25186843",
   "metadata": {},
   "outputs": [],
   "source": [
    "# Random number generation.\n",
    "import numpy as np\n",
    "\n",
    "# Plotting\n",
    "import matplotlib.pyplot as plt"
   ]
  },
  {
   "cell_type": "code",
   "execution_count": 4,
   "id": "2152e96b-5de1-4e72-a662-3d44fdb4fae4",
   "metadata": {},
   "outputs": [],
   "source": [
    "# Plot size.\n",
    "plt.rcParams[\"figure.figsize\"] = (10, 6)\n",
    "\n",
    "# Pyplot style.\n",
    "plt.style.use('classic')"
   ]
  },
  {
   "cell_type": "code",
   "execution_count": 5,
   "id": "40b38a1f-6300-47fa-adc8-ff7f9efaa0a8",
   "metadata": {},
   "outputs": [],
   "source": [
    "# Set this to None to generate random numbers.\n",
    "seed = 1"
   ]
  },
  {
   "cell_type": "code",
   "execution_count": 6,
   "id": "1d5dec15-4bc5-4709-bfe5-2867b157b7e7",
   "metadata": {},
   "outputs": [],
   "source": [
    "# Create an instance of the random number generator.\n",
    "rng = np.random.default_rng(seed=seed)"
   ]
  },
  {
   "cell_type": "markdown",
   "id": "9a9f2258-486d-46e4-b92f-a61a89e75033",
   "metadata": {},
   "source": [
    "<Br>\n",
    "\n",
    "## Uniform ##\n",
    "    \n",
    "**********************************\n",
    "\n",
    "\n",
    "https://numpy.org/doc/stable/reference/random/generated/numpy.random.Generator.uniform.html#numpy.random.Generator.uniform\n",
    "\n",
    "Notes : \n",
    "\n",
    "A function that takes in a low , high ( not included) , size. \n"
   ]
  },
  {
   "cell_type": "code",
   "execution_count": 7,
   "id": "31f9f9cf-7f7c-47b2-be07-2a2a8a7fd3af",
   "metadata": {},
   "outputs": [
    {
     "data": {
      "text/plain": [
       "0.5118216247002567"
      ]
     },
     "execution_count": 7,
     "metadata": {},
     "output_type": "execute_result"
    }
   ],
   "source": [
    "# Generate a single uniform value.\n",
    "rng.uniform()"
   ]
  },
  {
   "cell_type": "code",
   "execution_count": 8,
   "id": "9d27412a-5f14-4497-8888-f4ccd0f7b283",
   "metadata": {},
   "outputs": [
    {
     "data": {
      "text/plain": [
       "95.54173266933418"
      ]
     },
     "execution_count": 8,
     "metadata": {},
     "output_type": "execute_result"
    }
   ],
   "source": [
    "# Generate a single value between 10 and 100.\n",
    "rng.uniform(low=10.0, high=100.0)"
   ]
  },
  {
   "cell_type": "code",
   "execution_count": 9,
   "id": "be5810ab-6d75-4720-9bbb-eab040ad6b24",
   "metadata": {},
   "outputs": [
    {
     "data": {
      "text/plain": [
       "array([0.14415961, 0.94864945, 0.31183145, ..., 0.4814537 , 0.57212589,\n",
       "       0.03130154])"
      ]
     },
     "execution_count": 9,
     "metadata": {},
     "output_type": "execute_result"
    }
   ],
   "source": [
    "# Generate several numbers.\n",
    "nos = rng.uniform(size=10000)\n",
    "nos"
   ]
  },
  {
   "cell_type": "code",
   "execution_count": 10,
   "id": "5938d932-b634-48e7-acc7-4fc6063c8c6e",
   "metadata": {},
   "outputs": [
    {
     "data": {
      "text/plain": [
       "10000"
      ]
     },
     "execution_count": 10,
     "metadata": {},
     "output_type": "execute_result"
    }
   ],
   "source": [
    "# How many did we get?\n",
    "nos.size"
   ]
  },
  {
   "cell_type": "code",
   "execution_count": 40,
   "id": "601fc782-40bf-4d7f-a69b-8dc08a450aed",
   "metadata": {},
   "outputs": [
    {
     "data": {
      "text/plain": [
       "(array([   5.,   88.,  568., 1795., 2894., 2832., 1356.,  400.,   58.,\n",
       "           4.]),\n",
       " array([31. , 34.9, 38.8, 42.7, 46.6, 50.5, 54.4, 58.3, 62.2, 66.1, 70. ]),\n",
       " <BarContainer object of 10 artists>)"
      ]
     },
     "execution_count": 40,
     "metadata": {},
     "output_type": "execute_result"
    },
    {
     "data": {
      "image/png": "[encoded data removed]",
      "text/plain": [
       "<Figure size 576x396 with 1 Axes>"
      ]
     },
     "metadata": {},
     "output_type": "display_data"
    }
   ],
   "source": [
    "# Histogram of nos. - visualisaton of these numbers\n",
    "# What do u expect the histogram to look like ? \n",
    "\n",
    "# returns back 2 arrays  : counts y axis ( list of 10 counts) and 11 different numbers ( 2nd set is the spacing the x axis). \n",
    "# it shows the list of numbers- smallest number and largest number graphed , a 1000 of numbers were between 0 and 0.1 and onwards\n",
    "# this uniform distribution - range ( bin )\n",
    "\n",
    "plt.hist(nos)"
   ]
  },
  {
   "cell_type": "markdown",
   "id": "4ddacdce-9094-4606-9afc-88073e70a994",
   "metadata": {},
   "source": [
    "## Normal ##\n",
    "\n",
    "\n",
    "https://numpy.org/doc/stable/reference/random/generated/numpy.random.Generator.normal.html#numpy.random.Generator.normal\n",
    "\n",
    "\n",
    "\n",
    "\n",
    "Notes : Loc and Scale are the two parameters\n"
   ]
  },
  {
   "cell_type": "code",
   "execution_count": 12,
   "id": "17c6a78c-dbc7-48c4-9e3a-90195141f661",
   "metadata": {},
   "outputs": [
    {
     "data": {
      "text/plain": [
       "0.3629355159220716"
      ]
     },
     "execution_count": 12,
     "metadata": {},
     "output_type": "execute_result"
    }
   ],
   "source": [
    "# Generate single normal value.\n",
    "rng.normal()"
   ]
  },
  {
   "cell_type": "code",
   "execution_count": 43,
   "id": "628393e1-3771-48bd-9907-fa4b3b22c2f8",
   "metadata": {},
   "outputs": [
    {
     "data": {
      "text/plain": [
       "array([ 1.51960153, -1.28297843, -0.76339986, ...,  0.09324907,\n",
       "       -0.55180469, -0.2017961 ])"
      ]
     },
     "execution_count": 43,
     "metadata": {},
     "output_type": "execute_result"
    }
   ],
   "source": [
    "#Generate 10,000 nos\n",
    "nos = rng.normal (size=10000)\n",
    "nos"
   ]
  },
  {
   "cell_type": "code",
   "execution_count": 44,
   "id": "bf6a6fa5-a04f-4d26-a2c6-a2fe02fd9e57",
   "metadata": {},
   "outputs": [
    {
     "data": {
      "text/plain": [
       "(array([  2.,   0.,   1.,   2.,   3.,   6.,   8.,  11.,  14.,  21.,  31.,\n",
       "         44.,  66.,  89.,  99., 138., 165., 191., 271., 332., 386., 426.,\n",
       "        447., 530., 526., 567., 563., 563., 575., 545., 501., 469., 445.,\n",
       "        397., 338., 258., 228., 212., 141., 122.,  82.,  60.,  42.,  34.,\n",
       "         16.,  10.,  10.,   5.,   5.,   3.]),\n",
       " array([-3.95460086, -3.80901503, -3.66342919, -3.51784336, -3.37225753,\n",
       "        -3.22667169, -3.08108586, -2.93550002, -2.78991419, -2.64432835,\n",
       "        -2.49874252, -2.35315669, -2.20757085, -2.06198502, -1.91639918,\n",
       "        -1.77081335, -1.62522751, -1.47964168, -1.33405584, -1.18847001,\n",
       "        -1.04288418, -0.89729834, -0.75171251, -0.60612667, -0.46054084,\n",
       "        -0.314955  , -0.16936917, -0.02378334,  0.1218025 ,  0.26738833,\n",
       "         0.41297417,  0.55856   ,  0.70414584,  0.84973167,  0.9953175 ,\n",
       "         1.14090334,  1.28648917,  1.43207501,  1.57766084,  1.72324668,\n",
       "         1.86883251,  2.01441834,  2.16000418,  2.30559001,  2.45117585,\n",
       "         2.59676168,  2.74234752,  2.88793335,  3.03351918,  3.17910502,\n",
       "         3.32469085]),\n",
       " <BarContainer object of 50 artists>)"
      ]
     },
     "execution_count": 44,
     "metadata": {},
     "output_type": "execute_result"
    },
    {
     "data": {
      "image/png": "[encoded data removed]",
      "text/plain": [
       "<Figure size 576x396 with 1 Axes>"
      ]
     },
     "metadata": {},
     "output_type": "display_data"
    }
   ],
   "source": [
    "# Histogram of nos.\n",
    "plt.hist(nos, bins=50)"
   ]
  },
  {
   "cell_type": "code",
   "execution_count": 14,
   "id": "dd0f8ff3-4bd7-48d6-b9e7-8c69f81b8cb6",
   "metadata": {},
   "outputs": [],
   "source": [
    "# Generate two sets of 10,000 values with different loc's.\n",
    "nos_A = rng.normal(loc=1.0, size=10000)\n",
    "nos_B = rng.normal(loc=3.0, size=10000)"
   ]
  },
  {
   "cell_type": "code",
   "execution_count": 15,
   "id": "bb2624dd-10f4-4528-ae48-9c5ff9c40f60",
   "metadata": {},
   "outputs": [
    {
     "data": {
      "image/png": "[encoded data removed]",
      "text/plain": [
       "<Figure size 576x396 with 1 Axes>"
      ]
     },
     "metadata": {},
     "output_type": "display_data"
    }
   ],
   "source": [
    "# Create a new pyplot figure. alpha adds transperancy to the graphs\n",
    "fig, ax = plt.subplots()\n",
    "\n",
    "# Histogram of nos.\n",
    "ax.hist(nos_A, bins=100, alpha=0.5)\n",
    "ax.hist(nos_B, bins=100, alpha=0.5);"
   ]
  },
  {
   "cell_type": "code",
   "execution_count": 16,
   "id": "6abd1e99-fbc4-48a9-834c-e09419855037",
   "metadata": {},
   "outputs": [],
   "source": [
    "# Generate two sets of 10,000 values with different scale's.\n",
    "nos_A = rng.normal(scale=0.5, size=10000)\n",
    "nos_B = rng.normal(scale=0.1, size=10000)"
   ]
  },
  {
   "cell_type": "code",
   "execution_count": 17,
   "id": "bf33ecb4-5206-4795-92e3-8fb26d716665",
   "metadata": {},
   "outputs": [
    {
     "data": {
      "image/png": "[encoded data removed]",
      "text/plain": [
       "<Figure size 576x396 with 1 Axes>"
      ]
     },
     "metadata": {},
     "output_type": "display_data"
    }
   ],
   "source": [
    "# Create a new pyplot figure.\n",
    "fig, ax = plt.subplots()\n",
    "\n",
    "# Histogram of nos.\n",
    "ax.hist(nos_A,  alpha=0.5, bins=40, density=True)\n",
    "ax.hist(nos_B,  alpha=0.5, bins=40, density=True);"
   ]
  },
  {
   "cell_type": "markdown",
   "id": "01ff0d04-fbfc-44e5-bf39-141d76e2818e",
   "metadata": {},
   "source": [
    "## Binomial ##\n",
    "\n",
    "\n",
    "https://numpy.org/doc/stable/reference/random/generated/numpy.random.Generator.binomial.html#numpy.random.Generator.binomial"
   ]
  },
  {
   "cell_type": "code",
   "execution_count": 18,
   "id": "46caaf11-f258-4756-bc4a-f6c03fb6a950",
   "metadata": {},
   "outputs": [
    {
     "data": {
      "text/plain": [
       "1"
      ]
     },
     "execution_count": 18,
     "metadata": {},
     "output_type": "execute_result"
    }
   ],
   "source": [
    "# Generate single number.\n",
    "rng.binomial(n=1, p=0.5)"
   ]
  },
  {
   "cell_type": "code",
   "execution_count": 19,
   "id": "53edcfba-daf7-4789-8054-884497f5cd67",
   "metadata": {},
   "outputs": [
    {
     "data": {
      "text/plain": [
       "array([1, 0, 1, ..., 1, 1, 1], dtype=int64)"
      ]
     },
     "execution_count": 19,
     "metadata": {},
     "output_type": "execute_result"
    }
   ],
   "source": [
    "# Generate 10,000 numbers.\n",
    "nos = rng.binomial(n=1, p=0.5, size=10000)\n",
    "nos"
   ]
  },
  {
   "cell_type": "code",
   "execution_count": 20,
   "id": "3e14ef5e-9636-488f-8afa-ef5751f8b8cd",
   "metadata": {},
   "outputs": [
    {
     "data": {
      "text/plain": [
       "<BarContainer object of 2 artists>"
      ]
     },
     "execution_count": 20,
     "metadata": {},
     "output_type": "execute_result"
    },
    {
     "data": {
      "image/png": "[encoded data removed]",
      "text/plain": [
       "<Figure size 576x396 with 1 Axes>"
      ]
     },
     "metadata": {},
     "output_type": "display_data"
    }
   ],
   "source": [
    "# Create a bar chart.\n",
    "plt.bar([\"Fail\", \"Success\"], [nos.size - nos.sum(), nos.sum()])"
   ]
  },
  {
   "cell_type": "code",
   "execution_count": 21,
   "id": "2a7a4ff5-bf8d-428e-acf9-65dafa61f84c",
   "metadata": {},
   "outputs": [
    {
     "data": {
      "text/plain": [
       "array([0, 0, 0, ..., 0, 0, 0], dtype=int64)"
      ]
     },
     "execution_count": 21,
     "metadata": {},
     "output_type": "execute_result"
    }
   ],
   "source": [
    "# Generate 10,000 numbers.\n",
    "nos = rng.binomial(n=1, p=0.1, size=10000)\n",
    "nos"
   ]
  },
  {
   "cell_type": "code",
   "execution_count": 22,
   "id": "296dd494-c624-4a48-b060-55b23d2f2838",
   "metadata": {},
   "outputs": [
    {
     "data": {
      "text/plain": [
       "<BarContainer object of 2 artists>"
      ]
     },
     "execution_count": 22,
     "metadata": {},
     "output_type": "execute_result"
    },
    {
     "data": {
      "image/png": "[encoded data removed]",
      "text/plain": [
       "<Figure size 576x396 with 1 Axes>"
      ]
     },
     "metadata": {},
     "output_type": "display_data"
    }
   ],
   "source": [
    "# Create a bar chart.\n",
    "plt.bar([\"Fail\", \"Success\"], [nos.size - nos.sum(), nos.sum()])"
   ]
  },
  {
   "cell_type": "code",
   "execution_count": 23,
   "id": "49292286-2706-4158-9685-b98fd4aea203",
   "metadata": {},
   "outputs": [
    {
     "data": {
      "text/plain": [
       "array([1, 2, 1, ..., 3, 0, 1], dtype=int64)"
      ]
     },
     "execution_count": 23,
     "metadata": {},
     "output_type": "execute_result"
    }
   ],
   "source": [
    "# Generate 10,000 numbers with n=10 and p=0.1.\n",
    "nos = rng.binomial(n=10, p=0.1, size=10000)\n",
    "nos"
   ]
  },
  {
   "cell_type": "code",
   "execution_count": 24,
   "id": "b3be0b71-eb91-4f13-abc0-dba2977dbb27",
   "metadata": {},
   "outputs": [],
   "source": [
    "unique, counts = np.unique(nos, return_counts=True)"
   ]
  },
  {
   "cell_type": "code",
   "execution_count": 25,
   "id": "df13bbe2-115c-4e54-857b-3926644a92cb",
   "metadata": {},
   "outputs": [
    {
     "data": {
      "text/plain": [
       "<BarContainer object of 7 artists>"
      ]
     },
     "execution_count": 25,
     "metadata": {},
     "output_type": "execute_result"
    },
    {
     "data": {
      "image/png": "[encoded data removed]",
      "text/plain": [
       "<Figure size 576x396 with 1 Axes>"
      ]
     },
     "metadata": {},
     "output_type": "display_data"
    }
   ],
   "source": [
    "# Plot a bar chart.\n",
    "plt.bar(unique, counts)"
   ]
  },
  {
   "cell_type": "code",
   "execution_count": 26,
   "id": "fe81f670-8ae2-4a1a-bad9-966c447c29f4",
   "metadata": {},
   "outputs": [
    {
     "data": {
      "text/plain": [
       "array([42, 49, 56, ..., 48, 48, 52], dtype=int64)"
      ]
     },
     "execution_count": 26,
     "metadata": {},
     "output_type": "execute_result"
    }
   ],
   "source": [
    "# Generate 10,000 numbers.\n",
    "nos = rng.binomial(n=100, p=0.5, size=10000)\n",
    "nos"
   ]
  },
  {
   "cell_type": "code",
   "execution_count": 27,
   "id": "c8786f0b-6458-4555-b61a-08d3b8a49748",
   "metadata": {},
   "outputs": [],
   "source": [
    "unique, counts = np.unique(nos, return_counts=True)"
   ]
  },
  {
   "cell_type": "code",
   "execution_count": 28,
   "id": "49d34a64-4983-4935-baa0-517e07e440dd",
   "metadata": {},
   "outputs": [
    {
     "data": {
      "text/plain": [
       "<BarContainer object of 39 artists>"
      ]
     },
     "execution_count": 28,
     "metadata": {},
     "output_type": "execute_result"
    },
    {
     "data": {
      "image/png": "[encoded data removed]",
      "text/plain": [
       "<Figure size 576x396 with 1 Axes>"
      ]
     },
     "metadata": {},
     "output_type": "display_data"
    }
   ],
   "source": [
    "# Plot a bar chart.\n",
    "plt.bar(unique, counts)"
   ]
  },
  {
   "cell_type": "markdown",
   "id": "f001a235-3a8c-46db-92ba-46dee0247628",
   "metadata": {},
   "source": [
    "## Normal Samples ##\n",
    "\n",
    "\n",
    "https://numpy.org/doc/stable/reference/random/generated/numpy.random.Generator.normal.html#numpy.random.Generator.normal"
   ]
  },
  {
   "cell_type": "code",
   "execution_count": 29,
   "id": "73277158-ea72-4b82-b9e5-bbc03234a829",
   "metadata": {},
   "outputs": [],
   "source": [
    "# Generate 10,000 samples of 100 normally generated numbers.\n",
    "samples = rng.normal(loc=0.0, size=(10000, 100))"
   ]
  },
  {
   "cell_type": "code",
   "execution_count": 30,
   "id": "9f8cc911-ffd9-4a7c-bdc4-7af0a5c6ab7f",
   "metadata": {},
   "outputs": [
    {
     "data": {
      "text/plain": [
       "array([[ 1.73161429,  0.65423774,  0.75134942, ..., -0.32211361,\n",
       "         0.07083172, -1.33700559],\n",
       "       [-1.25441046,  0.55538329,  1.61357124, ..., -1.59110213,\n",
       "        -1.08376162,  1.66042652],\n",
       "       [-1.83984703, -0.92408342,  0.03261952, ...,  1.37258552,\n",
       "         0.20837581,  1.16469378],\n",
       "       ...,\n",
       "       [-1.20714381, -1.20718349, -0.97034929, ..., -0.33588371,\n",
       "        -0.26153574,  0.12530377],\n",
       "       [ 0.55902186, -1.49888822, -0.28687903, ..., -0.05566224,\n",
       "        -0.71726853,  1.56771176],\n",
       "       [-0.16730851, -0.63507178,  2.50791482, ..., -0.51272703,\n",
       "         0.44582026, -0.25367703]])"
      ]
     },
     "execution_count": 30,
     "metadata": {},
     "output_type": "execute_result"
    }
   ],
   "source": [
    "samples"
   ]
  },
  {
   "cell_type": "code",
   "execution_count": 31,
   "id": "3e3b690c-1a69-4651-8fa2-17818c6f097c",
   "metadata": {},
   "outputs": [
    {
     "data": {
      "text/plain": [
       "(10000, 100)"
      ]
     },
     "execution_count": 31,
     "metadata": {},
     "output_type": "execute_result"
    }
   ],
   "source": [
    "# an array is created of 10000 things and each of those things is list of 100 numbers normally distributed\n",
    "\n",
    "samples.shape"
   ]
  },
  {
   "cell_type": "code",
   "execution_count": 32,
   "id": "b4dc83e2-90d4-4ecd-b32d-f5515535f24d",
   "metadata": {},
   "outputs": [
    {
     "data": {
      "image/png": "[encoded data removed]",
      "text/plain": [
       "<Figure size 576x396 with 1 Axes>"
      ]
     },
     "metadata": {},
     "output_type": "display_data"
    }
   ],
   "source": [
    "# Histogram of nos. ( 1,000,000)\n",
    "plt.hist(samples.flatten(), bins=20);"
   ]
  },
  {
   "cell_type": "code",
   "execution_count": 33,
   "id": "189d6112-fc16-4658-9fb5-b85aa3cfe1ac",
   "metadata": {},
   "outputs": [
    {
     "data": {
      "text/plain": [
       "0.00017164531896770376"
      ]
     },
     "execution_count": 33,
     "metadata": {},
     "output_type": "execute_result"
    }
   ],
   "source": [
    "# Calculate the mean of all the sample numbers.take all  million nos. and average\n",
    "samples.mean()"
   ]
  },
  {
   "cell_type": "code",
   "execution_count": 34,
   "id": "4440507b-a319-4f80-814c-9eca4dc461c1",
   "metadata": {},
   "outputs": [
    {
     "data": {
      "text/plain": [
       "array([ 0.13862946, -0.1603531 , -0.01090391, ..., -0.00761019,\n",
       "       -0.02732081,  0.04964487])"
      ]
     },
     "execution_count": 34,
     "metadata": {},
     "output_type": "execute_result"
    }
   ],
   "source": [
    "# Calculate the mean of all the samples, each of the 1000 samples generated, across each row of array and calculate mean\n",
    "mean_samples = samples.mean(axis=1)\n",
    "mean_samples"
   ]
  },
  {
   "cell_type": "code",
   "execution_count": 35,
   "id": "57c6e023-eec3-404e-81d9-4a958a5928d0",
   "metadata": {},
   "outputs": [
    {
     "data": {
      "text/plain": [
       "(10000,)"
      ]
     },
     "execution_count": 35,
     "metadata": {},
     "output_type": "execute_result"
    }
   ],
   "source": [
    "mean_samples.shape"
   ]
  },
  {
   "cell_type": "code",
   "execution_count": 36,
   "id": "b32e6ebf-8e2c-46ec-bda9-422ef49bb544",
   "metadata": {},
   "outputs": [
    {
     "data": {
      "image/png": "[encoded data removed]",
      "text/plain": [
       "<Figure size 576x396 with 1 Axes>"
      ]
     },
     "metadata": {},
     "output_type": "display_data"
    }
   ],
   "source": [
    "# Histogram of nos.\n",
    "plt.hist(mean_samples, bins=20);"
   ]
  },
  {
   "cell_type": "markdown",
   "id": "0d93d50e-684a-4146-97a2-b2662295ee1b",
   "metadata": {},
   "source": [
    "Differences betweem the two histograms - the standard deviations are different , 0.1 and 0.3. \n",
    "in a real world example, measure some experiemnt, u get 100 number that are randomly generated. ur job is to look at the numbers and determine something about the world. why those numbers , determine the parameters , whats the loc and etc \n",
    "so with t tests and anova  - generate 2 sets of samples a and b . set the loc to different ranges. deterine the means of the samples in each set. then plt one on top of the other, by changing the loc , the histograms can overlap. try to figure out when u have 2 histograms based on normal distributions, determine what the center point is close. sampling distribution its called. "
   ]
  },
  {
   "cell_type": "code",
   "execution_count": 37,
   "id": "835d50f4-76b4-44d5-933f-8f92bf5ded27",
   "metadata": {},
   "outputs": [],
   "source": [
    "# Generate two sets of 10,000 samples of 100 normally generated numbers.\n",
    "samples_A = rng.normal(loc=1.0, scale=10.0, size=(10000, 100))\n",
    "samples_B = rng.normal(loc=1.1, scale=10.0, size=(10000, 100))"
   ]
  },
  {
   "cell_type": "code",
   "execution_count": 38,
   "id": "a42f920d-2605-4428-8ace-cd75213cc48a",
   "metadata": {},
   "outputs": [],
   "source": [
    "# Calculate the means of the samples in each set.\n",
    "mean_samples_A = samples_A.mean(axis=1)\n",
    "mean_samples_B = samples_B.mean(axis=1)"
   ]
  },
  {
   "cell_type": "code",
   "execution_count": 39,
   "id": "f750bce9-37b3-44d6-83f5-6c8719c08c88",
   "metadata": {},
   "outputs": [
    {
     "data": {
      "image/png": "[encoded data removed]",
      "text/plain": [
       "<Figure size 576x396 with 1 Axes>"
      ]
     },
     "metadata": {},
     "output_type": "display_data"
    }
   ],
   "source": [
    "# Create a new pyplot figure.\n",
    "fig, ax = plt.subplots()\n",
    "\n",
    "# Histogram of nos.\n",
    "ax.hist(mean_samples_A,  alpha=0.5, bins=40, density=True)\n",
    "ax.hist(mean_samples_B,  alpha=0.5, bins=40, density=True);"
   ]
  },
  {
   "cell_type": "markdown",
   "id": "012056d6-1d05-44d8-bdec-5638586e66a9",
   "metadata": {},
   "source": [
    "##END##"
   ]
  },
  {
   "cell_type": "code",
   "execution_count": null,
   "id": "3cbf90f7-5ccc-4ebb-b699-8298e6a2b36c",
   "metadata": {},
   "outputs": [],
   "source": []
  }
 ],
 "metadata": {
  "kernelspec": {
   "display_name": "Python 3",
   "language": "python",
   "name": "python3"
  },
  "language_info": {
   "codemirror_mode": {
    "name": "ipython",
    "version": 3
   },
   "file_extension": ".py",
   "mimetype": "text/x-python",
   "name": "python",
   "nbconvert_exporter": "python",
   "pygments_lexer": "ipython3",
   "version": "3.8.8"
  }
 },
 "nbformat": 4,
 "nbformat_minor": 5
}
